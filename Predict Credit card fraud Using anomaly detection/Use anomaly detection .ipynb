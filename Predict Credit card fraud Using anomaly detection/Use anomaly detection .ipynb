{
 "cells": [
  {
   "cell_type": "markdown",
   "id": "active-belize",
   "metadata": {},
   "source": [
    "# Credit Card Fraud\n",
    "\n",
    "This dataset consists of credit card transactions in the western United States. It includes information about each transaction including customer details, the merchant and category of purchase, and whether or not the transaction was a fraud.\n",
    "\n",
    "Not sure where to begin? Scroll to the bottom to find challenges!"
   ]
  },
  {
   "cell_type": "code",
   "execution_count": 1,
   "id": "inclusive-leeds",
   "metadata": {},
   "outputs": [
    {
     "data": {
      "text/html": [
       "<div>\n",
       "<style scoped>\n",
       "    .dataframe tbody tr th:only-of-type {\n",
       "        vertical-align: middle;\n",
       "    }\n",
       "\n",
       "    .dataframe tbody tr th {\n",
       "        vertical-align: top;\n",
       "    }\n",
       "\n",
       "    .dataframe thead th {\n",
       "        text-align: right;\n",
       "    }\n",
       "</style>\n",
       "<table border=\"1\" class=\"dataframe\">\n",
       "  <thead>\n",
       "    <tr style=\"text-align: right;\">\n",
       "      <th></th>\n",
       "      <th>trans_date_trans_time</th>\n",
       "      <th>merchant</th>\n",
       "      <th>category</th>\n",
       "      <th>amt</th>\n",
       "      <th>city</th>\n",
       "      <th>state</th>\n",
       "      <th>lat</th>\n",
       "      <th>long</th>\n",
       "      <th>city_pop</th>\n",
       "      <th>job</th>\n",
       "      <th>dob</th>\n",
       "      <th>trans_num</th>\n",
       "      <th>merch_lat</th>\n",
       "      <th>merch_long</th>\n",
       "      <th>is_fraud</th>\n",
       "    </tr>\n",
       "  </thead>\n",
       "  <tbody>\n",
       "    <tr>\n",
       "      <th>0</th>\n",
       "      <td>2019-01-01 00:00:44</td>\n",
       "      <td>Heller, Gutmann and Zieme</td>\n",
       "      <td>grocery_pos</td>\n",
       "      <td>107.23</td>\n",
       "      <td>Orient</td>\n",
       "      <td>WA</td>\n",
       "      <td>48.8878</td>\n",
       "      <td>-118.2105</td>\n",
       "      <td>149</td>\n",
       "      <td>Special educational needs teacher</td>\n",
       "      <td>1978-06-21</td>\n",
       "      <td>1f76529f8574734946361c461b024d99</td>\n",
       "      <td>49.159047</td>\n",
       "      <td>-118.186462</td>\n",
       "      <td>0</td>\n",
       "    </tr>\n",
       "    <tr>\n",
       "      <th>1</th>\n",
       "      <td>2019-01-01 00:00:51</td>\n",
       "      <td>Lind-Buckridge</td>\n",
       "      <td>entertainment</td>\n",
       "      <td>220.11</td>\n",
       "      <td>Malad City</td>\n",
       "      <td>ID</td>\n",
       "      <td>42.1808</td>\n",
       "      <td>-112.2620</td>\n",
       "      <td>4154</td>\n",
       "      <td>Nature conservation officer</td>\n",
       "      <td>1962-01-19</td>\n",
       "      <td>a1a22d70485983eac12b5b88dad1cf95</td>\n",
       "      <td>43.150704</td>\n",
       "      <td>-112.154481</td>\n",
       "      <td>0</td>\n",
       "    </tr>\n",
       "    <tr>\n",
       "      <th>2</th>\n",
       "      <td>2019-01-01 00:07:27</td>\n",
       "      <td>Kiehn Inc</td>\n",
       "      <td>grocery_pos</td>\n",
       "      <td>96.29</td>\n",
       "      <td>Grenada</td>\n",
       "      <td>CA</td>\n",
       "      <td>41.6125</td>\n",
       "      <td>-122.5258</td>\n",
       "      <td>589</td>\n",
       "      <td>Systems analyst</td>\n",
       "      <td>1945-12-21</td>\n",
       "      <td>413636e759663f264aae1819a4d4f231</td>\n",
       "      <td>41.657520</td>\n",
       "      <td>-122.230347</td>\n",
       "      <td>0</td>\n",
       "    </tr>\n",
       "    <tr>\n",
       "      <th>3</th>\n",
       "      <td>2019-01-01 00:09:03</td>\n",
       "      <td>Beier-Hyatt</td>\n",
       "      <td>shopping_pos</td>\n",
       "      <td>7.77</td>\n",
       "      <td>High Rolls Mountain Park</td>\n",
       "      <td>NM</td>\n",
       "      <td>32.9396</td>\n",
       "      <td>-105.8189</td>\n",
       "      <td>899</td>\n",
       "      <td>Naval architect</td>\n",
       "      <td>1967-08-30</td>\n",
       "      <td>8a6293af5ed278dea14448ded2685fea</td>\n",
       "      <td>32.863258</td>\n",
       "      <td>-106.520205</td>\n",
       "      <td>0</td>\n",
       "    </tr>\n",
       "    <tr>\n",
       "      <th>4</th>\n",
       "      <td>2019-01-01 00:21:32</td>\n",
       "      <td>Bruen-Yost</td>\n",
       "      <td>misc_pos</td>\n",
       "      <td>6.85</td>\n",
       "      <td>Freedom</td>\n",
       "      <td>WY</td>\n",
       "      <td>43.0172</td>\n",
       "      <td>-111.0292</td>\n",
       "      <td>471</td>\n",
       "      <td>Education officer, museum</td>\n",
       "      <td>1967-08-02</td>\n",
       "      <td>f3c43d336e92a44fc2fb67058d5949e3</td>\n",
       "      <td>43.753735</td>\n",
       "      <td>-111.454923</td>\n",
       "      <td>0</td>\n",
       "    </tr>\n",
       "  </tbody>\n",
       "</table>\n",
       "</div>"
      ],
      "text/plain": [
       "  trans_date_trans_time                   merchant       category     amt  \\\n",
       "0   2019-01-01 00:00:44  Heller, Gutmann and Zieme    grocery_pos  107.23   \n",
       "1   2019-01-01 00:00:51             Lind-Buckridge  entertainment  220.11   \n",
       "2   2019-01-01 00:07:27                  Kiehn Inc    grocery_pos   96.29   \n",
       "3   2019-01-01 00:09:03                Beier-Hyatt   shopping_pos    7.77   \n",
       "4   2019-01-01 00:21:32                 Bruen-Yost       misc_pos    6.85   \n",
       "\n",
       "                       city state      lat      long  city_pop  \\\n",
       "0                    Orient    WA  48.8878 -118.2105       149   \n",
       "1                Malad City    ID  42.1808 -112.2620      4154   \n",
       "2                   Grenada    CA  41.6125 -122.5258       589   \n",
       "3  High Rolls Mountain Park    NM  32.9396 -105.8189       899   \n",
       "4                   Freedom    WY  43.0172 -111.0292       471   \n",
       "\n",
       "                                 job         dob  \\\n",
       "0  Special educational needs teacher  1978-06-21   \n",
       "1        Nature conservation officer  1962-01-19   \n",
       "2                    Systems analyst  1945-12-21   \n",
       "3                    Naval architect  1967-08-30   \n",
       "4          Education officer, museum  1967-08-02   \n",
       "\n",
       "                          trans_num  merch_lat  merch_long  is_fraud  \n",
       "0  1f76529f8574734946361c461b024d99  49.159047 -118.186462         0  \n",
       "1  a1a22d70485983eac12b5b88dad1cf95  43.150704 -112.154481         0  \n",
       "2  413636e759663f264aae1819a4d4f231  41.657520 -122.230347         0  \n",
       "3  8a6293af5ed278dea14448ded2685fea  32.863258 -106.520205         0  \n",
       "4  f3c43d336e92a44fc2fb67058d5949e3  43.753735 -111.454923         0  "
      ]
     },
     "execution_count": 1,
     "metadata": {},
     "output_type": "execute_result"
    }
   ],
   "source": [
    "import pandas as pd \n",
    "import numpy as np\n",
    "from scipy.stats import multivariate_normal\n",
    "import matplotlib.pyplot as plt \n",
    "\n",
    "df = pd.read_csv('/Users/chanoknantsaelee/Desktop/Work/Learning/Credit card/credit_card_fraud.csv')\n",
    "df.head()"
   ]
  },
  {
   "cell_type": "markdown",
   "id": "79fbba19-d197-4a48-a01b-db4e78a02282",
   "metadata": {},
   "source": [
    "## Data Dictionary\n",
    "\n",
    "| transdatetrans_time | Transaction DateTime                        |\n",
    "|---------------------|---------------------------------------------|\n",
    "| merchant            | Merchant Name                               |\n",
    "| category            | Category of Merchant                        |\n",
    "| amt                 | Amount of Transaction                       |\n",
    "| city                | City of Credit Card Holder                  |\n",
    "| state               | State of Credit Card Holder                 |\n",
    "| lat                 | Latitude Location of Purchase               |\n",
    "| long                | Longitude Location of Purchase              |\n",
    "| city_pop            | Credit Card Holder's City Population        |\n",
    "| job                 | Job of Credit Card Holder                   |\n",
    "| dob                 | Date of Birth of Credit Card Holder         |\n",
    "| trans_num           | Transaction Number                          |\n",
    "| merch_lat           | Latitude Location of Merchant               |\n",
    "| merch_long          | Longitude Location of Merchant              |\n",
    "| is_fraud            | Whether Transaction is Fraud (1) or Not (0) |"
   ]
  },
  {
   "cell_type": "markdown",
   "id": "f86011a3-ce1e-4810-8b06-a7cfbd45a288",
   "metadata": {},
   "source": [
    "[Source](https://www.kaggle.com/kartik2112/fraud-detection?select=fraudTrain.csv) of dataset. The data was partially cleaned and adapted by DataCamp."
   ]
  },
  {
   "cell_type": "markdown",
   "id": "6ac777ab",
   "metadata": {},
   "source": [
    "## Don't know where to start?\n",
    "\n",
    "**Challenges are brief tasks designed to help you practice specific skills:**\n",
    "\n",
    "- 🗺️ **Explore**: What types of purchases are most likely to be instances of fraud? Consider both product category and the amount of the transaction.\n",
    "- 📊 **Visualize**: Use a geospatial plot to visualize the fraud rates across different states.\n",
    "- 🔎 **Analyze**: Are older customers significantly more likely to be victims of credit card fraud?\n",
    "\n",
    "**Scenarios are broader questions to help you develop an end-to-end project for your portfolio:**\n",
    "\n",
    "A new credit card company has just entered the market in the western United States. The company is promoting itself as one of the safest credit cards to use. They have hired you as their data scientist in charge of identifying instances of fraud. The executive who hired you has have provided you with data on credit card transactions, including whether or not each transaction was fraudulent.\n",
    "\n",
    "The executive wants to know how accurately you can predict fraud using this data. She has stressed that the model should err on the side of caution: it is not a big problem to flag transactions as fraudulent when they aren't just to be safe. In your report, you will need to describe how well your model functions and how it adheres to these criteria.\n",
    "\n",
    "You will need to prepare a report that is accessible to a broad audience. It will need to outline your motivation, analysis steps, findings, and conclusions.\n",
    "\n",
    "---\n",
    "\n",
    "✍️ _If you have an idea for an interesting Scenario or Challenge, or have feedback on our existing ones, let us know! You can submit feedback by pressing the question mark in the top right corner of the screen and selecting \"Give Feedback\". Include the phrase \"Content Feedback\" to help us flag it in our system._"
   ]
  },
  {
   "cell_type": "code",
   "execution_count": 2,
   "id": "fa27c51c",
   "metadata": {},
   "outputs": [
    {
     "data": {
      "text/plain": [
       "(339607, 15)"
      ]
     },
     "execution_count": 2,
     "metadata": {},
     "output_type": "execute_result"
    }
   ],
   "source": [
    "df.shape"
   ]
  },
  {
   "cell_type": "code",
   "execution_count": 3,
   "id": "e467c938",
   "metadata": {},
   "outputs": [
    {
     "data": {
      "text/plain": [
       "trans_date_trans_time    0\n",
       "merchant                 0\n",
       "category                 0\n",
       "amt                      0\n",
       "city                     0\n",
       "state                    0\n",
       "lat                      0\n",
       "long                     0\n",
       "city_pop                 0\n",
       "job                      0\n",
       "dob                      0\n",
       "trans_num                0\n",
       "merch_lat                0\n",
       "merch_long               0\n",
       "is_fraud                 0\n",
       "dtype: int64"
      ]
     },
     "execution_count": 3,
     "metadata": {},
     "output_type": "execute_result"
    }
   ],
   "source": [
    "df.isna().sum()"
   ]
  },
  {
   "cell_type": "code",
   "execution_count": 4,
   "id": "5c5e77ff",
   "metadata": {},
   "outputs": [
    {
     "data": {
      "text/plain": [
       "Surveyor, minerals              6589\n",
       "Surveyor, land/geomatics        5855\n",
       "Land/geomatics surveyor         5119\n",
       "Insurance broker                5108\n",
       "Systems analyst                 4398\n",
       "                                ... \n",
       "Landscape architect                9\n",
       "Systems developer                  9\n",
       "Research scientist (medical)       8\n",
       "Information officer                8\n",
       "Clinical cytogeneticist            7\n",
       "Name: job, Length: 163, dtype: int64"
      ]
     },
     "execution_count": 4,
     "metadata": {},
     "output_type": "execute_result"
    }
   ],
   "source": [
    "df['job'].value_counts()"
   ]
  },
  {
   "cell_type": "code",
   "execution_count": 5,
   "id": "757c99e2",
   "metadata": {},
   "outputs": [
    {
     "data": {
      "text/plain": [
       "Phoenix          7297\n",
       "Fort Washakie    5116\n",
       "Thompson         4386\n",
       "Superior         4383\n",
       "Conway           4381\n",
       "                 ... \n",
       "Seligman           10\n",
       "Wappapello          8\n",
       "Pleasant Hill       8\n",
       "Buellton            8\n",
       "Vacaville           7\n",
       "Name: city, Length: 176, dtype: int64"
      ]
     },
     "execution_count": 5,
     "metadata": {},
     "output_type": "execute_result"
    }
   ],
   "source": [
    "df.city.value_counts()"
   ]
  },
  {
   "cell_type": "code",
   "execution_count": 6,
   "id": "ecf4ca15",
   "metadata": {},
   "outputs": [
    {
     "data": {
      "text/plain": [
       "163"
      ]
     },
     "execution_count": 6,
     "metadata": {},
     "output_type": "execute_result"
    }
   ],
   "source": [
    "len(df['job'].unique())"
   ]
  },
  {
   "cell_type": "code",
   "execution_count": 7,
   "id": "45dbcdb6",
   "metadata": {},
   "outputs": [
    {
     "data": {
      "text/html": [
       "<div>\n",
       "<style scoped>\n",
       "    .dataframe tbody tr th:only-of-type {\n",
       "        vertical-align: middle;\n",
       "    }\n",
       "\n",
       "    .dataframe tbody tr th {\n",
       "        vertical-align: top;\n",
       "    }\n",
       "\n",
       "    .dataframe thead th {\n",
       "        text-align: right;\n",
       "    }\n",
       "</style>\n",
       "<table border=\"1\" class=\"dataframe\">\n",
       "  <thead>\n",
       "    <tr style=\"text-align: right;\">\n",
       "      <th></th>\n",
       "      <th>amt</th>\n",
       "      <th>lat</th>\n",
       "      <th>long</th>\n",
       "      <th>city_pop</th>\n",
       "      <th>merch_lat</th>\n",
       "      <th>merch_long</th>\n",
       "      <th>is_fraud</th>\n",
       "    </tr>\n",
       "  </thead>\n",
       "  <tbody>\n",
       "    <tr>\n",
       "      <th>count</th>\n",
       "      <td>339607.000000</td>\n",
       "      <td>339607.000000</td>\n",
       "      <td>339607.000000</td>\n",
       "      <td>3.396070e+05</td>\n",
       "      <td>339607.000000</td>\n",
       "      <td>339607.000000</td>\n",
       "      <td>339607.000000</td>\n",
       "    </tr>\n",
       "    <tr>\n",
       "      <th>mean</th>\n",
       "      <td>70.577984</td>\n",
       "      <td>39.718991</td>\n",
       "      <td>-110.622605</td>\n",
       "      <td>1.071409e+05</td>\n",
       "      <td>39.718853</td>\n",
       "      <td>-110.622383</td>\n",
       "      <td>0.005247</td>\n",
       "    </tr>\n",
       "    <tr>\n",
       "      <th>std</th>\n",
       "      <td>161.675242</td>\n",
       "      <td>5.094961</td>\n",
       "      <td>12.651370</td>\n",
       "      <td>2.930299e+05</td>\n",
       "      <td>5.130894</td>\n",
       "      <td>12.663998</td>\n",
       "      <td>0.072248</td>\n",
       "    </tr>\n",
       "    <tr>\n",
       "      <th>min</th>\n",
       "      <td>1.000000</td>\n",
       "      <td>20.027100</td>\n",
       "      <td>-165.672300</td>\n",
       "      <td>4.600000e+01</td>\n",
       "      <td>19.027422</td>\n",
       "      <td>-166.671575</td>\n",
       "      <td>0.000000</td>\n",
       "    </tr>\n",
       "    <tr>\n",
       "      <th>25%</th>\n",
       "      <td>9.600000</td>\n",
       "      <td>36.715400</td>\n",
       "      <td>-120.093600</td>\n",
       "      <td>4.710000e+02</td>\n",
       "      <td>36.817194</td>\n",
       "      <td>-119.823755</td>\n",
       "      <td>0.000000</td>\n",
       "    </tr>\n",
       "    <tr>\n",
       "      <th>50%</th>\n",
       "      <td>46.460000</td>\n",
       "      <td>39.617100</td>\n",
       "      <td>-111.098500</td>\n",
       "      <td>1.645000e+03</td>\n",
       "      <td>39.586209</td>\n",
       "      <td>-111.036443</td>\n",
       "      <td>0.000000</td>\n",
       "    </tr>\n",
       "    <tr>\n",
       "      <th>75%</th>\n",
       "      <td>83.350000</td>\n",
       "      <td>41.710000</td>\n",
       "      <td>-100.621500</td>\n",
       "      <td>3.543900e+04</td>\n",
       "      <td>42.193072</td>\n",
       "      <td>-100.353096</td>\n",
       "      <td>0.000000</td>\n",
       "    </tr>\n",
       "    <tr>\n",
       "      <th>max</th>\n",
       "      <td>28948.900000</td>\n",
       "      <td>66.693300</td>\n",
       "      <td>-89.628700</td>\n",
       "      <td>2.383912e+06</td>\n",
       "      <td>67.510267</td>\n",
       "      <td>-88.629203</td>\n",
       "      <td>1.000000</td>\n",
       "    </tr>\n",
       "  </tbody>\n",
       "</table>\n",
       "</div>"
      ],
      "text/plain": [
       "                 amt            lat           long      city_pop  \\\n",
       "count  339607.000000  339607.000000  339607.000000  3.396070e+05   \n",
       "mean       70.577984      39.718991    -110.622605  1.071409e+05   \n",
       "std       161.675242       5.094961      12.651370  2.930299e+05   \n",
       "min         1.000000      20.027100    -165.672300  4.600000e+01   \n",
       "25%         9.600000      36.715400    -120.093600  4.710000e+02   \n",
       "50%        46.460000      39.617100    -111.098500  1.645000e+03   \n",
       "75%        83.350000      41.710000    -100.621500  3.543900e+04   \n",
       "max     28948.900000      66.693300     -89.628700  2.383912e+06   \n",
       "\n",
       "           merch_lat     merch_long       is_fraud  \n",
       "count  339607.000000  339607.000000  339607.000000  \n",
       "mean       39.718853    -110.622383       0.005247  \n",
       "std         5.130894      12.663998       0.072248  \n",
       "min        19.027422    -166.671575       0.000000  \n",
       "25%        36.817194    -119.823755       0.000000  \n",
       "50%        39.586209    -111.036443       0.000000  \n",
       "75%        42.193072    -100.353096       0.000000  \n",
       "max        67.510267     -88.629203       1.000000  "
      ]
     },
     "execution_count": 7,
     "metadata": {},
     "output_type": "execute_result"
    }
   ],
   "source": [
    "df.describe()"
   ]
  },
  {
   "cell_type": "code",
   "execution_count": 8,
   "id": "42963290",
   "metadata": {},
   "outputs": [],
   "source": [
    "df_filter = df[['amt','lat','long','city_pop','merch_lat','merch_long']]"
   ]
  },
  {
   "cell_type": "code",
   "execution_count": 9,
   "id": "05f61caf",
   "metadata": {},
   "outputs": [
    {
     "data": {
      "text/html": [
       "<div>\n",
       "<style scoped>\n",
       "    .dataframe tbody tr th:only-of-type {\n",
       "        vertical-align: middle;\n",
       "    }\n",
       "\n",
       "    .dataframe tbody tr th {\n",
       "        vertical-align: top;\n",
       "    }\n",
       "\n",
       "    .dataframe thead th {\n",
       "        text-align: right;\n",
       "    }\n",
       "</style>\n",
       "<table border=\"1\" class=\"dataframe\">\n",
       "  <thead>\n",
       "    <tr style=\"text-align: right;\">\n",
       "      <th></th>\n",
       "      <th>amt</th>\n",
       "      <th>lat</th>\n",
       "      <th>long</th>\n",
       "      <th>city_pop</th>\n",
       "      <th>merch_lat</th>\n",
       "      <th>merch_long</th>\n",
       "    </tr>\n",
       "  </thead>\n",
       "  <tbody>\n",
       "    <tr>\n",
       "      <th>0</th>\n",
       "      <td>107.23</td>\n",
       "      <td>48.8878</td>\n",
       "      <td>-118.2105</td>\n",
       "      <td>149</td>\n",
       "      <td>49.159047</td>\n",
       "      <td>-118.186462</td>\n",
       "    </tr>\n",
       "    <tr>\n",
       "      <th>1</th>\n",
       "      <td>220.11</td>\n",
       "      <td>42.1808</td>\n",
       "      <td>-112.2620</td>\n",
       "      <td>4154</td>\n",
       "      <td>43.150704</td>\n",
       "      <td>-112.154481</td>\n",
       "    </tr>\n",
       "    <tr>\n",
       "      <th>2</th>\n",
       "      <td>96.29</td>\n",
       "      <td>41.6125</td>\n",
       "      <td>-122.5258</td>\n",
       "      <td>589</td>\n",
       "      <td>41.657520</td>\n",
       "      <td>-122.230347</td>\n",
       "    </tr>\n",
       "    <tr>\n",
       "      <th>3</th>\n",
       "      <td>7.77</td>\n",
       "      <td>32.9396</td>\n",
       "      <td>-105.8189</td>\n",
       "      <td>899</td>\n",
       "      <td>32.863258</td>\n",
       "      <td>-106.520205</td>\n",
       "    </tr>\n",
       "    <tr>\n",
       "      <th>4</th>\n",
       "      <td>6.85</td>\n",
       "      <td>43.0172</td>\n",
       "      <td>-111.0292</td>\n",
       "      <td>471</td>\n",
       "      <td>43.753735</td>\n",
       "      <td>-111.454923</td>\n",
       "    </tr>\n",
       "  </tbody>\n",
       "</table>\n",
       "</div>"
      ],
      "text/plain": [
       "      amt      lat      long  city_pop  merch_lat  merch_long\n",
       "0  107.23  48.8878 -118.2105       149  49.159047 -118.186462\n",
       "1  220.11  42.1808 -112.2620      4154  43.150704 -112.154481\n",
       "2   96.29  41.6125 -122.5258       589  41.657520 -122.230347\n",
       "3    7.77  32.9396 -105.8189       899  32.863258 -106.520205\n",
       "4    6.85  43.0172 -111.0292       471  43.753735 -111.454923"
      ]
     },
     "execution_count": 9,
     "metadata": {},
     "output_type": "execute_result"
    }
   ],
   "source": [
    "df_filter.head()"
   ]
  },
  {
   "cell_type": "code",
   "execution_count": 10,
   "id": "f58c5b22",
   "metadata": {},
   "outputs": [
    {
     "data": {
      "image/png": "[encoded data removed]",
      "text/plain": [
       "<Figure size 640x480 with 1 Axes>"
      ]
     },
     "metadata": {},
     "output_type": "display_data"
    }
   ],
   "source": [
    "# check which festure have normal distribution \n",
    "plt.hist(df_filter['amt'],bins= 20)\n",
    "plt.show()"
   ]
  },
  {
   "cell_type": "code",
   "execution_count": 11,
   "id": "a68fcbef",
   "metadata": {},
   "outputs": [],
   "source": [
    "def toNMD(x) :\n",
    "    result = np.log(x)\n",
    "    return result\n",
    "    "
   ]
  },
  {
   "cell_type": "code",
   "execution_count": 12,
   "id": "28b140d4",
   "metadata": {},
   "outputs": [
    {
     "data": {
      "image/png": "[encoded data removed]",
      "text/plain": [
       "<Figure size 640x480 with 1 Axes>"
      ]
     },
     "metadata": {},
     "output_type": "display_data"
    }
   ],
   "source": [
    "# change the amt to normal distribution \n",
    "plt.hist(df_filter['amt'].apply(toNMD),bins= 20)\n",
    "plt.show()"
   ]
  },
  {
   "cell_type": "markdown",
   "id": "8532dc99",
   "metadata": {},
   "source": [
    ">> Almost the normal distribution but after trying +1 +2 +... still not a good Normal distribution "
   ]
  },
  {
   "cell_type": "code",
   "execution_count": 13,
   "id": "ff07f489",
   "metadata": {},
   "outputs": [],
   "source": [
    "def toNMD2(x) :\n",
    "    result = x**0.07\n",
    "    return result"
   ]
  },
  {
   "cell_type": "code",
   "execution_count": 14,
   "id": "84fa1d45",
   "metadata": {},
   "outputs": [
    {
     "data": {
      "image/png": "[encoded data removed]",
      "text/plain": [
       "<Figure size 640x480 with 1 Axes>"
      ]
     },
     "metadata": {},
     "output_type": "display_data"
    }
   ],
   "source": [
    "# change the amt to normal distribution \n",
    "plt.hist(df_filter['amt'].apply(toNMD2),bins= 20)\n",
    "plt.show()"
   ]
  },
  {
   "cell_type": "code",
   "execution_count": 15,
   "id": "fc42f91e",
   "metadata": {},
   "outputs": [
    {
     "name": "stderr",
     "output_type": "stream",
     "text": [
      "/var/folders/m4/mqwz4y154cd5h9gpw9pwh86m0000gn/T/ipykernel_3877/3341732422.py:2: SettingWithCopyWarning: \n",
      "A value is trying to be set on a copy of a slice from a DataFrame.\n",
      "Try using .loc[row_indexer,col_indexer] = value instead\n",
      "\n",
      "See the caveats in the documentation: https://pandas.pydata.org/pandas-docs/stable/user_guide/indexing.html#returning-a-view-versus-a-copy\n",
      "  df_filter['amt']=df_filter['amt'].apply(toNMD2)\n"
     ]
    }
   ],
   "source": [
    "# this seem to be better so I will use **0.07  \n",
    "df_filter['amt']=df_filter['amt'].apply(toNMD2)"
   ]
  },
  {
   "cell_type": "code",
   "execution_count": 16,
   "id": "85aa52cd",
   "metadata": {},
   "outputs": [],
   "source": [
    "# preprocess for city_pop \n",
    "def toNMD3(x) :\n",
    "    return np.log(x)"
   ]
  },
  {
   "cell_type": "code",
   "execution_count": 17,
   "id": "6d81ca9b",
   "metadata": {},
   "outputs": [
    {
     "data": {
      "image/png": "[encoded data removed]",
      "text/plain": [
       "<Figure size 640x480 with 1 Axes>"
      ]
     },
     "metadata": {},
     "output_type": "display_data"
    }
   ],
   "source": [
    "plt.hist(df_filter['city_pop'].apply(toNMD),bins= 20)\n",
    "plt.show()"
   ]
  },
  {
   "cell_type": "code",
   "execution_count": 18,
   "id": "a8deea2d",
   "metadata": {},
   "outputs": [
    {
     "name": "stderr",
     "output_type": "stream",
     "text": [
      "/var/folders/m4/mqwz4y154cd5h9gpw9pwh86m0000gn/T/ipykernel_3877/3232988144.py:1: SettingWithCopyWarning: \n",
      "A value is trying to be set on a copy of a slice from a DataFrame.\n",
      "Try using .loc[row_indexer,col_indexer] = value instead\n",
      "\n",
      "See the caveats in the documentation: https://pandas.pydata.org/pandas-docs/stable/user_guide/indexing.html#returning-a-view-versus-a-copy\n",
      "  df_filter['city_pop']=df_filter['city_pop'].apply(toNMD3)\n"
     ]
    }
   ],
   "source": [
    "df_filter['city_pop']=df_filter['city_pop'].apply(toNMD3)"
   ]
  },
  {
   "cell_type": "code",
   "execution_count": 19,
   "id": "30b21c45",
   "metadata": {},
   "outputs": [],
   "source": [
    "df_filter = df_filter[['amt','city_pop']]"
   ]
  },
  {
   "cell_type": "code",
   "execution_count": 20,
   "id": "374381fc",
   "metadata": {},
   "outputs": [],
   "source": [
    "X = df_filter.values"
   ]
  },
  {
   "cell_type": "code",
   "execution_count": 21,
   "id": "efae8776",
   "metadata": {},
   "outputs": [],
   "source": [
    "s = np.sum(X,axis = 0)"
   ]
  },
  {
   "cell_type": "code",
   "execution_count": 22,
   "id": "02d9e020",
   "metadata": {},
   "outputs": [],
   "source": [
    "mean = s/X.shape[0]\n",
    "variance = np.sum((X-mean)**2,axis = 0)/X.shape[0]"
   ]
  },
  {
   "cell_type": "code",
   "execution_count": 23,
   "id": "802942a9",
   "metadata": {},
   "outputs": [
    {
     "name": "stdout",
     "output_type": "stream",
     "text": [
      "mean vector = [1.27913413 8.25358602] \n",
      "variance vector = [0.01493794 7.84544904]\n"
     ]
    }
   ],
   "source": [
    "print('mean vector =', mean,\n",
    "      '\\nvariance vector =', variance)"
   ]
  },
  {
   "cell_type": "code",
   "execution_count": 24,
   "id": "2f3ee169",
   "metadata": {},
   "outputs": [],
   "source": [
    "# input V as matrix of data \n",
    "def calculate_Px(V) :\n",
    "    assert V.shape[1] == X.shape[1]\n",
    "    Px = np.zeros(V.shape[0])\n",
    "    for num in range(V.shape[0]) :\n",
    "        P = 1 \n",
    "        for i in range(V[num].shape[0]) :\n",
    "            P = P * multivariate_normal.pdf(V[num][i],mean = mean[i], cov = variance[i])        \n",
    "        Px[num] = P\n",
    "    return Px"
   ]
  },
  {
   "cell_type": "code",
   "execution_count": 25,
   "id": "3dd90533",
   "metadata": {},
   "outputs": [],
   "source": [
    "# Create column in df as P(x) "
   ]
  },
  {
   "cell_type": "code",
   "execution_count": 26,
   "id": "0c3ee3ef",
   "metadata": {},
   "outputs": [],
   "source": [
    "X[:,0] = toNMD2(X[:,0])"
   ]
  },
  {
   "cell_type": "code",
   "execution_count": 27,
   "id": "2a0c736d",
   "metadata": {},
   "outputs": [],
   "source": [
    "X[:,1] = toNMD3(X[:,1])"
   ]
  },
  {
   "cell_type": "code",
   "execution_count": 28,
   "id": "c19a23e0",
   "metadata": {},
   "outputs": [],
   "source": [
    "score = calculate_Px(X)"
   ]
  },
  {
   "cell_type": "code",
   "execution_count": 29,
   "id": "7bd08a69",
   "metadata": {},
   "outputs": [],
   "source": [
    "df['Px_score'] = score"
   ]
  },
  {
   "cell_type": "code",
   "execution_count": 30,
   "id": "1dfa724e",
   "metadata": {},
   "outputs": [
    {
     "data": {
      "text/html": [
       "<div>\n",
       "<style scoped>\n",
       "    .dataframe tbody tr th:only-of-type {\n",
       "        vertical-align: middle;\n",
       "    }\n",
       "\n",
       "    .dataframe tbody tr th {\n",
       "        vertical-align: top;\n",
       "    }\n",
       "\n",
       "    .dataframe thead th {\n",
       "        text-align: right;\n",
       "    }\n",
       "</style>\n",
       "<table border=\"1\" class=\"dataframe\">\n",
       "  <thead>\n",
       "    <tr style=\"text-align: right;\">\n",
       "      <th></th>\n",
       "      <th>trans_date_trans_time</th>\n",
       "      <th>merchant</th>\n",
       "      <th>category</th>\n",
       "      <th>amt</th>\n",
       "      <th>city</th>\n",
       "      <th>state</th>\n",
       "      <th>lat</th>\n",
       "      <th>long</th>\n",
       "      <th>city_pop</th>\n",
       "      <th>job</th>\n",
       "      <th>dob</th>\n",
       "      <th>trans_num</th>\n",
       "      <th>merch_lat</th>\n",
       "      <th>merch_long</th>\n",
       "      <th>is_fraud</th>\n",
       "      <th>Px_score</th>\n",
       "    </tr>\n",
       "  </thead>\n",
       "  <tbody>\n",
       "    <tr>\n",
       "      <th>0</th>\n",
       "      <td>2019-01-01 00:00:44</td>\n",
       "      <td>Heller, Gutmann and Zieme</td>\n",
       "      <td>grocery_pos</td>\n",
       "      <td>107.23</td>\n",
       "      <td>Orient</td>\n",
       "      <td>WA</td>\n",
       "      <td>48.8878</td>\n",
       "      <td>-118.2105</td>\n",
       "      <td>149</td>\n",
       "      <td>Special educational needs teacher</td>\n",
       "      <td>1978-06-21</td>\n",
       "      <td>1f76529f8574734946361c461b024d99</td>\n",
       "      <td>49.159047</td>\n",
       "      <td>-118.186462</td>\n",
       "      <td>0</td>\n",
       "      <td>0.003115</td>\n",
       "    </tr>\n",
       "    <tr>\n",
       "      <th>1</th>\n",
       "      <td>2019-01-01 00:00:51</td>\n",
       "      <td>Lind-Buckridge</td>\n",
       "      <td>entertainment</td>\n",
       "      <td>220.11</td>\n",
       "      <td>Malad City</td>\n",
       "      <td>ID</td>\n",
       "      <td>42.1808</td>\n",
       "      <td>-112.2620</td>\n",
       "      <td>4154</td>\n",
       "      <td>Nature conservation officer</td>\n",
       "      <td>1962-01-19</td>\n",
       "      <td>a1a22d70485983eac12b5b88dad1cf95</td>\n",
       "      <td>43.150704</td>\n",
       "      <td>-112.154481</td>\n",
       "      <td>0</td>\n",
       "      <td>0.005017</td>\n",
       "    </tr>\n",
       "    <tr>\n",
       "      <th>2</th>\n",
       "      <td>2019-01-01 00:07:27</td>\n",
       "      <td>Kiehn Inc</td>\n",
       "      <td>grocery_pos</td>\n",
       "      <td>96.29</td>\n",
       "      <td>Grenada</td>\n",
       "      <td>CA</td>\n",
       "      <td>41.6125</td>\n",
       "      <td>-122.5258</td>\n",
       "      <td>589</td>\n",
       "      <td>Systems analyst</td>\n",
       "      <td>1945-12-21</td>\n",
       "      <td>413636e759663f264aae1819a4d4f231</td>\n",
       "      <td>41.657520</td>\n",
       "      <td>-122.230347</td>\n",
       "      <td>0</td>\n",
       "      <td>0.003776</td>\n",
       "    </tr>\n",
       "    <tr>\n",
       "      <th>3</th>\n",
       "      <td>2019-01-01 00:09:03</td>\n",
       "      <td>Beier-Hyatt</td>\n",
       "      <td>shopping_pos</td>\n",
       "      <td>7.77</td>\n",
       "      <td>High Rolls Mountain Park</td>\n",
       "      <td>NM</td>\n",
       "      <td>32.9396</td>\n",
       "      <td>-105.8189</td>\n",
       "      <td>899</td>\n",
       "      <td>Naval architect</td>\n",
       "      <td>1967-08-30</td>\n",
       "      <td>8a6293af5ed278dea14448ded2685fea</td>\n",
       "      <td>32.863258</td>\n",
       "      <td>-106.520205</td>\n",
       "      <td>0</td>\n",
       "      <td>0.003191</td>\n",
       "    </tr>\n",
       "    <tr>\n",
       "      <th>4</th>\n",
       "      <td>2019-01-01 00:21:32</td>\n",
       "      <td>Bruen-Yost</td>\n",
       "      <td>misc_pos</td>\n",
       "      <td>6.85</td>\n",
       "      <td>Freedom</td>\n",
       "      <td>WY</td>\n",
       "      <td>43.0172</td>\n",
       "      <td>-111.0292</td>\n",
       "      <td>471</td>\n",
       "      <td>Education officer, museum</td>\n",
       "      <td>1967-08-02</td>\n",
       "      <td>f3c43d336e92a44fc2fb67058d5949e3</td>\n",
       "      <td>43.753735</td>\n",
       "      <td>-111.454923</td>\n",
       "      <td>0</td>\n",
       "      <td>0.002909</td>\n",
       "    </tr>\n",
       "  </tbody>\n",
       "</table>\n",
       "</div>"
      ],
      "text/plain": [
       "  trans_date_trans_time                   merchant       category     amt  \\\n",
       "0   2019-01-01 00:00:44  Heller, Gutmann and Zieme    grocery_pos  107.23   \n",
       "1   2019-01-01 00:00:51             Lind-Buckridge  entertainment  220.11   \n",
       "2   2019-01-01 00:07:27                  Kiehn Inc    grocery_pos   96.29   \n",
       "3   2019-01-01 00:09:03                Beier-Hyatt   shopping_pos    7.77   \n",
       "4   2019-01-01 00:21:32                 Bruen-Yost       misc_pos    6.85   \n",
       "\n",
       "                       city state      lat      long  city_pop  \\\n",
       "0                    Orient    WA  48.8878 -118.2105       149   \n",
       "1                Malad City    ID  42.1808 -112.2620      4154   \n",
       "2                   Grenada    CA  41.6125 -122.5258       589   \n",
       "3  High Rolls Mountain Park    NM  32.9396 -105.8189       899   \n",
       "4                   Freedom    WY  43.0172 -111.0292       471   \n",
       "\n",
       "                                 job         dob  \\\n",
       "0  Special educational needs teacher  1978-06-21   \n",
       "1        Nature conservation officer  1962-01-19   \n",
       "2                    Systems analyst  1945-12-21   \n",
       "3                    Naval architect  1967-08-30   \n",
       "4          Education officer, museum  1967-08-02   \n",
       "\n",
       "                          trans_num  merch_lat  merch_long  is_fraud  Px_score  \n",
       "0  1f76529f8574734946361c461b024d99  49.159047 -118.186462         0  0.003115  \n",
       "1  a1a22d70485983eac12b5b88dad1cf95  43.150704 -112.154481         0  0.005017  \n",
       "2  413636e759663f264aae1819a4d4f231  41.657520 -122.230347         0  0.003776  \n",
       "3  8a6293af5ed278dea14448ded2685fea  32.863258 -106.520205         0  0.003191  \n",
       "4  f3c43d336e92a44fc2fb67058d5949e3  43.753735 -111.454923         0  0.002909  "
      ]
     },
     "execution_count": 30,
     "metadata": {},
     "output_type": "execute_result"
    }
   ],
   "source": [
    "df.head()"
   ]
  },
  {
   "cell_type": "code",
   "execution_count": 31,
   "id": "1406380f",
   "metadata": {},
   "outputs": [
    {
     "data": {
      "image/png": "[encoded data removed]",
      "text/plain": [
       "<Figure size 640x480 with 1 Axes>"
      ]
     },
     "metadata": {},
     "output_type": "display_data"
    }
   ],
   "source": [
    "plt.boxplot(df['Px_score'])\n",
    "plt.show()"
   ]
  },
  {
   "cell_type": "markdown",
   "id": "82fd4ce0",
   "metadata": {},
   "source": [
    "There is one outlier here looking from boxplot "
   ]
  },
  {
   "cell_type": "code",
   "execution_count": 32,
   "id": "cbdf54da",
   "metadata": {},
   "outputs": [],
   "source": [
    "# Evaluate model \n",
    "fraud = df[df['is_fraud'] == 1]\n",
    "notfraud = df[df['is_fraud'] == 0]"
   ]
  },
  {
   "cell_type": "code",
   "execution_count": 33,
   "id": "41ef6b37",
   "metadata": {},
   "outputs": [
    {
     "data": {
      "image/png": "[encoded data removed]",
      "text/plain": [
       "<Figure size 640x480 with 1 Axes>"
      ]
     },
     "metadata": {},
     "output_type": "display_data"
    }
   ],
   "source": [
    "# Px_score is the score indicate propability of the transaction to be fraud (calculate from anomaly detection)\n",
    "plt.boxplot(fraud['Px_score'])\n",
    "plt.show()"
   ]
  },
  {
   "cell_type": "code",
   "execution_count": 34,
   "id": "ca1f4ce4",
   "metadata": {},
   "outputs": [
    {
     "data": {
      "text/plain": [
       "count    1782.000000\n",
       "mean        0.004986\n",
       "std         0.001487\n",
       "min         0.001987\n",
       "25%         0.003862\n",
       "50%         0.004732\n",
       "75%         0.005851\n",
       "max         0.008714\n",
       "Name: Px_score, dtype: float64"
      ]
     },
     "execution_count": 34,
     "metadata": {},
     "output_type": "execute_result"
    }
   ],
   "source": [
    "fraud['Px_score'].describe()"
   ]
  },
  {
   "cell_type": "code",
   "execution_count": 35,
   "id": "36b61bae",
   "metadata": {},
   "outputs": [
    {
     "data": {
      "text/plain": [
       "count    339607.000000\n",
       "mean          0.004170\n",
       "std           0.001229\n",
       "min           0.001632\n",
       "25%           0.003230\n",
       "50%           0.003959\n",
       "75%           0.005040\n",
       "max           0.010059\n",
       "Name: Px_score, dtype: float64"
      ]
     },
     "execution_count": 35,
     "metadata": {},
     "output_type": "execute_result"
    }
   ],
   "source": [
    "df['Px_score'].describe()"
   ]
  },
  {
   "cell_type": "markdown",
   "id": "f504bac4",
   "metadata": {},
   "source": [
    " This model is useless because fraud and not fraud has almost same minimum and mean Px-score -> change to use Supervised learning / add more feature  "
   ]
  },
  {
   "cell_type": "markdown",
   "id": "08bdb216",
   "metadata": {},
   "source": [
    "# Use decision tree to detect fraud , First try to visualize the fruad data ,since from now on we will use supervised learning "
   ]
  },
  {
   "cell_type": "code",
   "execution_count": 36,
   "id": "08d19e0a",
   "metadata": {},
   "outputs": [
    {
     "data": {
      "text/html": [
       "<div>\n",
       "<style scoped>\n",
       "    .dataframe tbody tr th:only-of-type {\n",
       "        vertical-align: middle;\n",
       "    }\n",
       "\n",
       "    .dataframe tbody tr th {\n",
       "        vertical-align: top;\n",
       "    }\n",
       "\n",
       "    .dataframe thead th {\n",
       "        text-align: right;\n",
       "    }\n",
       "</style>\n",
       "<table border=\"1\" class=\"dataframe\">\n",
       "  <thead>\n",
       "    <tr style=\"text-align: right;\">\n",
       "      <th></th>\n",
       "      <th>trans_date_trans_time</th>\n",
       "      <th>merchant</th>\n",
       "      <th>category</th>\n",
       "      <th>amt</th>\n",
       "      <th>city</th>\n",
       "      <th>state</th>\n",
       "      <th>lat</th>\n",
       "      <th>long</th>\n",
       "      <th>city_pop</th>\n",
       "      <th>job</th>\n",
       "      <th>dob</th>\n",
       "      <th>trans_num</th>\n",
       "      <th>merch_lat</th>\n",
       "      <th>merch_long</th>\n",
       "      <th>is_fraud</th>\n",
       "      <th>Px_score</th>\n",
       "    </tr>\n",
       "  </thead>\n",
       "  <tbody>\n",
       "    <tr>\n",
       "      <th>0</th>\n",
       "      <td>2019-01-01 00:00:44</td>\n",
       "      <td>Heller, Gutmann and Zieme</td>\n",
       "      <td>grocery_pos</td>\n",
       "      <td>107.23</td>\n",
       "      <td>Orient</td>\n",
       "      <td>WA</td>\n",
       "      <td>48.8878</td>\n",
       "      <td>-118.2105</td>\n",
       "      <td>149</td>\n",
       "      <td>Special educational needs teacher</td>\n",
       "      <td>1978-06-21</td>\n",
       "      <td>1f76529f8574734946361c461b024d99</td>\n",
       "      <td>49.159047</td>\n",
       "      <td>-118.186462</td>\n",
       "      <td>0</td>\n",
       "      <td>0.003115</td>\n",
       "    </tr>\n",
       "    <tr>\n",
       "      <th>1</th>\n",
       "      <td>2019-01-01 00:00:51</td>\n",
       "      <td>Lind-Buckridge</td>\n",
       "      <td>entertainment</td>\n",
       "      <td>220.11</td>\n",
       "      <td>Malad City</td>\n",
       "      <td>ID</td>\n",
       "      <td>42.1808</td>\n",
       "      <td>-112.2620</td>\n",
       "      <td>4154</td>\n",
       "      <td>Nature conservation officer</td>\n",
       "      <td>1962-01-19</td>\n",
       "      <td>a1a22d70485983eac12b5b88dad1cf95</td>\n",
       "      <td>43.150704</td>\n",
       "      <td>-112.154481</td>\n",
       "      <td>0</td>\n",
       "      <td>0.005017</td>\n",
       "    </tr>\n",
       "    <tr>\n",
       "      <th>2</th>\n",
       "      <td>2019-01-01 00:07:27</td>\n",
       "      <td>Kiehn Inc</td>\n",
       "      <td>grocery_pos</td>\n",
       "      <td>96.29</td>\n",
       "      <td>Grenada</td>\n",
       "      <td>CA</td>\n",
       "      <td>41.6125</td>\n",
       "      <td>-122.5258</td>\n",
       "      <td>589</td>\n",
       "      <td>Systems analyst</td>\n",
       "      <td>1945-12-21</td>\n",
       "      <td>413636e759663f264aae1819a4d4f231</td>\n",
       "      <td>41.657520</td>\n",
       "      <td>-122.230347</td>\n",
       "      <td>0</td>\n",
       "      <td>0.003776</td>\n",
       "    </tr>\n",
       "    <tr>\n",
       "      <th>3</th>\n",
       "      <td>2019-01-01 00:09:03</td>\n",
       "      <td>Beier-Hyatt</td>\n",
       "      <td>shopping_pos</td>\n",
       "      <td>7.77</td>\n",
       "      <td>High Rolls Mountain Park</td>\n",
       "      <td>NM</td>\n",
       "      <td>32.9396</td>\n",
       "      <td>-105.8189</td>\n",
       "      <td>899</td>\n",
       "      <td>Naval architect</td>\n",
       "      <td>1967-08-30</td>\n",
       "      <td>8a6293af5ed278dea14448ded2685fea</td>\n",
       "      <td>32.863258</td>\n",
       "      <td>-106.520205</td>\n",
       "      <td>0</td>\n",
       "      <td>0.003191</td>\n",
       "    </tr>\n",
       "    <tr>\n",
       "      <th>4</th>\n",
       "      <td>2019-01-01 00:21:32</td>\n",
       "      <td>Bruen-Yost</td>\n",
       "      <td>misc_pos</td>\n",
       "      <td>6.85</td>\n",
       "      <td>Freedom</td>\n",
       "      <td>WY</td>\n",
       "      <td>43.0172</td>\n",
       "      <td>-111.0292</td>\n",
       "      <td>471</td>\n",
       "      <td>Education officer, museum</td>\n",
       "      <td>1967-08-02</td>\n",
       "      <td>f3c43d336e92a44fc2fb67058d5949e3</td>\n",
       "      <td>43.753735</td>\n",
       "      <td>-111.454923</td>\n",
       "      <td>0</td>\n",
       "      <td>0.002909</td>\n",
       "    </tr>\n",
       "  </tbody>\n",
       "</table>\n",
       "</div>"
      ],
      "text/plain": [
       "  trans_date_trans_time                   merchant       category     amt  \\\n",
       "0   2019-01-01 00:00:44  Heller, Gutmann and Zieme    grocery_pos  107.23   \n",
       "1   2019-01-01 00:00:51             Lind-Buckridge  entertainment  220.11   \n",
       "2   2019-01-01 00:07:27                  Kiehn Inc    grocery_pos   96.29   \n",
       "3   2019-01-01 00:09:03                Beier-Hyatt   shopping_pos    7.77   \n",
       "4   2019-01-01 00:21:32                 Bruen-Yost       misc_pos    6.85   \n",
       "\n",
       "                       city state      lat      long  city_pop  \\\n",
       "0                    Orient    WA  48.8878 -118.2105       149   \n",
       "1                Malad City    ID  42.1808 -112.2620      4154   \n",
       "2                   Grenada    CA  41.6125 -122.5258       589   \n",
       "3  High Rolls Mountain Park    NM  32.9396 -105.8189       899   \n",
       "4                   Freedom    WY  43.0172 -111.0292       471   \n",
       "\n",
       "                                 job         dob  \\\n",
       "0  Special educational needs teacher  1978-06-21   \n",
       "1        Nature conservation officer  1962-01-19   \n",
       "2                    Systems analyst  1945-12-21   \n",
       "3                    Naval architect  1967-08-30   \n",
       "4          Education officer, museum  1967-08-02   \n",
       "\n",
       "                          trans_num  merch_lat  merch_long  is_fraud  Px_score  \n",
       "0  1f76529f8574734946361c461b024d99  49.159047 -118.186462         0  0.003115  \n",
       "1  a1a22d70485983eac12b5b88dad1cf95  43.150704 -112.154481         0  0.005017  \n",
       "2  413636e759663f264aae1819a4d4f231  41.657520 -122.230347         0  0.003776  \n",
       "3  8a6293af5ed278dea14448ded2685fea  32.863258 -106.520205         0  0.003191  \n",
       "4  f3c43d336e92a44fc2fb67058d5949e3  43.753735 -111.454923         0  0.002909  "
      ]
     },
     "execution_count": 36,
     "metadata": {},
     "output_type": "execute_result"
    }
   ],
   "source": [
    "df.head()"
   ]
  },
  {
   "cell_type": "code",
   "execution_count": 37,
   "id": "513292ff",
   "metadata": {},
   "outputs": [
    {
     "data": {
      "text/plain": [
       "Index(['trans_date_trans_time', 'merchant', 'category', 'amt', 'city', 'state',\n",
       "       'lat', 'long', 'city_pop', 'job', 'dob', 'trans_num', 'merch_lat',\n",
       "       'merch_long', 'is_fraud', 'Px_score'],\n",
       "      dtype='object')"
      ]
     },
     "execution_count": 37,
     "metadata": {},
     "output_type": "execute_result"
    }
   ],
   "source": [
    "df.columns"
   ]
  },
  {
   "cell_type": "code",
   "execution_count": 38,
   "id": "8305fb76",
   "metadata": {},
   "outputs": [],
   "source": [
    "# see coleration between each columns and fraud"
   ]
  },
  {
   "cell_type": "code",
   "execution_count": 39,
   "id": "417af1ea",
   "metadata": {},
   "outputs": [
    {
     "data": {
      "text/html": [
       "<div>\n",
       "<style scoped>\n",
       "    .dataframe tbody tr th:only-of-type {\n",
       "        vertical-align: middle;\n",
       "    }\n",
       "\n",
       "    .dataframe tbody tr th {\n",
       "        vertical-align: top;\n",
       "    }\n",
       "\n",
       "    .dataframe thead th {\n",
       "        text-align: right;\n",
       "    }\n",
       "</style>\n",
       "<table border=\"1\" class=\"dataframe\">\n",
       "  <thead>\n",
       "    <tr style=\"text-align: right;\">\n",
       "      <th></th>\n",
       "      <th>amt</th>\n",
       "      <th>lat</th>\n",
       "      <th>long</th>\n",
       "      <th>city_pop</th>\n",
       "      <th>merch_lat</th>\n",
       "      <th>merch_long</th>\n",
       "      <th>is_fraud</th>\n",
       "      <th>Px_score</th>\n",
       "    </tr>\n",
       "  </thead>\n",
       "  <tbody>\n",
       "    <tr>\n",
       "      <th>amt</th>\n",
       "      <td>1.000000</td>\n",
       "      <td>0.002817</td>\n",
       "      <td>-0.007017</td>\n",
       "      <td>0.006050</td>\n",
       "      <td>0.002957</td>\n",
       "      <td>-0.006891</td>\n",
       "      <td>0.201023</td>\n",
       "      <td>0.235734</td>\n",
       "    </tr>\n",
       "    <tr>\n",
       "      <th>lat</th>\n",
       "      <td>0.002817</td>\n",
       "      <td>1.000000</td>\n",
       "      <td>-0.151364</td>\n",
       "      <td>-0.236336</td>\n",
       "      <td>0.993646</td>\n",
       "      <td>-0.151267</td>\n",
       "      <td>0.009239</td>\n",
       "      <td>-0.269451</td>\n",
       "    </tr>\n",
       "    <tr>\n",
       "      <th>long</th>\n",
       "      <td>-0.007017</td>\n",
       "      <td>-0.151364</td>\n",
       "      <td>1.000000</td>\n",
       "      <td>-0.066080</td>\n",
       "      <td>-0.150385</td>\n",
       "      <td>0.998960</td>\n",
       "      <td>-0.004494</td>\n",
       "      <td>-0.071533</td>\n",
       "    </tr>\n",
       "    <tr>\n",
       "      <th>city_pop</th>\n",
       "      <td>0.006050</td>\n",
       "      <td>-0.236336</td>\n",
       "      <td>-0.066080</td>\n",
       "      <td>1.000000</td>\n",
       "      <td>-0.235019</td>\n",
       "      <td>-0.066052</td>\n",
       "      <td>0.002338</td>\n",
       "      <td>0.566362</td>\n",
       "    </tr>\n",
       "    <tr>\n",
       "      <th>merch_lat</th>\n",
       "      <td>0.002957</td>\n",
       "      <td>0.993646</td>\n",
       "      <td>-0.150385</td>\n",
       "      <td>-0.235019</td>\n",
       "      <td>1.000000</td>\n",
       "      <td>-0.150278</td>\n",
       "      <td>0.008848</td>\n",
       "      <td>-0.267781</td>\n",
       "    </tr>\n",
       "    <tr>\n",
       "      <th>merch_long</th>\n",
       "      <td>-0.006891</td>\n",
       "      <td>-0.151267</td>\n",
       "      <td>0.998960</td>\n",
       "      <td>-0.066052</td>\n",
       "      <td>-0.150278</td>\n",
       "      <td>1.000000</td>\n",
       "      <td>-0.004550</td>\n",
       "      <td>-0.071401</td>\n",
       "    </tr>\n",
       "    <tr>\n",
       "      <th>is_fraud</th>\n",
       "      <td>0.201023</td>\n",
       "      <td>0.009239</td>\n",
       "      <td>-0.004494</td>\n",
       "      <td>0.002338</td>\n",
       "      <td>0.008848</td>\n",
       "      <td>-0.004550</td>\n",
       "      <td>1.000000</td>\n",
       "      <td>0.048278</td>\n",
       "    </tr>\n",
       "    <tr>\n",
       "      <th>Px_score</th>\n",
       "      <td>0.235734</td>\n",
       "      <td>-0.269451</td>\n",
       "      <td>-0.071533</td>\n",
       "      <td>0.566362</td>\n",
       "      <td>-0.267781</td>\n",
       "      <td>-0.071401</td>\n",
       "      <td>0.048278</td>\n",
       "      <td>1.000000</td>\n",
       "    </tr>\n",
       "  </tbody>\n",
       "</table>\n",
       "</div>"
      ],
      "text/plain": [
       "                 amt       lat      long  city_pop  merch_lat  merch_long  \\\n",
       "amt         1.000000  0.002817 -0.007017  0.006050   0.002957   -0.006891   \n",
       "lat         0.002817  1.000000 -0.151364 -0.236336   0.993646   -0.151267   \n",
       "long       -0.007017 -0.151364  1.000000 -0.066080  -0.150385    0.998960   \n",
       "city_pop    0.006050 -0.236336 -0.066080  1.000000  -0.235019   -0.066052   \n",
       "merch_lat   0.002957  0.993646 -0.150385 -0.235019   1.000000   -0.150278   \n",
       "merch_long -0.006891 -0.151267  0.998960 -0.066052  -0.150278    1.000000   \n",
       "is_fraud    0.201023  0.009239 -0.004494  0.002338   0.008848   -0.004550   \n",
       "Px_score    0.235734 -0.269451 -0.071533  0.566362  -0.267781   -0.071401   \n",
       "\n",
       "            is_fraud  Px_score  \n",
       "amt         0.201023  0.235734  \n",
       "lat         0.009239 -0.269451  \n",
       "long       -0.004494 -0.071533  \n",
       "city_pop    0.002338  0.566362  \n",
       "merch_lat   0.008848 -0.267781  \n",
       "merch_long -0.004550 -0.071401  \n",
       "is_fraud    1.000000  0.048278  \n",
       "Px_score    0.048278  1.000000  "
      ]
     },
     "execution_count": 39,
     "metadata": {},
     "output_type": "execute_result"
    }
   ],
   "source": [
    "df.corr()"
   ]
  },
  {
   "cell_type": "code",
   "execution_count": 40,
   "id": "32aa55e6",
   "metadata": {},
   "outputs": [],
   "source": [
    "def bar(column) :\n",
    "    X1 = df[column].value_counts().index\n",
    "    y1 = df[column].value_counts().values\n",
    "    X2 = fraud[column].value_counts().index\n",
    "    y2 = fraud[column].value_counts().values\n",
    "    fig,ax = plt.subplots(2,1)\n",
    "    fig.set_figheight(10)\n",
    "    ax[0].bar(X1,y1)\n",
    "    ax[0].set_title(column)\n",
    "    ax[0].set_xticklabels(X1,rotation = 90)\n",
    "    ax[1].bar(X2,y2)\n",
    "    ax[1].set_xlabel(column +' Fraud')\n",
    "    ax[1].set_xticklabels(X2,rotation = 90)\n",
    "    fig.tight_layout(pad=3.0)\n",
    "    plt.show()"
   ]
  },
  {
   "cell_type": "code",
   "execution_count": 41,
   "id": "f46736e2",
   "metadata": {},
   "outputs": [
    {
     "name": "stderr",
     "output_type": "stream",
     "text": [
      "/var/folders/m4/mqwz4y154cd5h9gpw9pwh86m0000gn/T/ipykernel_3877/1276127692.py:10: UserWarning: FixedFormatter should only be used together with FixedLocator\n",
      "  ax[0].set_xticklabels(X1,rotation = 90)\n",
      "/var/folders/m4/mqwz4y154cd5h9gpw9pwh86m0000gn/T/ipykernel_3877/1276127692.py:13: UserWarning: FixedFormatter should only be used together with FixedLocator\n",
      "  ax[1].set_xticklabels(X2,rotation = 90)\n"
     ]
    },
    {
     "data": {
      "image/png": "[encoded data removed]",
      "text/plain": [
       "<Figure size 640x1000 with 2 Axes>"
      ]
     },
     "metadata": {},
     "output_type": "display_data"
    }
   ],
   "source": [
    "bar('state')"
   ]
  },
  {
   "cell_type": "markdown",
   "id": "d74bbf3d",
   "metadata": {},
   "source": [
    "we can see that stat OR has higher rate off fraud compare to all transaction \n",
    "- meaning transactions in OR have more chance to be fraud than other stat  "
   ]
  },
  {
   "cell_type": "code",
   "execution_count": 42,
   "id": "f7e7478a",
   "metadata": {},
   "outputs": [
    {
     "name": "stdout",
     "output_type": "stream",
     "text": [
      "trans_date_trans_time\n",
      "merchant\n",
      "category\n",
      "city\n",
      "state\n",
      "job\n",
      "dob\n",
      "trans_num\n"
     ]
    }
   ],
   "source": [
    "for i in df.columns :\n",
    "    if df[i].dtype == object :\n",
    "        print(i)"
   ]
  },
  {
   "cell_type": "code",
   "execution_count": 43,
   "id": "f7ed68e1",
   "metadata": {},
   "outputs": [
    {
     "name": "stderr",
     "output_type": "stream",
     "text": [
      "/var/folders/m4/mqwz4y154cd5h9gpw9pwh86m0000gn/T/ipykernel_3877/1276127692.py:10: UserWarning: FixedFormatter should only be used together with FixedLocator\n",
      "  ax[0].set_xticklabels(X1,rotation = 90)\n",
      "/var/folders/m4/mqwz4y154cd5h9gpw9pwh86m0000gn/T/ipykernel_3877/1276127692.py:13: UserWarning: FixedFormatter should only be used together with FixedLocator\n",
      "  ax[1].set_xticklabels(X2,rotation = 90)\n"
     ]
    },
    {
     "data": {
      "image/png": "[encoded data removed]",
      "text/plain": [
       "<Figure size 640x1000 with 2 Axes>"
      ]
     },
     "metadata": {},
     "output_type": "display_data"
    }
   ],
   "source": [
    "bar('category')"
   ]
  },
  {
   "cell_type": "markdown",
   "id": "9c453a4a",
   "metadata": {},
   "source": [
    "similarly shopping_net have hihest ratio or fraud , misc_net and grocery also seem to have high rate of fraud"
   ]
  },
  {
   "cell_type": "code",
   "execution_count": 44,
   "id": "81a66e7b",
   "metadata": {},
   "outputs": [
    {
     "data": {
      "text/plain": [
       "Kiehn-Emmerich                          19\n",
       "Romaguera, Cruickshank and Greenholt    18\n",
       "Kerluke-Abshire                         17\n",
       "Kunze Inc                               16\n",
       "Kilback LLC                             15\n",
       "                                        ..\n",
       "Pouros, Walker and Spence                1\n",
       "Lind-Buckridge                           1\n",
       "Bogisich-Weimann                         1\n",
       "Gerhold LLC                              1\n",
       "Kris-Kertzmann                           1\n",
       "Name: merchant, Length: 509, dtype: int64"
      ]
     },
     "execution_count": 44,
     "metadata": {},
     "output_type": "execute_result"
    }
   ],
   "source": [
    "fraud['merchant'].value_counts()"
   ]
  },
  {
   "cell_type": "code",
   "execution_count": null,
   "id": "b155efb7",
   "metadata": {},
   "outputs": [],
   "source": []
  }
 ],
 "metadata": {
  "colab": {
   "name": "Welcome to DataCamp Workspaces.ipynb",
   "provenance": []
  },
  "editor": "DataCamp Workspace",
  "kernelspec": {
   "display_name": "Python 3 (ipykernel)",
   "language": "python",
   "name": "python3"
  },
  "language_info": {
   "codemirror_mode": {
    "name": "ipython",
    "version": 3
   },
   "file_extension": ".py",
   "mimetype": "text/x-python",
   "name": "python",
   "nbconvert_exporter": "python",
   "pygments_lexer": "ipython3",
   "version": "3.9.12"
  },
  "varInspector": {
   "cols": {
    "lenName": 16,
    "lenType": 16,
    "lenVar": 40
   },
   "kernels_config": {
    "python": {
     "delete_cmd_postfix": "",
     "delete_cmd_prefix": "del ",
     "library": "var_list.py",
     "varRefreshCmd": "print(var_dic_list())"
    },
    "r": {
     "delete_cmd_postfix": ") ",
     "delete_cmd_prefix": "rm(",
     "library": "var_list.r",
     "varRefreshCmd": "cat(var_dic_list()) "
    }
   },
   "types_to_exclude": [
    "module",
    "function",
    "builtin_function_or_method",
    "instance",
    "_Feature"
   ],
   "window_display": false
  }
 },
 "nbformat": 4,
 "nbformat_minor": 5
}
