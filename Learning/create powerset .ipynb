{
 "cells": [
  {
   "cell_type": "code",
   "execution_count": 26,
   "id": "496ce3d1",
   "metadata": {},
   "outputs": [],
   "source": [
    "# calculate the powerset of list L \n",
    "# bin = change decimal into binay (เปลี่ยนฐาน10 เป็นฐาน 2) ถ้า ได้ 101 - เอา ตัวที่1 กับ 3 เป็นต้น \n",
    "def powerset(L) :\n",
    "    result = [[] for i in range(2**len(L))]\n",
    "    for i in range(2**len(L)):\n",
    "        index = bin(i)[2:]\n",
    "        for j in range(len(index)) :\n",
    "            if index[j] == '1':\n",
    "                result[i].append(L[j]) \n",
    "    return result\n"
   ]
  },
  {
   "cell_type": "code",
   "execution_count": 27,
   "id": "aa97009f",
   "metadata": {},
   "outputs": [
    {
     "name": "stdout",
     "output_type": "stream",
     "text": [
      "1\n",
      "0\n",
      "1\n"
     ]
    }
   ],
   "source": [
    "x = 5 \n",
    "for i in bin(x)[2:] :\n",
    "    print(i)"
   ]
  },
  {
   "cell_type": "code",
   "execution_count": 28,
   "id": "417fd5ea",
   "metadata": {},
   "outputs": [
    {
     "data": {
      "text/plain": [
       "[[],\n",
       " [2],\n",
       " [2],\n",
       " [2, 3],\n",
       " [2],\n",
       " [2, 4],\n",
       " [2, 3],\n",
       " [2, 3, 4],\n",
       " [2],\n",
       " [2, 5],\n",
       " [2, 4],\n",
       " [2, 4, 5],\n",
       " [2, 3],\n",
       " [2, 3, 5],\n",
       " [2, 3, 4],\n",
       " [2, 3, 4, 5]]"
      ]
     },
     "execution_count": 28,
     "metadata": {},
     "output_type": "execute_result"
    }
   ],
   "source": [
    "powerset([2,3,4,5])"
   ]
  },
  {
   "cell_type": "code",
   "execution_count": null,
   "id": "cc0a4410",
   "metadata": {},
   "outputs": [],
   "source": []
  }
 ],
 "metadata": {
  "kernelspec": {
   "display_name": "Python 3 (ipykernel)",
   "language": "python",
   "name": "python3"
  },
  "language_info": {
   "codemirror_mode": {
    "name": "ipython",
    "version": 3
   },
   "file_extension": ".py",
   "mimetype": "text/x-python",
   "name": "python",
   "nbconvert_exporter": "python",
   "pygments_lexer": "ipython3",
   "version": "3.9.12"
  }
 },
 "nbformat": 4,
 "nbformat_minor": 5
}
