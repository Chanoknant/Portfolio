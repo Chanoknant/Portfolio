{
 "cells": [
  {
   "cell_type": "code",
   "execution_count": 2,
   "id": "6119e42d",
   "metadata": {},
   "outputs": [],
   "source": [
    "import pandas as pd \n",
    "import matplotlib.pyplot as plt \n",
    "import numpy as np \n",
    "from sklearn.metrics import roc_curve, roc_auc_score"
   ]
  },
  {
   "cell_type": "code",
   "execution_count": 3,
   "id": "01d429be",
   "metadata": {},
   "outputs": [],
   "source": [
    "df = pd.read_csv('Pneumothorax4000.csv')"
   ]
  },
  {
   "cell_type": "code",
   "execution_count": 4,
   "id": "90660ac9",
   "metadata": {},
   "outputs": [
    {
     "data": {
      "text/html": [
       "<div>\n",
       "<style scoped>\n",
       "    .dataframe tbody tr th:only-of-type {\n",
       "        vertical-align: middle;\n",
       "    }\n",
       "\n",
       "    .dataframe tbody tr th {\n",
       "        vertical-align: top;\n",
       "    }\n",
       "\n",
       "    .dataframe thead th {\n",
       "        text-align: right;\n",
       "    }\n",
       "</style>\n",
       "<table border=\"1\" class=\"dataframe\">\n",
       "  <thead>\n",
       "    <tr style=\"text-align: right;\">\n",
       "      <th></th>\n",
       "      <th>Image Index</th>\n",
       "      <th>Insufficient Quality</th>\n",
       "      <th>Atelectasis</th>\n",
       "      <th>Cardiomegaly</th>\n",
       "      <th>Consolidation</th>\n",
       "      <th>Pulmonary Edema</th>\n",
       "      <th>Emphysema</th>\n",
       "      <th>Fracture</th>\n",
       "      <th>Hernia</th>\n",
       "      <th>Infiltration</th>\n",
       "      <th>...</th>\n",
       "      <th>Interstitial Infiltration</th>\n",
       "      <th>Not Sure</th>\n",
       "      <th>Bad Labeler</th>\n",
       "      <th>Cavity</th>\n",
       "      <th>Reticular Infiltration</th>\n",
       "      <th>Fibrosis</th>\n",
       "      <th>ICD</th>\n",
       "      <th>Support Device</th>\n",
       "      <th>Skinfold</th>\n",
       "      <th>High confidence</th>\n",
       "    </tr>\n",
       "  </thead>\n",
       "  <tbody>\n",
       "    <tr>\n",
       "      <th>0</th>\n",
       "      <td>0.9948_45537123-876</td>\n",
       "      <td>0.0</td>\n",
       "      <td>1.0</td>\n",
       "      <td>0.0</td>\n",
       "      <td>0.0</td>\n",
       "      <td>0.0</td>\n",
       "      <td>0.0</td>\n",
       "      <td>0.0</td>\n",
       "      <td>0.0</td>\n",
       "      <td>0.0</td>\n",
       "      <td>...</td>\n",
       "      <td>0.0</td>\n",
       "      <td>0.0</td>\n",
       "      <td>0.0</td>\n",
       "      <td>0.0</td>\n",
       "      <td>0.0</td>\n",
       "      <td>0.0</td>\n",
       "      <td>0.0</td>\n",
       "      <td>0.0</td>\n",
       "      <td>0.0</td>\n",
       "      <td>1.0</td>\n",
       "    </tr>\n",
       "    <tr>\n",
       "      <th>1</th>\n",
       "      <td>0.9931_44337938-109789</td>\n",
       "      <td>0.0</td>\n",
       "      <td>1.0</td>\n",
       "      <td>0.0</td>\n",
       "      <td>0.0</td>\n",
       "      <td>0.0</td>\n",
       "      <td>0.0</td>\n",
       "      <td>0.0</td>\n",
       "      <td>0.0</td>\n",
       "      <td>0.0</td>\n",
       "      <td>...</td>\n",
       "      <td>0.0</td>\n",
       "      <td>0.0</td>\n",
       "      <td>0.0</td>\n",
       "      <td>0.0</td>\n",
       "      <td>0.0</td>\n",
       "      <td>0.0</td>\n",
       "      <td>0.0</td>\n",
       "      <td>0.0</td>\n",
       "      <td>0.0</td>\n",
       "      <td>0.0</td>\n",
       "    </tr>\n",
       "    <tr>\n",
       "      <th>2</th>\n",
       "      <td>0.9518_46384654-26050</td>\n",
       "      <td>0.0</td>\n",
       "      <td>1.0</td>\n",
       "      <td>0.0</td>\n",
       "      <td>0.0</td>\n",
       "      <td>0.0</td>\n",
       "      <td>0.0</td>\n",
       "      <td>0.0</td>\n",
       "      <td>0.0</td>\n",
       "      <td>0.0</td>\n",
       "      <td>...</td>\n",
       "      <td>0.0</td>\n",
       "      <td>0.0</td>\n",
       "      <td>1.0</td>\n",
       "      <td>0.0</td>\n",
       "      <td>0.0</td>\n",
       "      <td>0.0</td>\n",
       "      <td>0.0</td>\n",
       "      <td>1.0</td>\n",
       "      <td>0.0</td>\n",
       "      <td>0.0</td>\n",
       "    </tr>\n",
       "    <tr>\n",
       "      <th>3</th>\n",
       "      <td>0.5956_44732120-47734</td>\n",
       "      <td>0.0</td>\n",
       "      <td>1.0</td>\n",
       "      <td>0.0</td>\n",
       "      <td>0.0</td>\n",
       "      <td>0.0</td>\n",
       "      <td>0.0</td>\n",
       "      <td>0.0</td>\n",
       "      <td>0.0</td>\n",
       "      <td>0.0</td>\n",
       "      <td>...</td>\n",
       "      <td>0.0</td>\n",
       "      <td>0.0</td>\n",
       "      <td>0.0</td>\n",
       "      <td>0.0</td>\n",
       "      <td>0.0</td>\n",
       "      <td>0.0</td>\n",
       "      <td>0.0</td>\n",
       "      <td>1.0</td>\n",
       "      <td>0.0</td>\n",
       "      <td>0.0</td>\n",
       "    </tr>\n",
       "    <tr>\n",
       "      <th>4</th>\n",
       "      <td>0.5938_47743056-3894</td>\n",
       "      <td>0.0</td>\n",
       "      <td>1.0</td>\n",
       "      <td>0.0</td>\n",
       "      <td>0.0</td>\n",
       "      <td>0.0</td>\n",
       "      <td>0.0</td>\n",
       "      <td>0.0</td>\n",
       "      <td>0.0</td>\n",
       "      <td>0.0</td>\n",
       "      <td>...</td>\n",
       "      <td>0.0</td>\n",
       "      <td>0.0</td>\n",
       "      <td>0.0</td>\n",
       "      <td>0.0</td>\n",
       "      <td>0.0</td>\n",
       "      <td>0.0</td>\n",
       "      <td>1.0</td>\n",
       "      <td>1.0</td>\n",
       "      <td>0.0</td>\n",
       "      <td>0.0</td>\n",
       "    </tr>\n",
       "  </tbody>\n",
       "</table>\n",
       "<p>5 rows × 32 columns</p>\n",
       "</div>"
      ],
      "text/plain": [
       "              Image Index  Insufficient Quality  Atelectasis  Cardiomegaly  \\\n",
       "0     0.9948_45537123-876                   0.0          1.0           0.0   \n",
       "1  0.9931_44337938-109789                   0.0          1.0           0.0   \n",
       "2   0.9518_46384654-26050                   0.0          1.0           0.0   \n",
       "3   0.5956_44732120-47734                   0.0          1.0           0.0   \n",
       "4    0.5938_47743056-3894                   0.0          1.0           0.0   \n",
       "\n",
       "   Consolidation  Pulmonary Edema  Emphysema  Fracture  Hernia  Infiltration  \\\n",
       "0            0.0              0.0        0.0       0.0     0.0           0.0   \n",
       "1            0.0              0.0        0.0       0.0     0.0           0.0   \n",
       "2            0.0              0.0        0.0       0.0     0.0           0.0   \n",
       "3            0.0              0.0        0.0       0.0     0.0           0.0   \n",
       "4            0.0              0.0        0.0       0.0     0.0           0.0   \n",
       "\n",
       "   ...  Interstitial Infiltration  Not Sure  Bad Labeler  Cavity  \\\n",
       "0  ...                        0.0       0.0          0.0     0.0   \n",
       "1  ...                        0.0       0.0          0.0     0.0   \n",
       "2  ...                        0.0       0.0          1.0     0.0   \n",
       "3  ...                        0.0       0.0          0.0     0.0   \n",
       "4  ...                        0.0       0.0          0.0     0.0   \n",
       "\n",
       "   Reticular Infiltration  Fibrosis  ICD  Support Device  Skinfold  \\\n",
       "0                     0.0       0.0  0.0             0.0       0.0   \n",
       "1                     0.0       0.0  0.0             0.0       0.0   \n",
       "2                     0.0       0.0  0.0             1.0       0.0   \n",
       "3                     0.0       0.0  0.0             1.0       0.0   \n",
       "4                     0.0       0.0  1.0             1.0       0.0   \n",
       "\n",
       "   High confidence  \n",
       "0              1.0  \n",
       "1              0.0  \n",
       "2              0.0  \n",
       "3              0.0  \n",
       "4              0.0  \n",
       "\n",
       "[5 rows x 32 columns]"
      ]
     },
     "execution_count": 4,
     "metadata": {},
     "output_type": "execute_result"
    }
   ],
   "source": [
    "df.head()"
   ]
  },
  {
   "cell_type": "code",
   "execution_count": 5,
   "id": "f7a65edf",
   "metadata": {},
   "outputs": [
    {
     "data": {
      "text/plain": [
       "Index(['Image Index', 'Insufficient Quality', 'Atelectasis', 'Cardiomegaly',\n",
       "       'Consolidation', 'Pulmonary Edema', 'Emphysema', 'Fracture', 'Hernia',\n",
       "       'Infiltration', 'Lung Opacity', 'Mass', 'Nodule', 'Pleural Effusion',\n",
       "       'Pleural Thickening', 'Pneumothorax', 'Scoliosis', 'Tuberculosis',\n",
       "       'Normal', 'Other', 'Paratracheal Thickening', 'Bronchiectasis',\n",
       "       'Interstitial Infiltration', 'Not Sure', 'Bad Labeler', 'Cavity',\n",
       "       'Reticular Infiltration', 'Fibrosis', 'ICD', 'Support Device',\n",
       "       'Skinfold', 'High confidence'],\n",
       "      dtype='object')"
      ]
     },
     "execution_count": 5,
     "metadata": {},
     "output_type": "execute_result"
    }
   ],
   "source": [
    "df.columns"
   ]
  },
  {
   "cell_type": "code",
   "execution_count": 6,
   "id": "c039d0ab",
   "metadata": {},
   "outputs": [],
   "source": [
    "df['Pneumothorax Balanced'] = df['Image Index'].apply(lambda x: float(x.split('_')[0]))\n",
    "df = df.sort_values(by=['Pneumothorax Balanced'])"
   ]
  },
  {
   "cell_type": "code",
   "execution_count": 7,
   "id": "9fac8eec",
   "metadata": {},
   "outputs": [],
   "source": [
    "df['Support Device2'] = df['Support Device']-df['ICD']"
   ]
  },
  {
   "cell_type": "code",
   "execution_count": 8,
   "id": "726d8b6c",
   "metadata": {},
   "outputs": [
    {
     "data": {
      "text/html": [
       "<div>\n",
       "<style scoped>\n",
       "    .dataframe tbody tr th:only-of-type {\n",
       "        vertical-align: middle;\n",
       "    }\n",
       "\n",
       "    .dataframe tbody tr th {\n",
       "        vertical-align: top;\n",
       "    }\n",
       "\n",
       "    .dataframe thead th {\n",
       "        text-align: right;\n",
       "    }\n",
       "</style>\n",
       "<table border=\"1\" class=\"dataframe\">\n",
       "  <thead>\n",
       "    <tr style=\"text-align: right;\">\n",
       "      <th></th>\n",
       "      <th>Image Index</th>\n",
       "      <th>Insufficient Quality</th>\n",
       "      <th>Atelectasis</th>\n",
       "      <th>Cardiomegaly</th>\n",
       "      <th>Consolidation</th>\n",
       "      <th>Pulmonary Edema</th>\n",
       "      <th>Emphysema</th>\n",
       "      <th>Fracture</th>\n",
       "      <th>Hernia</th>\n",
       "      <th>Infiltration</th>\n",
       "      <th>...</th>\n",
       "      <th>Bad Labeler</th>\n",
       "      <th>Cavity</th>\n",
       "      <th>Reticular Infiltration</th>\n",
       "      <th>Fibrosis</th>\n",
       "      <th>ICD</th>\n",
       "      <th>Support Device</th>\n",
       "      <th>Skinfold</th>\n",
       "      <th>High confidence</th>\n",
       "      <th>Pneumothorax Balanced</th>\n",
       "      <th>Support Device2</th>\n",
       "    </tr>\n",
       "  </thead>\n",
       "  <tbody>\n",
       "    <tr>\n",
       "      <th>3264</th>\n",
       "      <td>0.0405_47443528-23527</td>\n",
       "      <td>0.0</td>\n",
       "      <td>0.0</td>\n",
       "      <td>0.0</td>\n",
       "      <td>0.0</td>\n",
       "      <td>0.0</td>\n",
       "      <td>0.0</td>\n",
       "      <td>0.0</td>\n",
       "      <td>0.0</td>\n",
       "      <td>0.0</td>\n",
       "      <td>...</td>\n",
       "      <td>0.0</td>\n",
       "      <td>0.0</td>\n",
       "      <td>0.0</td>\n",
       "      <td>0.0</td>\n",
       "      <td>1.0</td>\n",
       "      <td>0.0</td>\n",
       "      <td>0.0</td>\n",
       "      <td>0.0</td>\n",
       "      <td>0.0405</td>\n",
       "      <td>-1.0</td>\n",
       "    </tr>\n",
       "    <tr>\n",
       "      <th>1135</th>\n",
       "      <td>0.3089_47418006-1867</td>\n",
       "      <td>0.0</td>\n",
       "      <td>0.0</td>\n",
       "      <td>0.0</td>\n",
       "      <td>0.0</td>\n",
       "      <td>0.0</td>\n",
       "      <td>0.0</td>\n",
       "      <td>0.0</td>\n",
       "      <td>0.0</td>\n",
       "      <td>0.0</td>\n",
       "      <td>...</td>\n",
       "      <td>0.0</td>\n",
       "      <td>0.0</td>\n",
       "      <td>0.0</td>\n",
       "      <td>0.0</td>\n",
       "      <td>1.0</td>\n",
       "      <td>0.0</td>\n",
       "      <td>0.0</td>\n",
       "      <td>0.0</td>\n",
       "      <td>0.3089</td>\n",
       "      <td>-1.0</td>\n",
       "    </tr>\n",
       "    <tr>\n",
       "      <th>1045</th>\n",
       "      <td>0.3518_47418006-967</td>\n",
       "      <td>0.0</td>\n",
       "      <td>0.0</td>\n",
       "      <td>0.0</td>\n",
       "      <td>0.0</td>\n",
       "      <td>0.0</td>\n",
       "      <td>0.0</td>\n",
       "      <td>0.0</td>\n",
       "      <td>0.0</td>\n",
       "      <td>0.0</td>\n",
       "      <td>...</td>\n",
       "      <td>0.0</td>\n",
       "      <td>0.0</td>\n",
       "      <td>0.0</td>\n",
       "      <td>0.0</td>\n",
       "      <td>1.0</td>\n",
       "      <td>0.0</td>\n",
       "      <td>0.0</td>\n",
       "      <td>0.0</td>\n",
       "      <td>0.3518</td>\n",
       "      <td>-1.0</td>\n",
       "    </tr>\n",
       "    <tr>\n",
       "      <th>1030</th>\n",
       "      <td>0.3605_45971669-121273</td>\n",
       "      <td>0.0</td>\n",
       "      <td>0.0</td>\n",
       "      <td>0.0</td>\n",
       "      <td>0.0</td>\n",
       "      <td>0.0</td>\n",
       "      <td>0.0</td>\n",
       "      <td>0.0</td>\n",
       "      <td>0.0</td>\n",
       "      <td>0.0</td>\n",
       "      <td>...</td>\n",
       "      <td>1.0</td>\n",
       "      <td>0.0</td>\n",
       "      <td>0.0</td>\n",
       "      <td>0.0</td>\n",
       "      <td>1.0</td>\n",
       "      <td>0.0</td>\n",
       "      <td>0.0</td>\n",
       "      <td>0.0</td>\n",
       "      <td>0.3605</td>\n",
       "      <td>-1.0</td>\n",
       "    </tr>\n",
       "    <tr>\n",
       "      <th>1292</th>\n",
       "      <td>0.3752_47535717-6086</td>\n",
       "      <td>0.0</td>\n",
       "      <td>0.0</td>\n",
       "      <td>0.0</td>\n",
       "      <td>0.0</td>\n",
       "      <td>0.0</td>\n",
       "      <td>0.0</td>\n",
       "      <td>0.0</td>\n",
       "      <td>0.0</td>\n",
       "      <td>0.0</td>\n",
       "      <td>...</td>\n",
       "      <td>0.0</td>\n",
       "      <td>0.0</td>\n",
       "      <td>0.0</td>\n",
       "      <td>0.0</td>\n",
       "      <td>1.0</td>\n",
       "      <td>0.0</td>\n",
       "      <td>0.0</td>\n",
       "      <td>0.0</td>\n",
       "      <td>0.3752</td>\n",
       "      <td>-1.0</td>\n",
       "    </tr>\n",
       "    <tr>\n",
       "      <th>...</th>\n",
       "      <td>...</td>\n",
       "      <td>...</td>\n",
       "      <td>...</td>\n",
       "      <td>...</td>\n",
       "      <td>...</td>\n",
       "      <td>...</td>\n",
       "      <td>...</td>\n",
       "      <td>...</td>\n",
       "      <td>...</td>\n",
       "      <td>...</td>\n",
       "      <td>...</td>\n",
       "      <td>...</td>\n",
       "      <td>...</td>\n",
       "      <td>...</td>\n",
       "      <td>...</td>\n",
       "      <td>...</td>\n",
       "      <td>...</td>\n",
       "      <td>...</td>\n",
       "      <td>...</td>\n",
       "      <td>...</td>\n",
       "      <td>...</td>\n",
       "    </tr>\n",
       "    <tr>\n",
       "      <th>41</th>\n",
       "      <td>0.9999_45230396-7955</td>\n",
       "      <td>0.0</td>\n",
       "      <td>0.0</td>\n",
       "      <td>0.0</td>\n",
       "      <td>0.0</td>\n",
       "      <td>0.0</td>\n",
       "      <td>0.0</td>\n",
       "      <td>0.0</td>\n",
       "      <td>0.0</td>\n",
       "      <td>0.0</td>\n",
       "      <td>...</td>\n",
       "      <td>0.0</td>\n",
       "      <td>0.0</td>\n",
       "      <td>0.0</td>\n",
       "      <td>0.0</td>\n",
       "      <td>1.0</td>\n",
       "      <td>0.0</td>\n",
       "      <td>0.0</td>\n",
       "      <td>0.0</td>\n",
       "      <td>0.9999</td>\n",
       "      <td>-1.0</td>\n",
       "    </tr>\n",
       "    <tr>\n",
       "      <th>42</th>\n",
       "      <td>0.9999_44277939-435084</td>\n",
       "      <td>0.0</td>\n",
       "      <td>0.0</td>\n",
       "      <td>0.0</td>\n",
       "      <td>0.0</td>\n",
       "      <td>0.0</td>\n",
       "      <td>0.0</td>\n",
       "      <td>0.0</td>\n",
       "      <td>0.0</td>\n",
       "      <td>0.0</td>\n",
       "      <td>...</td>\n",
       "      <td>0.0</td>\n",
       "      <td>0.0</td>\n",
       "      <td>0.0</td>\n",
       "      <td>0.0</td>\n",
       "      <td>1.0</td>\n",
       "      <td>0.0</td>\n",
       "      <td>1.0</td>\n",
       "      <td>1.0</td>\n",
       "      <td>0.9999</td>\n",
       "      <td>-1.0</td>\n",
       "    </tr>\n",
       "    <tr>\n",
       "      <th>43</th>\n",
       "      <td>0.9999_44277939-434612</td>\n",
       "      <td>0.0</td>\n",
       "      <td>0.0</td>\n",
       "      <td>0.0</td>\n",
       "      <td>0.0</td>\n",
       "      <td>0.0</td>\n",
       "      <td>0.0</td>\n",
       "      <td>0.0</td>\n",
       "      <td>0.0</td>\n",
       "      <td>0.0</td>\n",
       "      <td>...</td>\n",
       "      <td>0.0</td>\n",
       "      <td>0.0</td>\n",
       "      <td>0.0</td>\n",
       "      <td>0.0</td>\n",
       "      <td>1.0</td>\n",
       "      <td>0.0</td>\n",
       "      <td>1.0</td>\n",
       "      <td>1.0</td>\n",
       "      <td>0.9999</td>\n",
       "      <td>-1.0</td>\n",
       "    </tr>\n",
       "    <tr>\n",
       "      <th>45</th>\n",
       "      <td>0.9999_44277939-317602</td>\n",
       "      <td>0.0</td>\n",
       "      <td>0.0</td>\n",
       "      <td>0.0</td>\n",
       "      <td>0.0</td>\n",
       "      <td>0.0</td>\n",
       "      <td>0.0</td>\n",
       "      <td>0.0</td>\n",
       "      <td>0.0</td>\n",
       "      <td>0.0</td>\n",
       "      <td>...</td>\n",
       "      <td>0.0</td>\n",
       "      <td>0.0</td>\n",
       "      <td>0.0</td>\n",
       "      <td>0.0</td>\n",
       "      <td>1.0</td>\n",
       "      <td>0.0</td>\n",
       "      <td>1.0</td>\n",
       "      <td>1.0</td>\n",
       "      <td>0.9999</td>\n",
       "      <td>-1.0</td>\n",
       "    </tr>\n",
       "    <tr>\n",
       "      <th>2959</th>\n",
       "      <td>0.9999_47321277-7088</td>\n",
       "      <td>0.0</td>\n",
       "      <td>0.0</td>\n",
       "      <td>0.0</td>\n",
       "      <td>0.0</td>\n",
       "      <td>0.0</td>\n",
       "      <td>0.0</td>\n",
       "      <td>0.0</td>\n",
       "      <td>0.0</td>\n",
       "      <td>0.0</td>\n",
       "      <td>...</td>\n",
       "      <td>0.0</td>\n",
       "      <td>0.0</td>\n",
       "      <td>0.0</td>\n",
       "      <td>0.0</td>\n",
       "      <td>1.0</td>\n",
       "      <td>0.0</td>\n",
       "      <td>0.0</td>\n",
       "      <td>1.0</td>\n",
       "      <td>0.9999</td>\n",
       "      <td>-1.0</td>\n",
       "    </tr>\n",
       "  </tbody>\n",
       "</table>\n",
       "<p>75 rows × 34 columns</p>\n",
       "</div>"
      ],
      "text/plain": [
       "                 Image Index  Insufficient Quality  Atelectasis  Cardiomegaly  \\\n",
       "3264   0.0405_47443528-23527                   0.0          0.0           0.0   \n",
       "1135    0.3089_47418006-1867                   0.0          0.0           0.0   \n",
       "1045     0.3518_47418006-967                   0.0          0.0           0.0   \n",
       "1030  0.3605_45971669-121273                   0.0          0.0           0.0   \n",
       "1292    0.3752_47535717-6086                   0.0          0.0           0.0   \n",
       "...                      ...                   ...          ...           ...   \n",
       "41      0.9999_45230396-7955                   0.0          0.0           0.0   \n",
       "42    0.9999_44277939-435084                   0.0          0.0           0.0   \n",
       "43    0.9999_44277939-434612                   0.0          0.0           0.0   \n",
       "45    0.9999_44277939-317602                   0.0          0.0           0.0   \n",
       "2959    0.9999_47321277-7088                   0.0          0.0           0.0   \n",
       "\n",
       "      Consolidation  Pulmonary Edema  Emphysema  Fracture  Hernia  \\\n",
       "3264            0.0              0.0        0.0       0.0     0.0   \n",
       "1135            0.0              0.0        0.0       0.0     0.0   \n",
       "1045            0.0              0.0        0.0       0.0     0.0   \n",
       "1030            0.0              0.0        0.0       0.0     0.0   \n",
       "1292            0.0              0.0        0.0       0.0     0.0   \n",
       "...             ...              ...        ...       ...     ...   \n",
       "41              0.0              0.0        0.0       0.0     0.0   \n",
       "42              0.0              0.0        0.0       0.0     0.0   \n",
       "43              0.0              0.0        0.0       0.0     0.0   \n",
       "45              0.0              0.0        0.0       0.0     0.0   \n",
       "2959            0.0              0.0        0.0       0.0     0.0   \n",
       "\n",
       "      Infiltration  ...  Bad Labeler  Cavity  Reticular Infiltration  \\\n",
       "3264           0.0  ...          0.0     0.0                     0.0   \n",
       "1135           0.0  ...          0.0     0.0                     0.0   \n",
       "1045           0.0  ...          0.0     0.0                     0.0   \n",
       "1030           0.0  ...          1.0     0.0                     0.0   \n",
       "1292           0.0  ...          0.0     0.0                     0.0   \n",
       "...            ...  ...          ...     ...                     ...   \n",
       "41             0.0  ...          0.0     0.0                     0.0   \n",
       "42             0.0  ...          0.0     0.0                     0.0   \n",
       "43             0.0  ...          0.0     0.0                     0.0   \n",
       "45             0.0  ...          0.0     0.0                     0.0   \n",
       "2959           0.0  ...          0.0     0.0                     0.0   \n",
       "\n",
       "      Fibrosis  ICD  Support Device  Skinfold  High confidence  \\\n",
       "3264       0.0  1.0             0.0       0.0              0.0   \n",
       "1135       0.0  1.0             0.0       0.0              0.0   \n",
       "1045       0.0  1.0             0.0       0.0              0.0   \n",
       "1030       0.0  1.0             0.0       0.0              0.0   \n",
       "1292       0.0  1.0             0.0       0.0              0.0   \n",
       "...        ...  ...             ...       ...              ...   \n",
       "41         0.0  1.0             0.0       0.0              0.0   \n",
       "42         0.0  1.0             0.0       1.0              1.0   \n",
       "43         0.0  1.0             0.0       1.0              1.0   \n",
       "45         0.0  1.0             0.0       1.0              1.0   \n",
       "2959       0.0  1.0             0.0       0.0              1.0   \n",
       "\n",
       "      Pneumothorax Balanced  Support Device2  \n",
       "3264                 0.0405             -1.0  \n",
       "1135                 0.3089             -1.0  \n",
       "1045                 0.3518             -1.0  \n",
       "1030                 0.3605             -1.0  \n",
       "1292                 0.3752             -1.0  \n",
       "...                     ...              ...  \n",
       "41                   0.9999             -1.0  \n",
       "42                   0.9999             -1.0  \n",
       "43                   0.9999             -1.0  \n",
       "45                   0.9999             -1.0  \n",
       "2959                 0.9999             -1.0  \n",
       "\n",
       "[75 rows x 34 columns]"
      ]
     },
     "execution_count": 8,
     "metadata": {},
     "output_type": "execute_result"
    }
   ],
   "source": [
    "df[df['Support Device2']== -1.0]"
   ]
  },
  {
   "cell_type": "code",
   "execution_count": 9,
   "id": "f47e0010",
   "metadata": {},
   "outputs": [
    {
     "name": "stderr",
     "output_type": "stream",
     "text": [
      "/var/folders/m4/mqwz4y154cd5h9gpw9pwh86m0000gn/T/ipykernel_2758/218324944.py:1: SettingWithCopyWarning: \n",
      "A value is trying to be set on a copy of a slice from a DataFrame\n",
      "\n",
      "See the caveats in the documentation: https://pandas.pydata.org/pandas-docs/stable/user_guide/indexing.html#returning-a-view-versus-a-copy\n",
      "  df.loc[36]['Support Device2'] = 0.0\n",
      "/var/folders/m4/mqwz4y154cd5h9gpw9pwh86m0000gn/T/ipykernel_2758/218324944.py:2: SettingWithCopyWarning: \n",
      "A value is trying to be set on a copy of a slice from a DataFrame\n",
      "\n",
      "See the caveats in the documentation: https://pandas.pydata.org/pandas-docs/stable/user_guide/indexing.html#returning-a-view-versus-a-copy\n",
      "  df.loc[21]['Support Device2'] = 0.0\n"
     ]
    }
   ],
   "source": [
    "df.loc[36]['Support Device2'] = 0.0\n",
    "df.loc[21]['Support Device2'] = 0.0"
   ]
  },
  {
   "cell_type": "code",
   "execution_count": 10,
   "id": "be683832",
   "metadata": {},
   "outputs": [],
   "source": [
    "df['CVAT page'] = list(range(4459))"
   ]
  },
  {
   "cell_type": "code",
   "execution_count": 11,
   "id": "bd38043f",
   "metadata": {},
   "outputs": [],
   "source": [
    "L = []\n",
    "for i in df['Pneumothorax Balanced']:\n",
    "    if i > 0.8 :\n",
    "        L.append(1.0)\n",
    "    else :\n",
    "        L.append(0.0)\n",
    "df['Pneumothorax by AI'] = L  "
   ]
  },
  {
   "cell_type": "code",
   "execution_count": 12,
   "id": "28c81ca2",
   "metadata": {},
   "outputs": [],
   "source": [
    "# FP \n",
    "FP = df[(df['Pneumothorax']==0.0)&(df['Pneumothorax by AI']== 1.0)]\n",
    "ICD = df[df['ICD']== 1.0]\n",
    "noPneumothorax = df[(df['Pneumothorax']==0.0)]"
   ]
  },
  {
   "cell_type": "code",
   "execution_count": 13,
   "id": "41f65804",
   "metadata": {},
   "outputs": [
    {
     "data": {
      "text/plain": [
       "247"
      ]
     },
     "execution_count": 13,
     "metadata": {},
     "output_type": "execute_result"
    }
   ],
   "source": [
    "len(ICD)"
   ]
  },
  {
   "cell_type": "code",
   "execution_count": 14,
   "id": "74fa64e3",
   "metadata": {},
   "outputs": [
    {
     "data": {
      "text/html": [
       "<div>\n",
       "<style scoped>\n",
       "    .dataframe tbody tr th:only-of-type {\n",
       "        vertical-align: middle;\n",
       "    }\n",
       "\n",
       "    .dataframe tbody tr th {\n",
       "        vertical-align: top;\n",
       "    }\n",
       "\n",
       "    .dataframe thead th {\n",
       "        text-align: right;\n",
       "    }\n",
       "</style>\n",
       "<table border=\"1\" class=\"dataframe\">\n",
       "  <thead>\n",
       "    <tr style=\"text-align: right;\">\n",
       "      <th></th>\n",
       "      <th>Image Index</th>\n",
       "      <th>Insufficient Quality</th>\n",
       "      <th>Atelectasis</th>\n",
       "      <th>Cardiomegaly</th>\n",
       "      <th>Consolidation</th>\n",
       "      <th>Pulmonary Edema</th>\n",
       "      <th>Emphysema</th>\n",
       "      <th>Fracture</th>\n",
       "      <th>Hernia</th>\n",
       "      <th>Infiltration</th>\n",
       "      <th>...</th>\n",
       "      <th>Reticular Infiltration</th>\n",
       "      <th>Fibrosis</th>\n",
       "      <th>ICD</th>\n",
       "      <th>Support Device</th>\n",
       "      <th>Skinfold</th>\n",
       "      <th>High confidence</th>\n",
       "      <th>Pneumothorax Balanced</th>\n",
       "      <th>Support Device2</th>\n",
       "      <th>CVAT page</th>\n",
       "      <th>Pneumothorax by AI</th>\n",
       "    </tr>\n",
       "  </thead>\n",
       "  <tbody>\n",
       "    <tr>\n",
       "      <th>506</th>\n",
       "      <td>0.8069_45482052-6927</td>\n",
       "      <td>0.0</td>\n",
       "      <td>0.0</td>\n",
       "      <td>0.0</td>\n",
       "      <td>0.0</td>\n",
       "      <td>0.0</td>\n",
       "      <td>0.0</td>\n",
       "      <td>0.0</td>\n",
       "      <td>0.0</td>\n",
       "      <td>0.0</td>\n",
       "      <td>...</td>\n",
       "      <td>0.0</td>\n",
       "      <td>0.0</td>\n",
       "      <td>1.0</td>\n",
       "      <td>1.0</td>\n",
       "      <td>0.0</td>\n",
       "      <td>0.0</td>\n",
       "      <td>0.8069</td>\n",
       "      <td>0.0</td>\n",
       "      <td>3809</td>\n",
       "      <td>1.0</td>\n",
       "    </tr>\n",
       "    <tr>\n",
       "      <th>505</th>\n",
       "      <td>0.8082_45275244-4303</td>\n",
       "      <td>0.0</td>\n",
       "      <td>0.0</td>\n",
       "      <td>0.0</td>\n",
       "      <td>0.0</td>\n",
       "      <td>0.0</td>\n",
       "      <td>0.0</td>\n",
       "      <td>0.0</td>\n",
       "      <td>0.0</td>\n",
       "      <td>0.0</td>\n",
       "      <td>...</td>\n",
       "      <td>0.0</td>\n",
       "      <td>0.0</td>\n",
       "      <td>1.0</td>\n",
       "      <td>1.0</td>\n",
       "      <td>0.0</td>\n",
       "      <td>0.0</td>\n",
       "      <td>0.8082</td>\n",
       "      <td>0.0</td>\n",
       "      <td>3810</td>\n",
       "      <td>1.0</td>\n",
       "    </tr>\n",
       "    <tr>\n",
       "      <th>504</th>\n",
       "      <td>0.8086_47395350-15194</td>\n",
       "      <td>0.0</td>\n",
       "      <td>0.0</td>\n",
       "      <td>0.0</td>\n",
       "      <td>0.0</td>\n",
       "      <td>0.0</td>\n",
       "      <td>0.0</td>\n",
       "      <td>0.0</td>\n",
       "      <td>0.0</td>\n",
       "      <td>0.0</td>\n",
       "      <td>...</td>\n",
       "      <td>0.0</td>\n",
       "      <td>0.0</td>\n",
       "      <td>0.0</td>\n",
       "      <td>1.0</td>\n",
       "      <td>0.0</td>\n",
       "      <td>0.0</td>\n",
       "      <td>0.8086</td>\n",
       "      <td>1.0</td>\n",
       "      <td>3811</td>\n",
       "      <td>1.0</td>\n",
       "    </tr>\n",
       "    <tr>\n",
       "      <th>503</th>\n",
       "      <td>0.8103_47046352-10175</td>\n",
       "      <td>0.0</td>\n",
       "      <td>0.0</td>\n",
       "      <td>0.0</td>\n",
       "      <td>0.0</td>\n",
       "      <td>0.0</td>\n",
       "      <td>0.0</td>\n",
       "      <td>0.0</td>\n",
       "      <td>0.0</td>\n",
       "      <td>0.0</td>\n",
       "      <td>...</td>\n",
       "      <td>0.0</td>\n",
       "      <td>0.0</td>\n",
       "      <td>0.0</td>\n",
       "      <td>1.0</td>\n",
       "      <td>0.0</td>\n",
       "      <td>0.0</td>\n",
       "      <td>0.8103</td>\n",
       "      <td>1.0</td>\n",
       "      <td>3812</td>\n",
       "      <td>1.0</td>\n",
       "    </tr>\n",
       "    <tr>\n",
       "      <th>502</th>\n",
       "      <td>0.8104_45139535-1682</td>\n",
       "      <td>0.0</td>\n",
       "      <td>0.0</td>\n",
       "      <td>0.0</td>\n",
       "      <td>0.0</td>\n",
       "      <td>0.0</td>\n",
       "      <td>0.0</td>\n",
       "      <td>0.0</td>\n",
       "      <td>0.0</td>\n",
       "      <td>0.0</td>\n",
       "      <td>...</td>\n",
       "      <td>0.0</td>\n",
       "      <td>0.0</td>\n",
       "      <td>0.0</td>\n",
       "      <td>1.0</td>\n",
       "      <td>0.0</td>\n",
       "      <td>0.0</td>\n",
       "      <td>0.8104</td>\n",
       "      <td>1.0</td>\n",
       "      <td>3813</td>\n",
       "      <td>1.0</td>\n",
       "    </tr>\n",
       "    <tr>\n",
       "      <th>...</th>\n",
       "      <td>...</td>\n",
       "      <td>...</td>\n",
       "      <td>...</td>\n",
       "      <td>...</td>\n",
       "      <td>...</td>\n",
       "      <td>...</td>\n",
       "      <td>...</td>\n",
       "      <td>...</td>\n",
       "      <td>...</td>\n",
       "      <td>...</td>\n",
       "      <td>...</td>\n",
       "      <td>...</td>\n",
       "      <td>...</td>\n",
       "      <td>...</td>\n",
       "      <td>...</td>\n",
       "      <td>...</td>\n",
       "      <td>...</td>\n",
       "      <td>...</td>\n",
       "      <td>...</td>\n",
       "      <td>...</td>\n",
       "      <td>...</td>\n",
       "    </tr>\n",
       "    <tr>\n",
       "      <th>3227</th>\n",
       "      <td>0.9999_47232107-10730</td>\n",
       "      <td>0.0</td>\n",
       "      <td>0.0</td>\n",
       "      <td>0.0</td>\n",
       "      <td>0.0</td>\n",
       "      <td>0.0</td>\n",
       "      <td>0.0</td>\n",
       "      <td>0.0</td>\n",
       "      <td>0.0</td>\n",
       "      <td>0.0</td>\n",
       "      <td>...</td>\n",
       "      <td>0.0</td>\n",
       "      <td>0.0</td>\n",
       "      <td>1.0</td>\n",
       "      <td>1.0</td>\n",
       "      <td>0.0</td>\n",
       "      <td>0.0</td>\n",
       "      <td>0.9999</td>\n",
       "      <td>0.0</td>\n",
       "      <td>4434</td>\n",
       "      <td>1.0</td>\n",
       "    </tr>\n",
       "    <tr>\n",
       "      <th>2980</th>\n",
       "      <td>0.9999_46649933-2972</td>\n",
       "      <td>0.0</td>\n",
       "      <td>0.0</td>\n",
       "      <td>0.0</td>\n",
       "      <td>0.0</td>\n",
       "      <td>0.0</td>\n",
       "      <td>0.0</td>\n",
       "      <td>0.0</td>\n",
       "      <td>0.0</td>\n",
       "      <td>0.0</td>\n",
       "      <td>...</td>\n",
       "      <td>0.0</td>\n",
       "      <td>0.0</td>\n",
       "      <td>1.0</td>\n",
       "      <td>1.0</td>\n",
       "      <td>0.0</td>\n",
       "      <td>0.0</td>\n",
       "      <td>0.9999</td>\n",
       "      <td>0.0</td>\n",
       "      <td>4436</td>\n",
       "      <td>1.0</td>\n",
       "    </tr>\n",
       "    <tr>\n",
       "      <th>2824</th>\n",
       "      <td>0.9999_45345807-1952</td>\n",
       "      <td>0.0</td>\n",
       "      <td>0.0</td>\n",
       "      <td>0.0</td>\n",
       "      <td>0.0</td>\n",
       "      <td>0.0</td>\n",
       "      <td>0.0</td>\n",
       "      <td>0.0</td>\n",
       "      <td>0.0</td>\n",
       "      <td>0.0</td>\n",
       "      <td>...</td>\n",
       "      <td>0.0</td>\n",
       "      <td>0.0</td>\n",
       "      <td>0.0</td>\n",
       "      <td>1.0</td>\n",
       "      <td>0.0</td>\n",
       "      <td>0.0</td>\n",
       "      <td>0.9999</td>\n",
       "      <td>1.0</td>\n",
       "      <td>4437</td>\n",
       "      <td>1.0</td>\n",
       "    </tr>\n",
       "    <tr>\n",
       "      <th>37</th>\n",
       "      <td>0.9999_47295055-32190</td>\n",
       "      <td>0.0</td>\n",
       "      <td>0.0</td>\n",
       "      <td>0.0</td>\n",
       "      <td>0.0</td>\n",
       "      <td>0.0</td>\n",
       "      <td>0.0</td>\n",
       "      <td>0.0</td>\n",
       "      <td>0.0</td>\n",
       "      <td>0.0</td>\n",
       "      <td>...</td>\n",
       "      <td>0.0</td>\n",
       "      <td>0.0</td>\n",
       "      <td>0.0</td>\n",
       "      <td>1.0</td>\n",
       "      <td>0.0</td>\n",
       "      <td>0.0</td>\n",
       "      <td>0.9999</td>\n",
       "      <td>1.0</td>\n",
       "      <td>4441</td>\n",
       "      <td>1.0</td>\n",
       "    </tr>\n",
       "    <tr>\n",
       "      <th>44</th>\n",
       "      <td>0.9999_44277939-339939</td>\n",
       "      <td>0.0</td>\n",
       "      <td>0.0</td>\n",
       "      <td>0.0</td>\n",
       "      <td>0.0</td>\n",
       "      <td>0.0</td>\n",
       "      <td>0.0</td>\n",
       "      <td>0.0</td>\n",
       "      <td>0.0</td>\n",
       "      <td>0.0</td>\n",
       "      <td>...</td>\n",
       "      <td>0.0</td>\n",
       "      <td>0.0</td>\n",
       "      <td>1.0</td>\n",
       "      <td>1.0</td>\n",
       "      <td>1.0</td>\n",
       "      <td>1.0</td>\n",
       "      <td>0.9999</td>\n",
       "      <td>0.0</td>\n",
       "      <td>4448</td>\n",
       "      <td>1.0</td>\n",
       "    </tr>\n",
       "  </tbody>\n",
       "</table>\n",
       "<p>290 rows × 36 columns</p>\n",
       "</div>"
      ],
      "text/plain": [
       "                 Image Index  Insufficient Quality  Atelectasis  Cardiomegaly  \\\n",
       "506     0.8069_45482052-6927                   0.0          0.0           0.0   \n",
       "505     0.8082_45275244-4303                   0.0          0.0           0.0   \n",
       "504    0.8086_47395350-15194                   0.0          0.0           0.0   \n",
       "503    0.8103_47046352-10175                   0.0          0.0           0.0   \n",
       "502     0.8104_45139535-1682                   0.0          0.0           0.0   \n",
       "...                      ...                   ...          ...           ...   \n",
       "3227   0.9999_47232107-10730                   0.0          0.0           0.0   \n",
       "2980    0.9999_46649933-2972                   0.0          0.0           0.0   \n",
       "2824    0.9999_45345807-1952                   0.0          0.0           0.0   \n",
       "37     0.9999_47295055-32190                   0.0          0.0           0.0   \n",
       "44    0.9999_44277939-339939                   0.0          0.0           0.0   \n",
       "\n",
       "      Consolidation  Pulmonary Edema  Emphysema  Fracture  Hernia  \\\n",
       "506             0.0              0.0        0.0       0.0     0.0   \n",
       "505             0.0              0.0        0.0       0.0     0.0   \n",
       "504             0.0              0.0        0.0       0.0     0.0   \n",
       "503             0.0              0.0        0.0       0.0     0.0   \n",
       "502             0.0              0.0        0.0       0.0     0.0   \n",
       "...             ...              ...        ...       ...     ...   \n",
       "3227            0.0              0.0        0.0       0.0     0.0   \n",
       "2980            0.0              0.0        0.0       0.0     0.0   \n",
       "2824            0.0              0.0        0.0       0.0     0.0   \n",
       "37              0.0              0.0        0.0       0.0     0.0   \n",
       "44              0.0              0.0        0.0       0.0     0.0   \n",
       "\n",
       "      Infiltration  ...  Reticular Infiltration  Fibrosis  ICD  \\\n",
       "506            0.0  ...                     0.0       0.0  1.0   \n",
       "505            0.0  ...                     0.0       0.0  1.0   \n",
       "504            0.0  ...                     0.0       0.0  0.0   \n",
       "503            0.0  ...                     0.0       0.0  0.0   \n",
       "502            0.0  ...                     0.0       0.0  0.0   \n",
       "...            ...  ...                     ...       ...  ...   \n",
       "3227           0.0  ...                     0.0       0.0  1.0   \n",
       "2980           0.0  ...                     0.0       0.0  1.0   \n",
       "2824           0.0  ...                     0.0       0.0  0.0   \n",
       "37             0.0  ...                     0.0       0.0  0.0   \n",
       "44             0.0  ...                     0.0       0.0  1.0   \n",
       "\n",
       "      Support Device  Skinfold  High confidence  Pneumothorax Balanced  \\\n",
       "506              1.0       0.0              0.0                 0.8069   \n",
       "505              1.0       0.0              0.0                 0.8082   \n",
       "504              1.0       0.0              0.0                 0.8086   \n",
       "503              1.0       0.0              0.0                 0.8103   \n",
       "502              1.0       0.0              0.0                 0.8104   \n",
       "...              ...       ...              ...                    ...   \n",
       "3227             1.0       0.0              0.0                 0.9999   \n",
       "2980             1.0       0.0              0.0                 0.9999   \n",
       "2824             1.0       0.0              0.0                 0.9999   \n",
       "37               1.0       0.0              0.0                 0.9999   \n",
       "44               1.0       1.0              1.0                 0.9999   \n",
       "\n",
       "      Support Device2  CVAT page  Pneumothorax by AI  \n",
       "506               0.0       3809                 1.0  \n",
       "505               0.0       3810                 1.0  \n",
       "504               1.0       3811                 1.0  \n",
       "503               1.0       3812                 1.0  \n",
       "502               1.0       3813                 1.0  \n",
       "...               ...        ...                 ...  \n",
       "3227              0.0       4434                 1.0  \n",
       "2980              0.0       4436                 1.0  \n",
       "2824              1.0       4437                 1.0  \n",
       "37                1.0       4441                 1.0  \n",
       "44                0.0       4448                 1.0  \n",
       "\n",
       "[290 rows x 36 columns]"
      ]
     },
     "execution_count": 14,
     "metadata": {},
     "output_type": "execute_result"
    }
   ],
   "source": [
    "FP[FP['Support Device']==1.0]"
   ]
  },
  {
   "cell_type": "markdown",
   "id": "5cc3e82f",
   "metadata": {},
   "source": [
    "# Sensitivity and Specificity and PPV"
   ]
  },
  {
   "cell_type": "code",
   "execution_count": 15,
   "id": "acee4483",
   "metadata": {},
   "outputs": [],
   "source": [
    "TP = df[(df['Pneumothorax by AI']==1.0)&(df['Pneumothorax']==1.0)]\n",
    "FP = df[(df['Pneumothorax by AI']==1.0)&(df['Pneumothorax']==0.0)]\n",
    "TN = df[(df['Pneumothorax by AI']==0.0)&(df['Pneumothorax']==0.0)]\n",
    "FN = df[(df['Pneumothorax by AI']==0.0)&(df['Pneumothorax']==1.0)]"
   ]
  },
  {
   "cell_type": "code",
   "execution_count": 16,
   "id": "34ef0a84",
   "metadata": {},
   "outputs": [
    {
     "name": "stdout",
     "output_type": "stream",
     "text": [
      "94 3803 557 5\n"
     ]
    }
   ],
   "source": [
    "print(len(TP),len(TN),len(FP),len(FN))"
   ]
  },
  {
   "cell_type": "code",
   "execution_count": 17,
   "id": "95591017",
   "metadata": {},
   "outputs": [
    {
     "name": "stdout",
     "output_type": "stream",
     "text": [
      "0.9494949494949495 0.8722477064220183 0.998686974789916\n",
      "PPV = 0.1443932411674347\n"
     ]
    }
   ],
   "source": [
    "sensitivity = len(TP)/(len(TP)+len(FN))\n",
    "specificity = len(TN)/(len(TN)+len(FP))\n",
    "PPV = len(TP)/(len(TP)+len(FP))\n",
    "NPV = len(TN)/(len(TN)+len(FN))\n",
    "print(sensitivity,specificity,NPV)\n",
    "print('PPV =', PPV)"
   ]
  },
  {
   "cell_type": "code",
   "execution_count": 18,
   "id": "e4b9f939",
   "metadata": {},
   "outputs": [
    {
     "data": {
      "image/png": "[encoded data removed]",
      "text/plain": [
       "<Figure size 432x288 with 1 Axes>"
      ]
     },
     "metadata": {
      "needs_background": "light"
     },
     "output_type": "display_data"
    },
    {
     "name": "stdout",
     "output_type": "stream",
     "text": [
      "AUC score = 0.9584885552775462\n"
     ]
    }
   ],
   "source": [
    "# AUC score \n",
    "FPR,TPR,tresholds = roc_curve(df['Pneumothorax'],df['Pneumothorax Balanced'])\n",
    "plt.plot(FPR,TPR)\n",
    "plt.xlabel('False Positive Rate')\n",
    "plt.ylabel('True Positive Rate')\n",
    "plt.show()\n",
    "print('AUC score =', roc_auc_score(df['Pneumothorax'],df['Pneumothorax Balanced']))"
   ]
  },
  {
   "cell_type": "code",
   "execution_count": 78,
   "id": "0ce7dcc4",
   "metadata": {},
   "outputs": [],
   "source": [
    "# Calculate F1 score \n",
    "F1 = [] \n",
    "PPVF1 = []\n",
    "senseF1 = []\n",
    "for i in tresholds : \n",
    "    TP1 = len(df[((df['Pneumothorax Balanced']>= i)&(df['Pneumothorax']==1.0))])\n",
    "    FN1 = len(df[((df['Pneumothorax Balanced'] < i)&(df['Pneumothorax']==1.0))])\n",
    "    FP1 = len(df[((df['Pneumothorax Balanced'] >= i)&(df['Pneumothorax']==0.0))])\n",
    "    if TP1 != 0 :\n",
    "        PPV1 = TP1/(TP1+FP1)\n",
    "        sense1 = TP1/(TP1+FN1)\n",
    "        F1.append(2*(sense1*PPV1)/(sense1+PPV1))\n",
    "        PPVF1.append(PPV1)\n",
    "        senseF1.append(sense1)\n",
    "    else :\n",
    "        F1.append(0)\n",
    "        PPVF1.append(0)\n",
    "        senseF1.append(0)"
   ]
  },
  {
   "cell_type": "code",
   "execution_count": 20,
   "id": "f2ca6168",
   "metadata": {},
   "outputs": [
    {
     "data": {
      "text/plain": [
       "(array([43]),)"
      ]
     },
     "execution_count": 20,
     "metadata": {},
     "output_type": "execute_result"
    }
   ],
   "source": [
    "F1 = np.array(F1)\n",
    "np.where(F1 == np.max(F1))"
   ]
  },
  {
   "cell_type": "code",
   "execution_count": 21,
   "id": "3f649e13",
   "metadata": {},
   "outputs": [
    {
     "data": {
      "text/plain": [
       "0.45414847161572053"
      ]
     },
     "execution_count": 21,
     "metadata": {},
     "output_type": "execute_result"
    }
   ],
   "source": [
    "np.max(F1)"
   ]
  },
  {
   "cell_type": "code",
   "execution_count": 22,
   "id": "8af3f90a",
   "metadata": {},
   "outputs": [
    {
     "data": {
      "text/plain": [
       "0.4032258064516129"
      ]
     },
     "execution_count": 22,
     "metadata": {},
     "output_type": "execute_result"
    }
   ],
   "source": [
    "PPVF1[40]"
   ]
  },
  {
   "cell_type": "code",
   "execution_count": 23,
   "id": "f81b9746",
   "metadata": {},
   "outputs": [
    {
     "data": {
      "text/plain": [
       "0.5050505050505051"
      ]
     },
     "execution_count": 23,
     "metadata": {},
     "output_type": "execute_result"
    }
   ],
   "source": [
    "senseF1[40]"
   ]
  },
  {
   "cell_type": "code",
   "execution_count": 24,
   "id": "912c5818",
   "metadata": {},
   "outputs": [
    {
     "data": {
      "text/plain": [
       "0.9906"
      ]
     },
     "execution_count": 24,
     "metadata": {},
     "output_type": "execute_result"
    }
   ],
   "source": [
    "tresholds[40]"
   ]
  },
  {
   "cell_type": "code",
   "execution_count": 25,
   "id": "38da2300",
   "metadata": {},
   "outputs": [],
   "source": [
    "table = pd.DataFrame({'Treshold':tresholds,'F1 score':F1})"
   ]
  },
  {
   "cell_type": "code",
   "execution_count": 77,
   "id": "45f09676",
   "metadata": {},
   "outputs": [
    {
     "data": {
      "text/html": [
       "<div>\n",
       "<style scoped>\n",
       "    .dataframe tbody tr th:only-of-type {\n",
       "        vertical-align: middle;\n",
       "    }\n",
       "\n",
       "    .dataframe tbody tr th {\n",
       "        vertical-align: top;\n",
       "    }\n",
       "\n",
       "    .dataframe thead th {\n",
       "        text-align: right;\n",
       "    }\n",
       "</style>\n",
       "<table border=\"1\" class=\"dataframe\">\n",
       "  <thead>\n",
       "    <tr style=\"text-align: right;\">\n",
       "      <th></th>\n",
       "      <th>Treshold</th>\n",
       "      <th>F1 score</th>\n",
       "    </tr>\n",
       "  </thead>\n",
       "  <tbody>\n",
       "    <tr>\n",
       "      <th>0</th>\n",
       "      <td>1.9999</td>\n",
       "      <td>0.000000</td>\n",
       "    </tr>\n",
       "    <tr>\n",
       "      <th>1</th>\n",
       "      <td>0.9999</td>\n",
       "      <td>0.256000</td>\n",
       "    </tr>\n",
       "    <tr>\n",
       "      <th>2</th>\n",
       "      <td>0.9998</td>\n",
       "      <td>0.315789</td>\n",
       "    </tr>\n",
       "    <tr>\n",
       "      <th>3</th>\n",
       "      <td>0.9997</td>\n",
       "      <td>0.311111</td>\n",
       "    </tr>\n",
       "    <tr>\n",
       "      <th>4</th>\n",
       "      <td>0.9995</td>\n",
       "      <td>0.306569</td>\n",
       "    </tr>\n",
       "  </tbody>\n",
       "</table>\n",
       "</div>"
      ],
      "text/plain": [
       "   Treshold  F1 score\n",
       "0    1.9999  0.000000\n",
       "1    0.9999  0.256000\n",
       "2    0.9998  0.315789\n",
       "3    0.9997  0.311111\n",
       "4    0.9995  0.306569"
      ]
     },
     "execution_count": 77,
     "metadata": {},
     "output_type": "execute_result"
    }
   ],
   "source": [
    "table.head()"
   ]
  },
  {
   "cell_type": "code",
   "execution_count": 27,
   "id": "b7e68f9a",
   "metadata": {},
   "outputs": [],
   "source": [
    "# Using treshold of 0.994 resulted in highest F1 score of 0.61 , PPV = 0.5 , sensitivity = 0.77 "
   ]
  },
  {
   "cell_type": "markdown",
   "id": "1b148d88",
   "metadata": {},
   "source": [
    "# False positive cases analysis "
   ]
  },
  {
   "cell_type": "markdown",
   "id": "a119a1c5",
   "metadata": {},
   "source": [
    "# Supportive device analysis "
   ]
  },
  {
   "cell_type": "code",
   "execution_count": 28,
   "id": "0388cf4d",
   "metadata": {},
   "outputs": [
    {
     "data": {
      "text/plain": [
       "0.5206463195691203"
      ]
     },
     "execution_count": 28,
     "metadata": {},
     "output_type": "execute_result"
    }
   ],
   "source": [
    "# 60% of all FP cases have supportive device \n",
    "len(FP[FP['Support Device']==1.0])/len(FP)"
   ]
  },
  {
   "cell_type": "code",
   "execution_count": 29,
   "id": "d5ab8635",
   "metadata": {},
   "outputs": [
    {
     "data": {
      "text/plain": [
       "0.4823394495412844"
      ]
     },
     "execution_count": 29,
     "metadata": {},
     "output_type": "execute_result"
    }
   ],
   "source": [
    "# 50% of normal distribution have supportive device\n",
    "len(noPneumothorax[noPneumothorax['Support Device']==1.0])/len(noPneumothorax)"
   ]
  },
  {
   "cell_type": "code",
   "execution_count": 30,
   "id": "9f5103f4",
   "metadata": {},
   "outputs": [
    {
     "data": {
      "text/plain": [
       "0.0052"
      ]
     },
     "execution_count": 30,
     "metadata": {},
     "output_type": "execute_result"
    }
   ],
   "source": [
    "# P-value that Device in FP cases > normal distribution \n",
    "L = []\n",
    "for i in range(10000):\n",
    "    rFP = FP.sample(len(FP),replace = True)\n",
    "    L.append(len(rFP[rFP['Support Device']==1.0])/len(rFP))\n",
    "L = np.array(L)\n",
    "np.sum(L<=0.46574095151377193)/len(L)"
   ]
  },
  {
   "cell_type": "code",
   "execution_count": 31,
   "id": "0ab041f6",
   "metadata": {},
   "outputs": [
    {
     "data": {
      "text/plain": [
       "0.2841010461245839"
      ]
     },
     "execution_count": 31,
     "metadata": {},
     "output_type": "execute_result"
    }
   ],
   "source": [
    "# mean balanced score in cases that have no device\n",
    "noPneumothorax[noPneumothorax['Support Device']==1.0]['Pneumothorax Balanced'].mean()"
   ]
  },
  {
   "cell_type": "code",
   "execution_count": 32,
   "id": "fdc349ab",
   "metadata": {},
   "outputs": [
    {
     "data": {
      "text/plain": [
       "0.25478772707133396"
      ]
     },
     "execution_count": 32,
     "metadata": {},
     "output_type": "execute_result"
    }
   ],
   "source": [
    "# mean balanced score in cases that have device\n",
    "noPneumothorax[noPneumothorax['Support Device']==0.0]['Pneumothorax Balanced'].mean()"
   ]
  },
  {
   "cell_type": "code",
   "execution_count": 33,
   "id": "1fa7664a",
   "metadata": {},
   "outputs": [
    {
     "data": {
      "text/plain": [
       "0.029313319053249964"
      ]
     },
     "execution_count": 33,
     "metadata": {},
     "output_type": "execute_result"
    }
   ],
   "source": [
    "0.2841010461245839-0.25478772707133396"
   ]
  },
  {
   "cell_type": "code",
   "execution_count": 34,
   "id": "f62c6f5b",
   "metadata": {},
   "outputs": [
    {
     "name": "stdout",
     "output_type": "stream",
     "text": [
      "0.010486023909951353 0.0476196884165059\n"
     ]
    }
   ],
   "source": [
    "L = []\n",
    "for i in range(10000):\n",
    "    rnoPneumothorax = noPneumothorax.sample(len(noPneumothorax),replace = True)\n",
    "    device = rnoPneumothorax[rnoPneumothorax['Support Device']==1.0]['Pneumothorax Balanced'].mean()\n",
    "    nodevice = rnoPneumothorax[rnoPneumothorax['Support Device']==0.0]['Pneumothorax Balanced'].mean()\n",
    "    L.append(device - nodevice)\n",
    "L = np.array(L)\n",
    "print(np.percentile(L,2.5), np.percentile(L,97.5))"
   ]
  },
  {
   "cell_type": "markdown",
   "id": "0054ae9b",
   "metadata": {},
   "source": [
    "# ICD analysis "
   ]
  },
  {
   "cell_type": "code",
   "execution_count": 35,
   "id": "23fd2b75",
   "metadata": {},
   "outputs": [
    {
     "data": {
      "text/plain": [
       "0.21005385996409337"
      ]
     },
     "execution_count": 35,
     "metadata": {},
     "output_type": "execute_result"
    }
   ],
   "source": [
    "# 21% of FP cases have ICD \n",
    "len(FP[FP['ICD']==1.0])/len(FP)"
   ]
  },
  {
   "cell_type": "code",
   "execution_count": 36,
   "id": "f0afeba3",
   "metadata": {},
   "outputs": [
    {
     "data": {
      "text/plain": [
       "0.047706422018348627"
      ]
     },
     "execution_count": 36,
     "metadata": {},
     "output_type": "execute_result"
    }
   ],
   "source": [
    "# there are only 4% ICD in normal distributioin \n",
    "len(noPneumothorax[noPneumothorax['ICD']==1.0])/len(noPneumothorax)"
   ]
  },
  {
   "cell_type": "code",
   "execution_count": 37,
   "id": "f13c5ed3",
   "metadata": {},
   "outputs": [
    {
     "data": {
      "text/plain": [
       "117"
      ]
     },
     "execution_count": 37,
     "metadata": {},
     "output_type": "execute_result"
    }
   ],
   "source": [
    "len(FP[FP['ICD']==1.0])"
   ]
  },
  {
   "cell_type": "code",
   "execution_count": 38,
   "id": "ef785d13",
   "metadata": {
    "scrolled": true
   },
   "outputs": [
    {
     "data": {
      "text/plain": [
       "557"
      ]
     },
     "execution_count": 38,
     "metadata": {},
     "output_type": "execute_result"
    }
   ],
   "source": [
    "len(FP)"
   ]
  },
  {
   "cell_type": "code",
   "execution_count": 39,
   "id": "48974d5d",
   "metadata": {},
   "outputs": [
    {
     "data": {
      "text/plain": [
       "0.0"
      ]
     },
     "execution_count": 39,
     "metadata": {},
     "output_type": "execute_result"
    }
   ],
   "source": [
    "# P-value that ICD in FP cases > normal distribution \n",
    "L = []\n",
    "for i in range(10000):\n",
    "    rFP = FP.sample(len(FP),replace = True)\n",
    "    L.append(len(rFP[rFP['ICD']==1.0])/len(rFP))\n",
    "L = np.array(L)\n",
    "np.sum(L<=0.0502)/len(L)"
   ]
  },
  {
   "cell_type": "code",
   "execution_count": 40,
   "id": "9c5ddf5d",
   "metadata": {},
   "outputs": [
    {
     "data": {
      "text/plain": [
       "0.6765668269230768"
      ]
     },
     "execution_count": 40,
     "metadata": {},
     "output_type": "execute_result"
    }
   ],
   "source": [
    "# mean balanced score in cases that have ICD\n",
    "noPneumothorax[noPneumothorax['ICD']==1.0]['Pneumothorax Balanced'].mean()"
   ]
  },
  {
   "cell_type": "code",
   "execution_count": 41,
   "id": "6b83f1e3",
   "metadata": {},
   "outputs": [
    {
     "data": {
      "text/plain": [
       "0.2485054190751445"
      ]
     },
     "execution_count": 41,
     "metadata": {},
     "output_type": "execute_result"
    }
   ],
   "source": [
    "# mean balanced score in cases that have no ICD\n",
    "noPneumothorax[noPneumothorax['ICD']==0.0]['Pneumothorax Balanced'].mean()"
   ]
  },
  {
   "cell_type": "code",
   "execution_count": 42,
   "id": "32065af5",
   "metadata": {},
   "outputs": [
    {
     "name": "stdout",
     "output_type": "stream",
     "text": [
      "0.37739106178338494 0.4756979710749012\n"
     ]
    }
   ],
   "source": [
    "L = []\n",
    "for i in range(10000):\n",
    "    rnoPneumothorax = noPneumothorax.sample(len(noPneumothorax),replace = True)\n",
    "    ICD = rnoPneumothorax[rnoPneumothorax['ICD']==1.0]['Pneumothorax Balanced'].mean()\n",
    "    noICD = rnoPneumothorax[rnoPneumothorax['ICD']==0.0]['Pneumothorax Balanced'].mean()\n",
    "    L.append(ICD - noICD)\n",
    "L = np.array(L)\n",
    "print(np.percentile(L,2.5), np.percentile(L,97.5))"
   ]
  },
  {
   "cell_type": "code",
   "execution_count": 43,
   "id": "4ac95f28",
   "metadata": {},
   "outputs": [
    {
     "data": {
      "text/plain": [
       "0.4465554283529795"
      ]
     },
     "execution_count": 43,
     "metadata": {},
     "output_type": "execute_result"
    }
   ],
   "source": [
    "0.6979772321428571-0.2514218037898776"
   ]
  },
  {
   "cell_type": "code",
   "execution_count": 79,
   "id": "c6b42e9f",
   "metadata": {},
   "outputs": [
    {
     "data": {
      "text/html": [
       "<div>\n",
       "<style scoped>\n",
       "    .dataframe tbody tr th:only-of-type {\n",
       "        vertical-align: middle;\n",
       "    }\n",
       "\n",
       "    .dataframe tbody tr th {\n",
       "        vertical-align: top;\n",
       "    }\n",
       "\n",
       "    .dataframe thead th {\n",
       "        text-align: right;\n",
       "    }\n",
       "</style>\n",
       "<table border=\"1\" class=\"dataframe\">\n",
       "  <thead>\n",
       "    <tr style=\"text-align: right;\">\n",
       "      <th></th>\n",
       "      <th>Image Index</th>\n",
       "      <th>Insufficient Quality</th>\n",
       "      <th>Atelectasis</th>\n",
       "      <th>Cardiomegaly</th>\n",
       "      <th>Consolidation</th>\n",
       "      <th>Pulmonary Edema</th>\n",
       "      <th>Emphysema</th>\n",
       "      <th>Fracture</th>\n",
       "      <th>Hernia</th>\n",
       "      <th>Infiltration</th>\n",
       "      <th>...</th>\n",
       "      <th>Reticular Infiltration</th>\n",
       "      <th>Fibrosis</th>\n",
       "      <th>ICD</th>\n",
       "      <th>Support Device</th>\n",
       "      <th>Skinfold</th>\n",
       "      <th>High confidence</th>\n",
       "      <th>Pneumothorax Balanced</th>\n",
       "      <th>Support Device2</th>\n",
       "      <th>CVAT page</th>\n",
       "      <th>Pneumothorax by AI</th>\n",
       "    </tr>\n",
       "  </thead>\n",
       "  <tbody>\n",
       "    <tr>\n",
       "      <th>2523</th>\n",
       "      <td>0.0288_45470002-1411</td>\n",
       "      <td>0.0</td>\n",
       "      <td>0.0</td>\n",
       "      <td>0.0</td>\n",
       "      <td>0.0</td>\n",
       "      <td>0.0</td>\n",
       "      <td>0.0</td>\n",
       "      <td>0.0</td>\n",
       "      <td>0.0</td>\n",
       "      <td>0.0</td>\n",
       "      <td>...</td>\n",
       "      <td>0.0</td>\n",
       "      <td>0.0</td>\n",
       "      <td>1.0</td>\n",
       "      <td>1.0</td>\n",
       "      <td>0.0</td>\n",
       "      <td>0.0</td>\n",
       "      <td>0.0288</td>\n",
       "      <td>0.0</td>\n",
       "      <td>707</td>\n",
       "      <td>0.0</td>\n",
       "    </tr>\n",
       "    <tr>\n",
       "      <th>2505</th>\n",
       "      <td>0.0295_44530212-4895</td>\n",
       "      <td>0.0</td>\n",
       "      <td>0.0</td>\n",
       "      <td>0.0</td>\n",
       "      <td>0.0</td>\n",
       "      <td>0.0</td>\n",
       "      <td>0.0</td>\n",
       "      <td>0.0</td>\n",
       "      <td>0.0</td>\n",
       "      <td>0.0</td>\n",
       "      <td>...</td>\n",
       "      <td>0.0</td>\n",
       "      <td>0.0</td>\n",
       "      <td>1.0</td>\n",
       "      <td>1.0</td>\n",
       "      <td>0.0</td>\n",
       "      <td>0.0</td>\n",
       "      <td>0.0295</td>\n",
       "      <td>0.0</td>\n",
       "      <td>737</td>\n",
       "      <td>0.0</td>\n",
       "    </tr>\n",
       "  </tbody>\n",
       "</table>\n",
       "<p>2 rows × 36 columns</p>\n",
       "</div>"
      ],
      "text/plain": [
       "               Image Index  Insufficient Quality  Atelectasis  Cardiomegaly  \\\n",
       "2523  0.0288_45470002-1411                   0.0          0.0           0.0   \n",
       "2505  0.0295_44530212-4895                   0.0          0.0           0.0   \n",
       "\n",
       "      Consolidation  Pulmonary Edema  Emphysema  Fracture  Hernia  \\\n",
       "2523            0.0              0.0        0.0       0.0     0.0   \n",
       "2505            0.0              0.0        0.0       0.0     0.0   \n",
       "\n",
       "      Infiltration  ...  Reticular Infiltration  Fibrosis  ICD  \\\n",
       "2523           0.0  ...                     0.0       0.0  1.0   \n",
       "2505           0.0  ...                     0.0       0.0  1.0   \n",
       "\n",
       "      Support Device  Skinfold  High confidence  Pneumothorax Balanced  \\\n",
       "2523             1.0       0.0              0.0                 0.0288   \n",
       "2505             1.0       0.0              0.0                 0.0295   \n",
       "\n",
       "      Support Device2  CVAT page  Pneumothorax by AI  \n",
       "2523              0.0        707                 0.0  \n",
       "2505              0.0        737                 0.0  \n",
       "\n",
       "[2 rows x 36 columns]"
      ]
     },
     "execution_count": 79,
     "metadata": {},
     "output_type": "execute_result"
    }
   ],
   "source": [
    "# cases with ICD and have balanced score < 0.02\n",
    "noPneumothorax[(noPneumothorax['ICD']==1.0)&(noPneumothorax['CVAT page']<= 800)].head()"
   ]
  },
  {
   "cell_type": "code",
   "execution_count": 81,
   "id": "70a3d2fb",
   "metadata": {},
   "outputs": [
    {
     "data": {
      "text/html": [
       "<div>\n",
       "<style scoped>\n",
       "    .dataframe tbody tr th:only-of-type {\n",
       "        vertical-align: middle;\n",
       "    }\n",
       "\n",
       "    .dataframe tbody tr th {\n",
       "        vertical-align: top;\n",
       "    }\n",
       "\n",
       "    .dataframe thead th {\n",
       "        text-align: right;\n",
       "    }\n",
       "</style>\n",
       "<table border=\"1\" class=\"dataframe\">\n",
       "  <thead>\n",
       "    <tr style=\"text-align: right;\">\n",
       "      <th></th>\n",
       "      <th>Image Index</th>\n",
       "      <th>Insufficient Quality</th>\n",
       "      <th>Atelectasis</th>\n",
       "      <th>Cardiomegaly</th>\n",
       "      <th>Consolidation</th>\n",
       "      <th>Pulmonary Edema</th>\n",
       "      <th>Emphysema</th>\n",
       "      <th>Fracture</th>\n",
       "      <th>Hernia</th>\n",
       "      <th>Infiltration</th>\n",
       "      <th>...</th>\n",
       "      <th>Reticular Infiltration</th>\n",
       "      <th>Fibrosis</th>\n",
       "      <th>ICD</th>\n",
       "      <th>Support Device</th>\n",
       "      <th>Skinfold</th>\n",
       "      <th>High confidence</th>\n",
       "      <th>Pneumothorax Balanced</th>\n",
       "      <th>Support Device2</th>\n",
       "      <th>CVAT page</th>\n",
       "      <th>Pneumothorax by AI</th>\n",
       "    </tr>\n",
       "  </thead>\n",
       "  <tbody>\n",
       "    <tr>\n",
       "      <th>4458</th>\n",
       "      <td>0.0060_46341170-444</td>\n",
       "      <td>0.0</td>\n",
       "      <td>0.0</td>\n",
       "      <td>0.0</td>\n",
       "      <td>0.0</td>\n",
       "      <td>0.0</td>\n",
       "      <td>0.0</td>\n",
       "      <td>0.0</td>\n",
       "      <td>0.0</td>\n",
       "      <td>0.0</td>\n",
       "      <td>...</td>\n",
       "      <td>0.0</td>\n",
       "      <td>0.0</td>\n",
       "      <td>0.0</td>\n",
       "      <td>0.0</td>\n",
       "      <td>0.0</td>\n",
       "      <td>0.0</td>\n",
       "      <td>0.0060</td>\n",
       "      <td>0.0</td>\n",
       "      <td>0</td>\n",
       "      <td>0.0</td>\n",
       "    </tr>\n",
       "    <tr>\n",
       "      <th>2821</th>\n",
       "      <td>0.0066_45660768-736</td>\n",
       "      <td>0.0</td>\n",
       "      <td>0.0</td>\n",
       "      <td>0.0</td>\n",
       "      <td>0.0</td>\n",
       "      <td>0.0</td>\n",
       "      <td>0.0</td>\n",
       "      <td>0.0</td>\n",
       "      <td>0.0</td>\n",
       "      <td>0.0</td>\n",
       "      <td>...</td>\n",
       "      <td>0.0</td>\n",
       "      <td>0.0</td>\n",
       "      <td>0.0</td>\n",
       "      <td>0.0</td>\n",
       "      <td>0.0</td>\n",
       "      <td>0.0</td>\n",
       "      <td>0.0066</td>\n",
       "      <td>0.0</td>\n",
       "      <td>1</td>\n",
       "      <td>0.0</td>\n",
       "    </tr>\n",
       "    <tr>\n",
       "      <th>3221</th>\n",
       "      <td>0.0070_47580436-1130</td>\n",
       "      <td>0.0</td>\n",
       "      <td>0.0</td>\n",
       "      <td>0.0</td>\n",
       "      <td>0.0</td>\n",
       "      <td>0.0</td>\n",
       "      <td>0.0</td>\n",
       "      <td>0.0</td>\n",
       "      <td>0.0</td>\n",
       "      <td>0.0</td>\n",
       "      <td>...</td>\n",
       "      <td>0.0</td>\n",
       "      <td>0.0</td>\n",
       "      <td>0.0</td>\n",
       "      <td>0.0</td>\n",
       "      <td>0.0</td>\n",
       "      <td>0.0</td>\n",
       "      <td>0.0070</td>\n",
       "      <td>0.0</td>\n",
       "      <td>2</td>\n",
       "      <td>0.0</td>\n",
       "    </tr>\n",
       "    <tr>\n",
       "      <th>4457</th>\n",
       "      <td>0.0070_45501892-72</td>\n",
       "      <td>0.0</td>\n",
       "      <td>0.0</td>\n",
       "      <td>0.0</td>\n",
       "      <td>0.0</td>\n",
       "      <td>0.0</td>\n",
       "      <td>0.0</td>\n",
       "      <td>0.0</td>\n",
       "      <td>0.0</td>\n",
       "      <td>0.0</td>\n",
       "      <td>...</td>\n",
       "      <td>0.0</td>\n",
       "      <td>0.0</td>\n",
       "      <td>0.0</td>\n",
       "      <td>0.0</td>\n",
       "      <td>0.0</td>\n",
       "      <td>0.0</td>\n",
       "      <td>0.0070</td>\n",
       "      <td>0.0</td>\n",
       "      <td>3</td>\n",
       "      <td>0.0</td>\n",
       "    </tr>\n",
       "    <tr>\n",
       "      <th>3658</th>\n",
       "      <td>0.0070_45585496-72</td>\n",
       "      <td>0.0</td>\n",
       "      <td>0.0</td>\n",
       "      <td>0.0</td>\n",
       "      <td>0.0</td>\n",
       "      <td>0.0</td>\n",
       "      <td>0.0</td>\n",
       "      <td>0.0</td>\n",
       "      <td>0.0</td>\n",
       "      <td>0.0</td>\n",
       "      <td>...</td>\n",
       "      <td>0.0</td>\n",
       "      <td>0.0</td>\n",
       "      <td>0.0</td>\n",
       "      <td>1.0</td>\n",
       "      <td>0.0</td>\n",
       "      <td>0.0</td>\n",
       "      <td>0.0070</td>\n",
       "      <td>1.0</td>\n",
       "      <td>4</td>\n",
       "      <td>0.0</td>\n",
       "    </tr>\n",
       "  </tbody>\n",
       "</table>\n",
       "<p>5 rows × 36 columns</p>\n",
       "</div>"
      ],
      "text/plain": [
       "               Image Index  Insufficient Quality  Atelectasis  Cardiomegaly  \\\n",
       "4458   0.0060_46341170-444                   0.0          0.0           0.0   \n",
       "2821   0.0066_45660768-736                   0.0          0.0           0.0   \n",
       "3221  0.0070_47580436-1130                   0.0          0.0           0.0   \n",
       "4457    0.0070_45501892-72                   0.0          0.0           0.0   \n",
       "3658    0.0070_45585496-72                   0.0          0.0           0.0   \n",
       "\n",
       "      Consolidation  Pulmonary Edema  Emphysema  Fracture  Hernia  \\\n",
       "4458            0.0              0.0        0.0       0.0     0.0   \n",
       "2821            0.0              0.0        0.0       0.0     0.0   \n",
       "3221            0.0              0.0        0.0       0.0     0.0   \n",
       "4457            0.0              0.0        0.0       0.0     0.0   \n",
       "3658            0.0              0.0        0.0       0.0     0.0   \n",
       "\n",
       "      Infiltration  ...  Reticular Infiltration  Fibrosis  ICD  \\\n",
       "4458           0.0  ...                     0.0       0.0  0.0   \n",
       "2821           0.0  ...                     0.0       0.0  0.0   \n",
       "3221           0.0  ...                     0.0       0.0  0.0   \n",
       "4457           0.0  ...                     0.0       0.0  0.0   \n",
       "3658           0.0  ...                     0.0       0.0  0.0   \n",
       "\n",
       "      Support Device  Skinfold  High confidence  Pneumothorax Balanced  \\\n",
       "4458             0.0       0.0              0.0                 0.0060   \n",
       "2821             0.0       0.0              0.0                 0.0066   \n",
       "3221             0.0       0.0              0.0                 0.0070   \n",
       "4457             0.0       0.0              0.0                 0.0070   \n",
       "3658             1.0       0.0              0.0                 0.0070   \n",
       "\n",
       "      Support Device2  CVAT page  Pneumothorax by AI  \n",
       "4458              0.0          0                 0.0  \n",
       "2821              0.0          1                 0.0  \n",
       "3221              0.0          2                 0.0  \n",
       "4457              0.0          3                 0.0  \n",
       "3658              1.0          4                 0.0  \n",
       "\n",
       "[5 rows x 36 columns]"
      ]
     },
     "execution_count": 81,
     "metadata": {},
     "output_type": "execute_result"
    }
   ],
   "source": [
    "df[(df['ICD']==0.0)&(df['Pneumothorax Balanced'] < 0.0288)].head()"
   ]
  },
  {
   "cell_type": "code",
   "execution_count": 80,
   "id": "0ee48da9",
   "metadata": {},
   "outputs": [
    {
     "data": {
      "text/html": [
       "<div>\n",
       "<style scoped>\n",
       "    .dataframe tbody tr th:only-of-type {\n",
       "        vertical-align: middle;\n",
       "    }\n",
       "\n",
       "    .dataframe tbody tr th {\n",
       "        vertical-align: top;\n",
       "    }\n",
       "\n",
       "    .dataframe thead th {\n",
       "        text-align: right;\n",
       "    }\n",
       "</style>\n",
       "<table border=\"1\" class=\"dataframe\">\n",
       "  <thead>\n",
       "    <tr style=\"text-align: right;\">\n",
       "      <th></th>\n",
       "      <th>Image Index</th>\n",
       "      <th>Insufficient Quality</th>\n",
       "      <th>Atelectasis</th>\n",
       "      <th>Cardiomegaly</th>\n",
       "      <th>Consolidation</th>\n",
       "      <th>Pulmonary Edema</th>\n",
       "      <th>Emphysema</th>\n",
       "      <th>Fracture</th>\n",
       "      <th>Hernia</th>\n",
       "      <th>Infiltration</th>\n",
       "      <th>...</th>\n",
       "      <th>Reticular Infiltration</th>\n",
       "      <th>Fibrosis</th>\n",
       "      <th>ICD</th>\n",
       "      <th>Support Device</th>\n",
       "      <th>Skinfold</th>\n",
       "      <th>High confidence</th>\n",
       "      <th>Pneumothorax Balanced</th>\n",
       "      <th>Support Device2</th>\n",
       "      <th>CVAT page</th>\n",
       "      <th>Pneumothorax by AI</th>\n",
       "    </tr>\n",
       "  </thead>\n",
       "  <tbody>\n",
       "    <tr>\n",
       "      <th>4458</th>\n",
       "      <td>0.0060_46341170-444</td>\n",
       "      <td>0.0</td>\n",
       "      <td>0.0</td>\n",
       "      <td>0.0</td>\n",
       "      <td>0.0</td>\n",
       "      <td>0.0</td>\n",
       "      <td>0.0</td>\n",
       "      <td>0.0</td>\n",
       "      <td>0.0</td>\n",
       "      <td>0.0</td>\n",
       "      <td>...</td>\n",
       "      <td>0.0</td>\n",
       "      <td>0.0</td>\n",
       "      <td>0.0</td>\n",
       "      <td>0.0</td>\n",
       "      <td>0.0</td>\n",
       "      <td>0.0</td>\n",
       "      <td>0.0060</td>\n",
       "      <td>0.0</td>\n",
       "      <td>0</td>\n",
       "      <td>0.0</td>\n",
       "    </tr>\n",
       "    <tr>\n",
       "      <th>2821</th>\n",
       "      <td>0.0066_45660768-736</td>\n",
       "      <td>0.0</td>\n",
       "      <td>0.0</td>\n",
       "      <td>0.0</td>\n",
       "      <td>0.0</td>\n",
       "      <td>0.0</td>\n",
       "      <td>0.0</td>\n",
       "      <td>0.0</td>\n",
       "      <td>0.0</td>\n",
       "      <td>0.0</td>\n",
       "      <td>...</td>\n",
       "      <td>0.0</td>\n",
       "      <td>0.0</td>\n",
       "      <td>0.0</td>\n",
       "      <td>0.0</td>\n",
       "      <td>0.0</td>\n",
       "      <td>0.0</td>\n",
       "      <td>0.0066</td>\n",
       "      <td>0.0</td>\n",
       "      <td>1</td>\n",
       "      <td>0.0</td>\n",
       "    </tr>\n",
       "    <tr>\n",
       "      <th>3221</th>\n",
       "      <td>0.0070_47580436-1130</td>\n",
       "      <td>0.0</td>\n",
       "      <td>0.0</td>\n",
       "      <td>0.0</td>\n",
       "      <td>0.0</td>\n",
       "      <td>0.0</td>\n",
       "      <td>0.0</td>\n",
       "      <td>0.0</td>\n",
       "      <td>0.0</td>\n",
       "      <td>0.0</td>\n",
       "      <td>...</td>\n",
       "      <td>0.0</td>\n",
       "      <td>0.0</td>\n",
       "      <td>0.0</td>\n",
       "      <td>0.0</td>\n",
       "      <td>0.0</td>\n",
       "      <td>0.0</td>\n",
       "      <td>0.0070</td>\n",
       "      <td>0.0</td>\n",
       "      <td>2</td>\n",
       "      <td>0.0</td>\n",
       "    </tr>\n",
       "    <tr>\n",
       "      <th>4457</th>\n",
       "      <td>0.0070_45501892-72</td>\n",
       "      <td>0.0</td>\n",
       "      <td>0.0</td>\n",
       "      <td>0.0</td>\n",
       "      <td>0.0</td>\n",
       "      <td>0.0</td>\n",
       "      <td>0.0</td>\n",
       "      <td>0.0</td>\n",
       "      <td>0.0</td>\n",
       "      <td>0.0</td>\n",
       "      <td>...</td>\n",
       "      <td>0.0</td>\n",
       "      <td>0.0</td>\n",
       "      <td>0.0</td>\n",
       "      <td>0.0</td>\n",
       "      <td>0.0</td>\n",
       "      <td>0.0</td>\n",
       "      <td>0.0070</td>\n",
       "      <td>0.0</td>\n",
       "      <td>3</td>\n",
       "      <td>0.0</td>\n",
       "    </tr>\n",
       "    <tr>\n",
       "      <th>3658</th>\n",
       "      <td>0.0070_45585496-72</td>\n",
       "      <td>0.0</td>\n",
       "      <td>0.0</td>\n",
       "      <td>0.0</td>\n",
       "      <td>0.0</td>\n",
       "      <td>0.0</td>\n",
       "      <td>0.0</td>\n",
       "      <td>0.0</td>\n",
       "      <td>0.0</td>\n",
       "      <td>0.0</td>\n",
       "      <td>...</td>\n",
       "      <td>0.0</td>\n",
       "      <td>0.0</td>\n",
       "      <td>0.0</td>\n",
       "      <td>1.0</td>\n",
       "      <td>0.0</td>\n",
       "      <td>0.0</td>\n",
       "      <td>0.0070</td>\n",
       "      <td>1.0</td>\n",
       "      <td>4</td>\n",
       "      <td>0.0</td>\n",
       "    </tr>\n",
       "  </tbody>\n",
       "</table>\n",
       "<p>5 rows × 36 columns</p>\n",
       "</div>"
      ],
      "text/plain": [
       "               Image Index  Insufficient Quality  Atelectasis  Cardiomegaly  \\\n",
       "4458   0.0060_46341170-444                   0.0          0.0           0.0   \n",
       "2821   0.0066_45660768-736                   0.0          0.0           0.0   \n",
       "3221  0.0070_47580436-1130                   0.0          0.0           0.0   \n",
       "4457    0.0070_45501892-72                   0.0          0.0           0.0   \n",
       "3658    0.0070_45585496-72                   0.0          0.0           0.0   \n",
       "\n",
       "      Consolidation  Pulmonary Edema  Emphysema  Fracture  Hernia  \\\n",
       "4458            0.0              0.0        0.0       0.0     0.0   \n",
       "2821            0.0              0.0        0.0       0.0     0.0   \n",
       "3221            0.0              0.0        0.0       0.0     0.0   \n",
       "4457            0.0              0.0        0.0       0.0     0.0   \n",
       "3658            0.0              0.0        0.0       0.0     0.0   \n",
       "\n",
       "      Infiltration  ...  Reticular Infiltration  Fibrosis  ICD  \\\n",
       "4458           0.0  ...                     0.0       0.0  0.0   \n",
       "2821           0.0  ...                     0.0       0.0  0.0   \n",
       "3221           0.0  ...                     0.0       0.0  0.0   \n",
       "4457           0.0  ...                     0.0       0.0  0.0   \n",
       "3658           0.0  ...                     0.0       0.0  0.0   \n",
       "\n",
       "      Support Device  Skinfold  High confidence  Pneumothorax Balanced  \\\n",
       "4458             0.0       0.0              0.0                 0.0060   \n",
       "2821             0.0       0.0              0.0                 0.0066   \n",
       "3221             0.0       0.0              0.0                 0.0070   \n",
       "4457             0.0       0.0              0.0                 0.0070   \n",
       "3658             1.0       0.0              0.0                 0.0070   \n",
       "\n",
       "      Support Device2  CVAT page  Pneumothorax by AI  \n",
       "4458              0.0          0                 0.0  \n",
       "2821              0.0          1                 0.0  \n",
       "3221              0.0          2                 0.0  \n",
       "4457              0.0          3                 0.0  \n",
       "3658              1.0          4                 0.0  \n",
       "\n",
       "[5 rows x 36 columns]"
      ]
     },
     "execution_count": 80,
     "metadata": {},
     "output_type": "execute_result"
    }
   ],
   "source": [
    "df[df['ICD']==0.0].head()"
   ]
  },
  {
   "cell_type": "code",
   "execution_count": 47,
   "id": "4baa8f05",
   "metadata": {},
   "outputs": [],
   "source": [
    "nPICD = noPneumothorax[(noPneumothorax['ICD']==1.0)]\n",
    "nPnICD = nPICD = noPneumothorax[(noPneumothorax['ICD']==0.0)]"
   ]
  },
  {
   "cell_type": "markdown",
   "id": "c0068264",
   "metadata": {},
   "source": [
    "# Pleural effusion "
   ]
  },
  {
   "cell_type": "code",
   "execution_count": 48,
   "id": "d672a089",
   "metadata": {},
   "outputs": [
    {
     "data": {
      "text/plain": [
       "210"
      ]
     },
     "execution_count": 48,
     "metadata": {},
     "output_type": "execute_result"
    }
   ],
   "source": [
    "len(FP[FP['Pleural Effusion']==1.0])"
   ]
  },
  {
   "cell_type": "code",
   "execution_count": 49,
   "id": "94c02bcf",
   "metadata": {},
   "outputs": [
    {
     "data": {
      "text/plain": [
       "0.3770197486535009"
      ]
     },
     "execution_count": 49,
     "metadata": {},
     "output_type": "execute_result"
    }
   ],
   "source": [
    "len(FP[FP['Pleural Effusion']==1.0])/len(FP)"
   ]
  },
  {
   "cell_type": "code",
   "execution_count": 50,
   "id": "44d56261",
   "metadata": {},
   "outputs": [
    {
     "data": {
      "text/plain": [
       "0.26972477064220185"
      ]
     },
     "execution_count": 50,
     "metadata": {},
     "output_type": "execute_result"
    }
   ],
   "source": [
    "len(noPneumothorax[noPneumothorax['Pleural Effusion']==1.0])/len(noPneumothorax)"
   ]
  },
  {
   "cell_type": "code",
   "execution_count": 51,
   "id": "e7f9a881",
   "metadata": {},
   "outputs": [
    {
     "data": {
      "text/plain": [
       "0.0"
      ]
     },
     "execution_count": 51,
     "metadata": {},
     "output_type": "execute_result"
    }
   ],
   "source": [
    "L = []\n",
    "for i in range(10000):\n",
    "    rFP = FP.sample(len(FP),replace = True)\n",
    "    L.append(len(rFP[rFP['Pleural Effusion']==1.0])/len(rFP))\n",
    "L = np.array(L)\n",
    "np.sum(L<=0.26473935806965626)/len(L)"
   ]
  },
  {
   "cell_type": "code",
   "execution_count": 52,
   "id": "89f9cb7f",
   "metadata": {},
   "outputs": [
    {
     "data": {
      "text/plain": [
       "0.35186077738515925"
      ]
     },
     "execution_count": 52,
     "metadata": {},
     "output_type": "execute_result"
    }
   ],
   "source": [
    "nPnICD[nPnICD['Pleural Effusion']==1.0]['Pneumothorax Balanced'].mean()"
   ]
  },
  {
   "cell_type": "code",
   "execution_count": 53,
   "id": "7f096def",
   "metadata": {},
   "outputs": [
    {
     "data": {
      "text/plain": [
       "0.209764271523179"
      ]
     },
     "execution_count": 53,
     "metadata": {},
     "output_type": "execute_result"
    }
   ],
   "source": [
    "nPnICD[nPnICD['Pleural Effusion']==0.0]['Pneumothorax Balanced'].mean()"
   ]
  },
  {
   "cell_type": "code",
   "execution_count": 54,
   "id": "fa198138",
   "metadata": {},
   "outputs": [
    {
     "data": {
      "text/plain": [
       "0.15192804904576887"
      ]
     },
     "execution_count": 54,
     "metadata": {},
     "output_type": "execute_result"
    }
   ],
   "source": [
    "0.36260733452593946-0.2106792854801706"
   ]
  },
  {
   "cell_type": "code",
   "execution_count": 55,
   "id": "006a5811",
   "metadata": {},
   "outputs": [
    {
     "name": "stdout",
     "output_type": "stream",
     "text": [
      "0.12193556366638128 0.16275411096105155\n"
     ]
    }
   ],
   "source": [
    "L = []\n",
    "for i in range(10000):\n",
    "    rnPnICD = nPnICD.sample(len(noPneumothorax),replace = True)\n",
    "    ef = rnPnICD[rnPnICD['Pleural Effusion']==1.0]['Pneumothorax Balanced'].mean()\n",
    "    noef = rnPnICD[rnPnICD['Pleural Effusion']==0.0]['Pneumothorax Balanced'].mean()\n",
    "    L.append(ef - noef)\n",
    "L = np.array(L)\n",
    "print(np.percentile(L,2.5), np.percentile(L,97.5))"
   ]
  },
  {
   "cell_type": "markdown",
   "id": "68b6a1b6",
   "metadata": {},
   "source": [
    "# Lung opacity without pleural effusion"
   ]
  },
  {
   "cell_type": "code",
   "execution_count": 56,
   "id": "993f41c3",
   "metadata": {},
   "outputs": [],
   "source": [
    "# Opacity cases that dont have ICD and pleural effusion, Pneumothorax\n",
    "Uopac = noPneumothorax[(noPneumothorax['ICD']==0.0)&(noPneumothorax['Pleural Effusion']==0.0)]\n",
    "FPopac = FP[(FP['ICD']==0.0)&(FP['Pleural Effusion']==0.0)]"
   ]
  },
  {
   "cell_type": "code",
   "execution_count": 57,
   "id": "caadd903",
   "metadata": {},
   "outputs": [
    {
     "data": {
      "text/plain": [
       "448"
      ]
     },
     "execution_count": 57,
     "metadata": {},
     "output_type": "execute_result"
    }
   ],
   "source": [
    "len(FP[FP['Lung Opacity']==1.0])"
   ]
  },
  {
   "cell_type": "code",
   "execution_count": 58,
   "id": "11d08533",
   "metadata": {},
   "outputs": [
    {
     "data": {
      "text/plain": [
       "192"
      ]
     },
     "execution_count": 58,
     "metadata": {},
     "output_type": "execute_result"
    }
   ],
   "source": [
    "len(FPopac[FPopac['Lung Opacity']==1.0])"
   ]
  },
  {
   "cell_type": "code",
   "execution_count": 59,
   "id": "3ef5d0cf",
   "metadata": {},
   "outputs": [
    {
     "data": {
      "text/plain": [
       "0.75"
      ]
     },
     "execution_count": 59,
     "metadata": {},
     "output_type": "execute_result"
    }
   ],
   "source": [
    "len(FPopac[FPopac['Lung Opacity']==1.0])/len(FPopac)"
   ]
  },
  {
   "cell_type": "code",
   "execution_count": 60,
   "id": "cd959087",
   "metadata": {},
   "outputs": [
    {
     "data": {
      "text/plain": [
       "0.5205298013245033"
      ]
     },
     "execution_count": 60,
     "metadata": {},
     "output_type": "execute_result"
    }
   ],
   "source": [
    "len(Uopac[Uopac['Lung Opacity']==1.0])/len(Uopac)"
   ]
  },
  {
   "cell_type": "code",
   "execution_count": 61,
   "id": "3e12b836",
   "metadata": {},
   "outputs": [
    {
     "data": {
      "text/plain": [
       "0.27318575063613243"
      ]
     },
     "execution_count": 61,
     "metadata": {},
     "output_type": "execute_result"
    }
   ],
   "source": [
    "Uopac[Uopac['Lung Opacity']==1.0]['Pneumothorax Balanced'].mean()"
   ]
  },
  {
   "cell_type": "code",
   "execution_count": 62,
   "id": "3b88ff90",
   "metadata": {},
   "outputs": [
    {
     "data": {
      "text/plain": [
       "0.14091167127071824"
      ]
     },
     "execution_count": 62,
     "metadata": {},
     "output_type": "execute_result"
    }
   ],
   "source": [
    "Uopac[Uopac['Lung Opacity']==0.0]['Pneumothorax Balanced'].mean()"
   ]
  },
  {
   "cell_type": "code",
   "execution_count": 63,
   "id": "2c43f220",
   "metadata": {},
   "outputs": [
    {
     "name": "stdout",
     "output_type": "stream",
     "text": [
      "0.11649363624165235 0.1484409395329001\n"
     ]
    }
   ],
   "source": [
    "L = []\n",
    "for i in range(10000):\n",
    "    rUopac = Uopac.sample(len(noPneumothorax),replace = True)\n",
    "    ef = rUopac[rUopac['Lung Opacity']==1.0]['Pneumothorax Balanced'].mean()\n",
    "    noef = rUopac[rUopac['Lung Opacity']==0.0]['Pneumothorax Balanced'].mean()\n",
    "    L.append(ef - noef)\n",
    "L = np.array(L)\n",
    "print(np.percentile(L,2.5), np.percentile(L,97.5))"
   ]
  },
  {
   "cell_type": "code",
   "execution_count": 64,
   "id": "dbc08ad0",
   "metadata": {},
   "outputs": [
    {
     "data": {
      "text/plain": [
       "0.13421043312002104"
      ]
     },
     "execution_count": 64,
     "metadata": {},
     "output_type": "execute_result"
    }
   ],
   "source": [
    "0.2748592336683418-0.14064880054832077"
   ]
  },
  {
   "cell_type": "markdown",
   "id": "6fba83f7",
   "metadata": {},
   "source": [
    "# Heatmap outside chest wall "
   ]
  },
  {
   "cell_type": "code",
   "execution_count": 65,
   "id": "2137224a",
   "metadata": {},
   "outputs": [
    {
     "data": {
      "text/plain": [
       "0.08617594254937164"
      ]
     },
     "execution_count": 65,
     "metadata": {},
     "output_type": "execute_result"
    }
   ],
   "source": [
    "# 5% of FP have heatmap outside chest wall \n",
    "len(FP[FP['Bad Labeler']==1.0])/len(FP)"
   ]
  },
  {
   "cell_type": "code",
   "execution_count": 66,
   "id": "ccf7f610",
   "metadata": {},
   "outputs": [
    {
     "data": {
      "text/plain": [
       "48"
      ]
     },
     "execution_count": 66,
     "metadata": {},
     "output_type": "execute_result"
    }
   ],
   "source": [
    "len(FP[FP['Bad Labeler']==1.0])"
   ]
  },
  {
   "cell_type": "code",
   "execution_count": 67,
   "id": "cb43365e",
   "metadata": {},
   "outputs": [
    {
     "data": {
      "text/plain": [
       "0.014220183486238533"
      ]
     },
     "execution_count": 67,
     "metadata": {},
     "output_type": "execute_result"
    }
   ],
   "source": [
    "# only 1 % have bad labeler in normal distribution \n",
    "len(noPneumothorax[noPneumothorax['Bad Labeler']==1.0])/len(noPneumothorax)"
   ]
  },
  {
   "cell_type": "markdown",
   "id": "96716c94",
   "metadata": {},
   "source": [
    "# Percent of False positive with skinfold  "
   ]
  },
  {
   "cell_type": "code",
   "execution_count": 68,
   "id": "b12b3c6c",
   "metadata": {},
   "outputs": [
    {
     "data": {
      "text/plain": [
       "0.06463195691202872"
      ]
     },
     "execution_count": 68,
     "metadata": {},
     "output_type": "execute_result"
    }
   ],
   "source": [
    "len(FP[FP['Skinfold']==1.0])/len(FP)"
   ]
  },
  {
   "cell_type": "code",
   "execution_count": 69,
   "id": "206c4cdc",
   "metadata": {},
   "outputs": [
    {
     "data": {
      "text/plain": [
       "36"
      ]
     },
     "execution_count": 69,
     "metadata": {},
     "output_type": "execute_result"
    }
   ],
   "source": [
    "len(FP[FP['Skinfold']==1.0])"
   ]
  },
  {
   "cell_type": "markdown",
   "id": "edd75be4",
   "metadata": {},
   "source": [
    "false positive - 7.8% Heatmap outside chest wall \n",
    "               - 4.7% skinfold \n",
    "               - 22.5% ICD -> (P-value 0.0) \n",
    "divice that is not ICD -> not relate to more diagnosis of pneumothorax by AI \n"
   ]
  },
  {
   "cell_type": "markdown",
   "id": "1adf0c21",
   "metadata": {},
   "source": [
    "# High confidence"
   ]
  },
  {
   "cell_type": "code",
   "execution_count": 70,
   "id": "551db7c7",
   "metadata": {},
   "outputs": [],
   "source": [
    "FP2 = df[(df['Pneumothorax by AI']==1.0)&(df['Pneumothorax']==0.0)\n",
    "         &(df['High confidence']== 1.0)]"
   ]
  },
  {
   "cell_type": "code",
   "execution_count": 71,
   "id": "d1eae71d",
   "metadata": {},
   "outputs": [
    {
     "data": {
      "text/plain": [
       "182"
      ]
     },
     "execution_count": 71,
     "metadata": {},
     "output_type": "execute_result"
    }
   ],
   "source": [
    "len(FP2)"
   ]
  },
  {
   "cell_type": "code",
   "execution_count": 72,
   "id": "513832c5",
   "metadata": {},
   "outputs": [
    {
     "data": {
      "text/plain": [
       "0.34057971014492755"
      ]
     },
     "execution_count": 72,
     "metadata": {},
     "output_type": "execute_result"
    }
   ],
   "source": [
    "PPV2 = len(TP)/(len(TP)+len(FP2))\n",
    "PPV2"
   ]
  },
  {
   "cell_type": "code",
   "execution_count": 73,
   "id": "1697b1b5",
   "metadata": {},
   "outputs": [],
   "source": [
    "FP3 = df[(df['Pneumothorax by AI']==1.0)&(df['Pneumothorax']==0.0)\n",
    "         &(df['High confidence']== 1.0)&(df['Bad Labeler']== 0.0)]"
   ]
  },
  {
   "cell_type": "code",
   "execution_count": 74,
   "id": "01ceeee3",
   "metadata": {},
   "outputs": [
    {
     "data": {
      "text/plain": [
       "0.3900414937759336"
      ]
     },
     "execution_count": 74,
     "metadata": {},
     "output_type": "execute_result"
    }
   ],
   "source": [
    "PPV3 = len(TP)/(len(TP)+len(FP3))\n",
    "PPV3"
   ]
  },
  {
   "cell_type": "code",
   "execution_count": 75,
   "id": "0de3e09f",
   "metadata": {},
   "outputs": [
    {
     "data": {
      "text/plain": [
       "0.41228070175438597"
      ]
     },
     "execution_count": 75,
     "metadata": {},
     "output_type": "execute_result"
    }
   ],
   "source": [
    "FP4 = df[(df['Pneumothorax by AI']==1.0)&(df['Pneumothorax']==0.0)\n",
    "         &(df['High confidence']== 1.0)&(df['Bad Labeler']== 0.0)\n",
    "         &(df['Skinfold']== 0.0)]\n",
    "PPV4 = len(TP)/(len(TP)+len(FP4))\n",
    "PPV4"
   ]
  },
  {
   "cell_type": "code",
   "execution_count": 76,
   "id": "ecc0c0ec",
   "metadata": {},
   "outputs": [
    {
     "data": {
      "text/plain": [
       "448"
      ]
     },
     "execution_count": 76,
     "metadata": {},
     "output_type": "execute_result"
    }
   ],
   "source": [
    "len(FP[FP['Lung Opacity']==1.0])"
   ]
  },
  {
   "cell_type": "code",
   "execution_count": null,
   "id": "5ae28158",
   "metadata": {},
   "outputs": [],
   "source": []
  }
 ],
 "metadata": {
  "kernelspec": {
   "display_name": "Python 3 (ipykernel)",
   "language": "python",
   "name": "python3"
  },
  "language_info": {
   "codemirror_mode": {
    "name": "ipython",
    "version": 3
   },
   "file_extension": ".py",
   "mimetype": "text/x-python",
   "name": "python",
   "nbconvert_exporter": "python",
   "pygments_lexer": "ipython3",
   "version": "3.9.12"
  }
 },
 "nbformat": 4,
 "nbformat_minor": 5
}
