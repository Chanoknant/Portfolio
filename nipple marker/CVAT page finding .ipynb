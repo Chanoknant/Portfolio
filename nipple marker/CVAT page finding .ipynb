{
 "cells": [
  {
   "cell_type": "code",
   "execution_count": 2,
   "id": "db54e950",
   "metadata": {},
   "outputs": [],
   "source": [
    "import pandas as pd \n",
    "import matplotlib.pyplot as plt \n",
    "import numpy as np \n",
    "from sklearn.metrics import roc_curve\n",
    "from sklearn import metrics"
   ]
  },
  {
   "cell_type": "code",
   "execution_count": 3,
   "id": "19f7e55a",
   "metadata": {},
   "outputs": [],
   "source": [
    "df = pd.read_csv('praram9_selected_1000_w_org_ratio.csv')\n",
    "Thresholdfile2 = pd.read_csv('threshold_ab_10502_cardio90_correct.csv')\n",
    "Thresholdfile1 = pd.read_csv('threshold_ab10502_tb105e.csv')\n",
    "Thresholdfile3 = pd.read_csv('threshold_tuberculosis.csv')\n",
    "GT = pd.read_csv('nipple_marker_raw.csv')"
   ]
  },
  {
   "cell_type": "code",
   "execution_count": 4,
   "id": "04172d0e",
   "metadata": {},
   "outputs": [
    {
     "data": {
      "text/plain": [
       "Index(['Image Index', 'Atelectasis', 'Atelectasis_Minimal', 'Cardiomegaly',\n",
       "       'Cardiomegaly_Minimal', 'Consolidation', 'Consolidation_Minimal',\n",
       "       'Edema', 'Edema_Minimal', 'Exclude', 'Fibrosis', 'Fibrosis_Minimal',\n",
       "       'Infiltration', 'Infiltration_Minimal', 'Lung Opacity',\n",
       "       'Lung Opacity_Minimal', 'Mass', 'Mass_Minimal', 'Nipple Marker',\n",
       "       'Nodule', 'Nodule_Minimal', 'Pleural Effusion',\n",
       "       'Pleural Effusion_Minimal', 'Tuberculosis', 'Tuberculosis_Minimal'],\n",
       "      dtype='object')"
      ]
     },
     "execution_count": 4,
     "metadata": {},
     "output_type": "execute_result"
    }
   ],
   "source": [
    "GT.columns"
   ]
  },
  {
   "cell_type": "code",
   "execution_count": 5,
   "id": "92738c64",
   "metadata": {},
   "outputs": [],
   "source": [
    "Thresholdfile = pd.merge(Thresholdfile1,Thresholdfile2,how = 'outer', on = 'Disease')\n",
    "Thresholdfile = pd.merge(Thresholdfile,Thresholdfile3,how = 'outer', on = 'Disease')\n",
    "Thresholdfile.dropna(axis = 1,inplace = True)\n",
    "Thresholdfile.rename({'Prob Threshold_x':'Prob Threshold','Confidence Threshold_x':'Confidence Threshold'},\n",
    "                     axis = 'columns', inplace = True)\n",
    "\n",
    "Thresholdfile['Disease'].replace('Inspectra Lung Opacity v1','Lung Opacity',inplace= True)\n",
    "Thresholdfile.set_index('Disease',inplace = True)"
   ]
  },
  {
   "cell_type": "code",
   "execution_count": 6,
   "id": "7eda4283",
   "metadata": {},
   "outputs": [],
   "source": [
    "GT['Lung Opacity'] = GT['Lung Opacity']+GT['Consolidation']+GT['Infiltration']\n",
    "GT['Lung Opacity_Minimal'] = GT['Lung Opacity_Minimal']+GT['Consolidation_Minimal']+GT['Infiltration_Minimal']\n",
    "L = []\n",
    "Lm = []\n",
    "for i in GT['Lung Opacity'] :\n",
    "    if i == 0.0 :\n",
    "        L.append(0.0)\n",
    "    else :\n",
    "        L.append(1.0)\n",
    "for index,row in GT[['Lung Opacity_Minimal']].iterrows():\n",
    "    if row[0]!= 0:\n",
    "        if row[0] == GT.iloc[index]['Lung Opacity'] :\n",
    "            Lm.append(1.0)\n",
    "        else :\n",
    "            Lm.append(0.0)\n",
    "    else :\n",
    "        Lm.append(0.0)\n",
    "GT['Lung Opacity_Minimal'] = Lm\n",
    "GT['Lung Opacity'] = L "
   ]
  },
  {
   "cell_type": "code",
   "execution_count": 7,
   "id": "2b4c532d",
   "metadata": {},
   "outputs": [
    {
     "data": {
      "text/plain": [
       "'1.2.392.200046.100.14.158304376441014525168384165406783713196.png'"
      ]
     },
     "execution_count": 7,
     "metadata": {},
     "output_type": "execute_result"
    }
   ],
   "source": [
    "df.iloc[999]['Image Index']"
   ]
  },
  {
   "cell_type": "code",
   "execution_count": 8,
   "id": "acb5b0b8",
   "metadata": {},
   "outputs": [],
   "source": [
    "L = [] \n",
    "for i in df['Image Index']: \n",
    "    i = i[:-4]\n",
    "    L.append(i)\n",
    "df['Image Index'] = L "
   ]
  },
  {
   "cell_type": "code",
   "execution_count": 9,
   "id": "65b114c7",
   "metadata": {},
   "outputs": [],
   "source": [
    "GT = GT[['Image Index','Atelectasis_Minimal','Cardiomegaly_Minimal','Edema_Minimal','Lung Opacity_Minimal',\n",
    "         'Mass_Minimal','Nodule_Minimal','Pleural Effusion_Minimal','Tuberculosis_Minimal',\n",
    "         'Atelectasis','Cardiomegaly','Edema','Lung Opacity',\n",
    "         'Mass','Nodule','Pleural Effusion','Tuberculosis','Nipple Marker']]\n",
    "df = df.drop(['Atelectasis','Cardiomegaly','Edema','Lung Opacity',\n",
    "              'Mass','Nodule','Pleural Effusion','Tuberculosis'],axis = 1)"
   ]
  },
  {
   "cell_type": "code",
   "execution_count": 30,
   "id": "6168b847",
   "metadata": {},
   "outputs": [
    {
     "data": {
      "text/html": [
       "<div>\n",
       "<style scoped>\n",
       "    .dataframe tbody tr th:only-of-type {\n",
       "        vertical-align: middle;\n",
       "    }\n",
       "\n",
       "    .dataframe tbody tr th {\n",
       "        vertical-align: top;\n",
       "    }\n",
       "\n",
       "    .dataframe thead th {\n",
       "        text-align: right;\n",
       "    }\n",
       "</style>\n",
       "<table border=\"1\" class=\"dataframe\">\n",
       "  <thead>\n",
       "    <tr style=\"text-align: right;\">\n",
       "      <th></th>\n",
       "      <th>Image Index</th>\n",
       "      <th>Accession Number</th>\n",
       "      <th>Acquisition Date</th>\n",
       "      <th>Month</th>\n",
       "      <th>PID</th>\n",
       "      <th>Inspectra Lung Opacity v1 Balanced Score</th>\n",
       "      <th>Mass Balanced Score</th>\n",
       "      <th>Nodule Balanced Score</th>\n",
       "      <th>Edema Balanced Score</th>\n",
       "      <th>Atelectasis Balanced Score</th>\n",
       "      <th>...</th>\n",
       "      <th>Tuberculosis_Minimal_y</th>\n",
       "      <th>Atelectasis_y</th>\n",
       "      <th>Cardiomegaly_y</th>\n",
       "      <th>Edema_y</th>\n",
       "      <th>Lung Opacity_y</th>\n",
       "      <th>Mass_y</th>\n",
       "      <th>Nodule_y</th>\n",
       "      <th>Pleural Effusion_y</th>\n",
       "      <th>Tuberculosis_y</th>\n",
       "      <th>Nipple Marker_y</th>\n",
       "    </tr>\n",
       "  </thead>\n",
       "  <tbody>\n",
       "    <tr>\n",
       "      <th>0</th>\n",
       "      <td>1.2.392.200046.100.14.105929304388117274968456...</td>\n",
       "      <td>XR6418198-XR0046</td>\n",
       "      <td>20210716</td>\n",
       "      <td>7</td>\n",
       "      <td>XR6418198</td>\n",
       "      <td>0.868155</td>\n",
       "      <td>0.165346</td>\n",
       "      <td>0.636160</td>\n",
       "      <td>0.193228</td>\n",
       "      <td>0.391986</td>\n",
       "      <td>...</td>\n",
       "      <td>0.0</td>\n",
       "      <td>0.0</td>\n",
       "      <td>0.0</td>\n",
       "      <td>0.0</td>\n",
       "      <td>1.0</td>\n",
       "      <td>0.0</td>\n",
       "      <td>0.0</td>\n",
       "      <td>0.0</td>\n",
       "      <td>1.0</td>\n",
       "      <td>1.0</td>\n",
       "    </tr>\n",
       "    <tr>\n",
       "      <th>1</th>\n",
       "      <td>1.2.392.200046.100.14.109045240710600353114852...</td>\n",
       "      <td>XR6437573-XR0046</td>\n",
       "      <td>20211215</td>\n",
       "      <td>12</td>\n",
       "      <td>XR6437573</td>\n",
       "      <td>0.577891</td>\n",
       "      <td>0.044495</td>\n",
       "      <td>0.283493</td>\n",
       "      <td>0.077815</td>\n",
       "      <td>0.058540</td>\n",
       "      <td>...</td>\n",
       "      <td>0.0</td>\n",
       "      <td>0.0</td>\n",
       "      <td>0.0</td>\n",
       "      <td>0.0</td>\n",
       "      <td>1.0</td>\n",
       "      <td>0.0</td>\n",
       "      <td>0.0</td>\n",
       "      <td>0.0</td>\n",
       "      <td>1.0</td>\n",
       "      <td>0.0</td>\n",
       "    </tr>\n",
       "    <tr>\n",
       "      <th>2</th>\n",
       "      <td>1.2.392.200046.100.14.109828079333066932603687...</td>\n",
       "      <td>XR6426459-XR0373</td>\n",
       "      <td>20210911</td>\n",
       "      <td>9</td>\n",
       "      <td>XR6426459</td>\n",
       "      <td>0.073780</td>\n",
       "      <td>0.067282</td>\n",
       "      <td>0.161142</td>\n",
       "      <td>0.004501</td>\n",
       "      <td>0.027519</td>\n",
       "      <td>...</td>\n",
       "      <td>0.0</td>\n",
       "      <td>0.0</td>\n",
       "      <td>0.0</td>\n",
       "      <td>0.0</td>\n",
       "      <td>0.0</td>\n",
       "      <td>0.0</td>\n",
       "      <td>0.0</td>\n",
       "      <td>0.0</td>\n",
       "      <td>0.0</td>\n",
       "      <td>1.0</td>\n",
       "    </tr>\n",
       "    <tr>\n",
       "      <th>3</th>\n",
       "      <td>1.2.392.200046.100.14.123036775600773791681570...</td>\n",
       "      <td>XR6432932-XR0373</td>\n",
       "      <td>20211107</td>\n",
       "      <td>11</td>\n",
       "      <td>XR6432932</td>\n",
       "      <td>0.454977</td>\n",
       "      <td>0.185435</td>\n",
       "      <td>0.139441</td>\n",
       "      <td>0.145562</td>\n",
       "      <td>0.145533</td>\n",
       "      <td>...</td>\n",
       "      <td>0.0</td>\n",
       "      <td>0.0</td>\n",
       "      <td>0.0</td>\n",
       "      <td>0.0</td>\n",
       "      <td>0.0</td>\n",
       "      <td>0.0</td>\n",
       "      <td>0.0</td>\n",
       "      <td>0.0</td>\n",
       "      <td>0.0</td>\n",
       "      <td>1.0</td>\n",
       "    </tr>\n",
       "    <tr>\n",
       "      <th>4</th>\n",
       "      <td>1.2.392.200046.100.14.128498105353347301482567...</td>\n",
       "      <td>B6420420-XR0046B</td>\n",
       "      <td>20211119</td>\n",
       "      <td>11</td>\n",
       "      <td>B6420420</td>\n",
       "      <td>0.089672</td>\n",
       "      <td>0.065298</td>\n",
       "      <td>0.056001</td>\n",
       "      <td>0.012179</td>\n",
       "      <td>0.029267</td>\n",
       "      <td>...</td>\n",
       "      <td>0.0</td>\n",
       "      <td>0.0</td>\n",
       "      <td>0.0</td>\n",
       "      <td>0.0</td>\n",
       "      <td>0.0</td>\n",
       "      <td>0.0</td>\n",
       "      <td>0.0</td>\n",
       "      <td>0.0</td>\n",
       "      <td>0.0</td>\n",
       "      <td>0.0</td>\n",
       "    </tr>\n",
       "  </tbody>\n",
       "</table>\n",
       "<p>5 rows × 57 columns</p>\n",
       "</div>"
      ],
      "text/plain": [
       "                                         Image Index  Accession Number  \\\n",
       "0  1.2.392.200046.100.14.105929304388117274968456...  XR6418198-XR0046   \n",
       "1  1.2.392.200046.100.14.109045240710600353114852...  XR6437573-XR0046   \n",
       "2  1.2.392.200046.100.14.109828079333066932603687...  XR6426459-XR0373   \n",
       "3  1.2.392.200046.100.14.123036775600773791681570...  XR6432932-XR0373   \n",
       "4  1.2.392.200046.100.14.128498105353347301482567...  B6420420-XR0046B   \n",
       "\n",
       "   Acquisition Date  Month        PID  \\\n",
       "0          20210716      7  XR6418198   \n",
       "1          20211215     12  XR6437573   \n",
       "2          20210911      9  XR6426459   \n",
       "3          20211107     11  XR6432932   \n",
       "4          20211119     11   B6420420   \n",
       "\n",
       "   Inspectra Lung Opacity v1 Balanced Score  Mass Balanced Score  \\\n",
       "0                                  0.868155             0.165346   \n",
       "1                                  0.577891             0.044495   \n",
       "2                                  0.073780             0.067282   \n",
       "3                                  0.454977             0.185435   \n",
       "4                                  0.089672             0.065298   \n",
       "\n",
       "   Nodule Balanced Score  Edema Balanced Score  Atelectasis Balanced Score  \\\n",
       "0               0.636160              0.193228                    0.391986   \n",
       "1               0.283493              0.077815                    0.058540   \n",
       "2               0.161142              0.004501                    0.027519   \n",
       "3               0.139441              0.145562                    0.145533   \n",
       "4               0.056001              0.012179                    0.029267   \n",
       "\n",
       "   ...  Tuberculosis_Minimal_y  Atelectasis_y  Cardiomegaly_y Edema_y  \\\n",
       "0  ...                     0.0            0.0             0.0     0.0   \n",
       "1  ...                     0.0            0.0             0.0     0.0   \n",
       "2  ...                     0.0            0.0             0.0     0.0   \n",
       "3  ...                     0.0            0.0             0.0     0.0   \n",
       "4  ...                     0.0            0.0             0.0     0.0   \n",
       "\n",
       "  Lung Opacity_y  Mass_y  Nodule_y  Pleural Effusion_y  Tuberculosis_y  \\\n",
       "0            1.0     0.0       0.0                 0.0             1.0   \n",
       "1            1.0     0.0       0.0                 0.0             1.0   \n",
       "2            0.0     0.0       0.0                 0.0             0.0   \n",
       "3            0.0     0.0       0.0                 0.0             0.0   \n",
       "4            0.0     0.0       0.0                 0.0             0.0   \n",
       "\n",
       "   Nipple Marker_y  \n",
       "0              1.0  \n",
       "1              0.0  \n",
       "2              1.0  \n",
       "3              1.0  \n",
       "4              0.0  \n",
       "\n",
       "[5 rows x 57 columns]"
      ]
     },
     "execution_count": 30,
     "metadata": {},
     "output_type": "execute_result"
    }
   ],
   "source": [
    "df = pd.merge(df,GT,how = 'outer', on = 'Image Index')\n",
    "df.head()"
   ]
  },
  {
   "cell_type": "code",
   "execution_count": 11,
   "id": "830f5845",
   "metadata": {},
   "outputs": [],
   "source": [
    "df = df.sort_values(by = 'Image Index')"
   ]
  },
  {
   "cell_type": "code",
   "execution_count": 12,
   "id": "f9afae7e",
   "metadata": {},
   "outputs": [
    {
     "data": {
      "text/plain": [
       "'2.16.840.1.113845.1.1.1681513874441511629512690011920000000035'"
      ]
     },
     "execution_count": 12,
     "metadata": {},
     "output_type": "execute_result"
    }
   ],
   "source": [
    "df.iloc[998]['Image Index']"
   ]
  },
  {
   "cell_type": "code",
   "execution_count": 13,
   "id": "b7c357f1",
   "metadata": {},
   "outputs": [],
   "source": [
    "# page 6 \n",
    "# 1.2.392.200046.100.14.13199040445778684733309045085801280.png"
   ]
  },
  {
   "cell_type": "code",
   "execution_count": 14,
   "id": "1f4f2108",
   "metadata": {},
   "outputs": [],
   "source": [
    "L = [] \n",
    "for i in range(200) : \n",
    "               L.append('Task1370'+'Page'+ str(i))\n",
    "for i in range(200,400) : \n",
    "               L.append('Task1371'+'Page'+ str(i))               \n",
    "for i in range(400,600) : \n",
    "               L.append('Task1372'+'Page'+ str(i))\n",
    "for i in range(600,800) : \n",
    "               L.append('Task1373'+'Page'+ str(i)) \n",
    "for i in range(800,1000) : \n",
    "               L.append('Task1374'+'Page'+ str(i))\n",
    "df['Page in CVAT'] = L "
   ]
  },
  {
   "cell_type": "code",
   "execution_count": 15,
   "id": "dcb9d283",
   "metadata": {},
   "outputs": [
    {
     "data": {
      "text/plain": [
       "'2.16.840.1.113845.1.1.1681513874441511629512690011920000000035'"
      ]
     },
     "execution_count": 15,
     "metadata": {},
     "output_type": "execute_result"
    }
   ],
   "source": [
    "df.iloc[998]['Image Index']"
   ]
  },
  {
   "cell_type": "code",
   "execution_count": 16,
   "id": "7a503747",
   "metadata": {},
   "outputs": [],
   "source": [
    "dfwoNM = df[df['Nipple Marker']==0.0]\n",
    "dfwNM = df[df['Nipple Marker']==1.0]"
   ]
  },
  {
   "cell_type": "code",
   "execution_count": 29,
   "id": "4c993484",
   "metadata": {},
   "outputs": [
    {
     "data": {
      "text/html": [
       "<div>\n",
       "<style scoped>\n",
       "    .dataframe tbody tr th:only-of-type {\n",
       "        vertical-align: middle;\n",
       "    }\n",
       "\n",
       "    .dataframe tbody tr th {\n",
       "        vertical-align: top;\n",
       "    }\n",
       "\n",
       "    .dataframe thead th {\n",
       "        text-align: right;\n",
       "    }\n",
       "</style>\n",
       "<table border=\"1\" class=\"dataframe\">\n",
       "  <thead>\n",
       "    <tr style=\"text-align: right;\">\n",
       "      <th></th>\n",
       "      <th>Image Index</th>\n",
       "      <th>Page in CVAT</th>\n",
       "    </tr>\n",
       "  </thead>\n",
       "  <tbody>\n",
       "    <tr>\n",
       "      <th>291</th>\n",
       "      <td>1.2.392.200046.100.14.105929304388117274968456...</td>\n",
       "      <td>Task1370Page0</td>\n",
       "    </tr>\n",
       "    <tr>\n",
       "      <th>946</th>\n",
       "      <td>1.2.392.200046.100.14.109828079333066932603687...</td>\n",
       "      <td>Task1370Page2</td>\n",
       "    </tr>\n",
       "    <tr>\n",
       "      <th>534</th>\n",
       "      <td>1.2.392.200046.100.14.123036775600773791681570...</td>\n",
       "      <td>Task1370Page3</td>\n",
       "    </tr>\n",
       "    <tr>\n",
       "      <th>313</th>\n",
       "      <td>1.2.392.200046.100.14.128620041104259305112514...</td>\n",
       "      <td>Task1370Page5</td>\n",
       "    </tr>\n",
       "    <tr>\n",
       "      <th>814</th>\n",
       "      <td>1.2.392.200046.100.14.131990404457786847333090...</td>\n",
       "      <td>Task1370Page6</td>\n",
       "    </tr>\n",
       "  </tbody>\n",
       "</table>\n",
       "</div>"
      ],
      "text/plain": [
       "                                           Image Index   Page in CVAT\n",
       "291  1.2.392.200046.100.14.105929304388117274968456...  Task1370Page0\n",
       "946  1.2.392.200046.100.14.109828079333066932603687...  Task1370Page2\n",
       "534  1.2.392.200046.100.14.123036775600773791681570...  Task1370Page3\n",
       "313  1.2.392.200046.100.14.128620041104259305112514...  Task1370Page5\n",
       "814  1.2.392.200046.100.14.131990404457786847333090...  Task1370Page6"
      ]
     },
     "execution_count": 29,
     "metadata": {},
     "output_type": "execute_result"
    }
   ],
   "source": [
    "dfwNM[['Image Index','Page in CVAT']].head()"
   ]
  },
  {
   "cell_type": "code",
   "execution_count": 18,
   "id": "7e666ad4",
   "metadata": {},
   "outputs": [],
   "source": [
    "def TP(df,GTcolumn):\n",
    "    T = df[(df[GTcolumn+' Balanced Score']>= Thresholdfile.loc[GTcolumn]['Confidence Threshold'])&(df[GTcolumn]==1.0)]\n",
    "    return T\n",
    "def TN(df,GTcolumn):\n",
    "    T = df[(df[GTcolumn+' Balanced Score']< Thresholdfile.loc[GTcolumn]['Confidence Threshold'])&(df[GTcolumn]==0.0)]\n",
    "    return T \n",
    "def FP(df,GTcolumn):\n",
    "    T = df[(df[GTcolumn+' Balanced Score']>= Thresholdfile.loc[GTcolumn]['Confidence Threshold'])&(df[GTcolumn]==0.0)]\n",
    "    return T\n",
    "def FN(df,GTcolumn):\n",
    "    T = df[(df[GTcolumn+' Balanced Score']< Thresholdfile.loc[GTcolumn]['Confidence Threshold'])&(df[GTcolumn]==1.0)]\n",
    "    return T\n",
    "def CVATPage(df) : \n",
    "    return df['Page in CVAT'].values"
   ]
  },
  {
   "cell_type": "code",
   "execution_count": 19,
   "id": "6a869bfe",
   "metadata": {},
   "outputs": [
    {
     "data": {
      "text/plain": [
       "array(['Task1370Page115', 'Task1370Page157', 'Task1374Page810',\n",
       "       'Task1374Page893', 'Task1374Page901', 'Task1374Page934'],\n",
       "      dtype=object)"
      ]
     },
     "execution_count": 19,
     "metadata": {},
     "output_type": "execute_result"
    }
   ],
   "source": [
    "CVATPage(FN(df[(df['Cardiomegaly']==1.0)&(df['Cardiomegaly_Minimal']==0.0)],'Cardiomegaly'))"
   ]
  },
  {
   "cell_type": "code",
   "execution_count": 20,
   "id": "d7a00fe5",
   "metadata": {},
   "outputs": [
    {
     "data": {
      "text/plain": [
       "array(['Task1370Page0', 'Task1370Page9', 'Task1370Page12',\n",
       "       'Task1370Page17', 'Task1370Page19', 'Task1370Page25',\n",
       "       'Task1370Page26', 'Task1370Page29', 'Task1370Page30',\n",
       "       'Task1370Page31', 'Task1370Page38', 'Task1370Page46',\n",
       "       'Task1370Page50', 'Task1370Page56', 'Task1370Page59',\n",
       "       'Task1370Page60', 'Task1370Page69', 'Task1370Page79',\n",
       "       'Task1370Page93', 'Task1370Page94', 'Task1370Page105',\n",
       "       'Task1370Page107', 'Task1370Page108', 'Task1370Page115',\n",
       "       'Task1370Page119', 'Task1370Page129', 'Task1370Page144',\n",
       "       'Task1370Page148', 'Task1370Page166', 'Task1370Page167',\n",
       "       'Task1370Page180', 'Task1370Page191', 'Task1370Page196',\n",
       "       'Task1370Page199', 'Task1371Page205', 'Task1371Page206',\n",
       "       'Task1371Page208', 'Task1371Page212', 'Task1371Page214',\n",
       "       'Task1371Page221', 'Task1371Page222', 'Task1371Page239',\n",
       "       'Task1371Page243', 'Task1371Page249', 'Task1371Page259',\n",
       "       'Task1373Page704', 'Task1373Page707', 'Task1373Page709',\n",
       "       'Task1373Page779', 'Task1373Page781', 'Task1373Page786',\n",
       "       'Task1373Page788', 'Task1373Page792', 'Task1373Page793',\n",
       "       'Task1373Page798', 'Task1374Page804', 'Task1374Page805',\n",
       "       'Task1374Page808', 'Task1374Page810', 'Task1374Page814',\n",
       "       'Task1374Page917', 'Task1374Page921', 'Task1374Page924',\n",
       "       'Task1374Page940', 'Task1374Page942', 'Task1374Page972',\n",
       "       'Task1374Page981', 'Task1374Page984'], dtype=object)"
      ]
     },
     "execution_count": 20,
     "metadata": {},
     "output_type": "execute_result"
    }
   ],
   "source": [
    "CVATPage(FP(dfwNM,'Nodule'))"
   ]
  },
  {
   "cell_type": "code",
   "execution_count": 21,
   "id": "09e45d21",
   "metadata": {},
   "outputs": [
    {
     "data": {
      "text/plain": [
       "array(['Task1370Page40', 'Task1370Page130', 'Task1374Page935'],\n",
       "      dtype=object)"
      ]
     },
     "execution_count": 21,
     "metadata": {},
     "output_type": "execute_result"
    }
   ],
   "source": [
    "CVATPage(FN(dfwoNM,'Pleural Effusion'))"
   ]
  },
  {
   "cell_type": "code",
   "execution_count": 22,
   "id": "165768a9",
   "metadata": {},
   "outputs": [
    {
     "data": {
      "text/plain": [
       "'1.2.392.200046.100.14.13199040445778684733309045085801280'"
      ]
     },
     "execution_count": 22,
     "metadata": {},
     "output_type": "execute_result"
    }
   ],
   "source": [
    "df[df['Page in CVAT'] == 'Task1370Page6']['Image Index'].values[0]"
   ]
  },
  {
   "cell_type": "code",
   "execution_count": 23,
   "id": "5a003068",
   "metadata": {},
   "outputs": [
    {
     "data": {
      "text/html": [
       "<div>\n",
       "<style scoped>\n",
       "    .dataframe tbody tr th:only-of-type {\n",
       "        vertical-align: middle;\n",
       "    }\n",
       "\n",
       "    .dataframe tbody tr th {\n",
       "        vertical-align: top;\n",
       "    }\n",
       "\n",
       "    .dataframe thead th {\n",
       "        text-align: right;\n",
       "    }\n",
       "</style>\n",
       "<table border=\"1\" class=\"dataframe\">\n",
       "  <thead>\n",
       "    <tr style=\"text-align: right;\">\n",
       "      <th></th>\n",
       "      <th>Image Index</th>\n",
       "      <th>Accession Number</th>\n",
       "      <th>Acquisition Date</th>\n",
       "      <th>Month</th>\n",
       "      <th>PID</th>\n",
       "      <th>Inspectra Lung Opacity v1 Balanced Score</th>\n",
       "      <th>Mass Balanced Score</th>\n",
       "      <th>Nodule Balanced Score</th>\n",
       "      <th>Edema Balanced Score</th>\n",
       "      <th>Atelectasis Balanced Score</th>\n",
       "      <th>...</th>\n",
       "      <th>Atelectasis</th>\n",
       "      <th>Cardiomegaly</th>\n",
       "      <th>Edema</th>\n",
       "      <th>Lung Opacity</th>\n",
       "      <th>Mass</th>\n",
       "      <th>Nodule</th>\n",
       "      <th>Pleural Effusion</th>\n",
       "      <th>Tuberculosis</th>\n",
       "      <th>Nipple Marker</th>\n",
       "      <th>Page in CVAT</th>\n",
       "    </tr>\n",
       "  </thead>\n",
       "  <tbody>\n",
       "    <tr>\n",
       "      <th>291</th>\n",
       "      <td>1.2.392.200046.100.14.105929304388117274968456...</td>\n",
       "      <td>XR6418198-XR0046</td>\n",
       "      <td>20210716</td>\n",
       "      <td>7</td>\n",
       "      <td>XR6418198</td>\n",
       "      <td>0.868155</td>\n",
       "      <td>0.165346</td>\n",
       "      <td>0.636160</td>\n",
       "      <td>0.193228</td>\n",
       "      <td>0.391986</td>\n",
       "      <td>...</td>\n",
       "      <td>0.0</td>\n",
       "      <td>0.0</td>\n",
       "      <td>0.0</td>\n",
       "      <td>1.0</td>\n",
       "      <td>0.0</td>\n",
       "      <td>0.0</td>\n",
       "      <td>0.0</td>\n",
       "      <td>1.0</td>\n",
       "      <td>1.0</td>\n",
       "      <td>Task1370Page0</td>\n",
       "    </tr>\n",
       "    <tr>\n",
       "      <th>395</th>\n",
       "      <td>1.2.392.200046.100.14.109045240710600353114852...</td>\n",
       "      <td>XR6437573-XR0046</td>\n",
       "      <td>20211215</td>\n",
       "      <td>12</td>\n",
       "      <td>XR6437573</td>\n",
       "      <td>0.577891</td>\n",
       "      <td>0.044495</td>\n",
       "      <td>0.283493</td>\n",
       "      <td>0.077815</td>\n",
       "      <td>0.058540</td>\n",
       "      <td>...</td>\n",
       "      <td>0.0</td>\n",
       "      <td>0.0</td>\n",
       "      <td>0.0</td>\n",
       "      <td>1.0</td>\n",
       "      <td>0.0</td>\n",
       "      <td>0.0</td>\n",
       "      <td>0.0</td>\n",
       "      <td>1.0</td>\n",
       "      <td>0.0</td>\n",
       "      <td>Task1370Page1</td>\n",
       "    </tr>\n",
       "    <tr>\n",
       "      <th>946</th>\n",
       "      <td>1.2.392.200046.100.14.109828079333066932603687...</td>\n",
       "      <td>XR6426459-XR0373</td>\n",
       "      <td>20210911</td>\n",
       "      <td>9</td>\n",
       "      <td>XR6426459</td>\n",
       "      <td>0.073780</td>\n",
       "      <td>0.067282</td>\n",
       "      <td>0.161142</td>\n",
       "      <td>0.004501</td>\n",
       "      <td>0.027519</td>\n",
       "      <td>...</td>\n",
       "      <td>0.0</td>\n",
       "      <td>0.0</td>\n",
       "      <td>0.0</td>\n",
       "      <td>0.0</td>\n",
       "      <td>0.0</td>\n",
       "      <td>0.0</td>\n",
       "      <td>0.0</td>\n",
       "      <td>0.0</td>\n",
       "      <td>1.0</td>\n",
       "      <td>Task1370Page2</td>\n",
       "    </tr>\n",
       "    <tr>\n",
       "      <th>534</th>\n",
       "      <td>1.2.392.200046.100.14.123036775600773791681570...</td>\n",
       "      <td>XR6432932-XR0373</td>\n",
       "      <td>20211107</td>\n",
       "      <td>11</td>\n",
       "      <td>XR6432932</td>\n",
       "      <td>0.454977</td>\n",
       "      <td>0.185435</td>\n",
       "      <td>0.139441</td>\n",
       "      <td>0.145562</td>\n",
       "      <td>0.145533</td>\n",
       "      <td>...</td>\n",
       "      <td>0.0</td>\n",
       "      <td>0.0</td>\n",
       "      <td>0.0</td>\n",
       "      <td>0.0</td>\n",
       "      <td>0.0</td>\n",
       "      <td>0.0</td>\n",
       "      <td>0.0</td>\n",
       "      <td>0.0</td>\n",
       "      <td>1.0</td>\n",
       "      <td>Task1370Page3</td>\n",
       "    </tr>\n",
       "    <tr>\n",
       "      <th>355</th>\n",
       "      <td>1.2.392.200046.100.14.128498105353347301482567...</td>\n",
       "      <td>B6420420-XR0046B</td>\n",
       "      <td>20211119</td>\n",
       "      <td>11</td>\n",
       "      <td>B6420420</td>\n",
       "      <td>0.089672</td>\n",
       "      <td>0.065298</td>\n",
       "      <td>0.056001</td>\n",
       "      <td>0.012179</td>\n",
       "      <td>0.029267</td>\n",
       "      <td>...</td>\n",
       "      <td>0.0</td>\n",
       "      <td>0.0</td>\n",
       "      <td>0.0</td>\n",
       "      <td>0.0</td>\n",
       "      <td>0.0</td>\n",
       "      <td>0.0</td>\n",
       "      <td>0.0</td>\n",
       "      <td>0.0</td>\n",
       "      <td>0.0</td>\n",
       "      <td>Task1370Page4</td>\n",
       "    </tr>\n",
       "  </tbody>\n",
       "</table>\n",
       "<p>5 rows × 40 columns</p>\n",
       "</div>"
      ],
      "text/plain": [
       "                                           Image Index  Accession Number  \\\n",
       "291  1.2.392.200046.100.14.105929304388117274968456...  XR6418198-XR0046   \n",
       "395  1.2.392.200046.100.14.109045240710600353114852...  XR6437573-XR0046   \n",
       "946  1.2.392.200046.100.14.109828079333066932603687...  XR6426459-XR0373   \n",
       "534  1.2.392.200046.100.14.123036775600773791681570...  XR6432932-XR0373   \n",
       "355  1.2.392.200046.100.14.128498105353347301482567...  B6420420-XR0046B   \n",
       "\n",
       "     Acquisition Date  Month        PID  \\\n",
       "291          20210716      7  XR6418198   \n",
       "395          20211215     12  XR6437573   \n",
       "946          20210911      9  XR6426459   \n",
       "534          20211107     11  XR6432932   \n",
       "355          20211119     11   B6420420   \n",
       "\n",
       "     Inspectra Lung Opacity v1 Balanced Score  Mass Balanced Score  \\\n",
       "291                                  0.868155             0.165346   \n",
       "395                                  0.577891             0.044495   \n",
       "946                                  0.073780             0.067282   \n",
       "534                                  0.454977             0.185435   \n",
       "355                                  0.089672             0.065298   \n",
       "\n",
       "     Nodule Balanced Score  Edema Balanced Score  Atelectasis Balanced Score  \\\n",
       "291               0.636160              0.193228                    0.391986   \n",
       "395               0.283493              0.077815                    0.058540   \n",
       "946               0.161142              0.004501                    0.027519   \n",
       "534               0.139441              0.145562                    0.145533   \n",
       "355               0.056001              0.012179                    0.029267   \n",
       "\n",
       "     ...  Atelectasis  Cardiomegaly  Edema Lung Opacity Mass  Nodule  \\\n",
       "291  ...          0.0           0.0    0.0          1.0  0.0     0.0   \n",
       "395  ...          0.0           0.0    0.0          1.0  0.0     0.0   \n",
       "946  ...          0.0           0.0    0.0          0.0  0.0     0.0   \n",
       "534  ...          0.0           0.0    0.0          0.0  0.0     0.0   \n",
       "355  ...          0.0           0.0    0.0          0.0  0.0     0.0   \n",
       "\n",
       "     Pleural Effusion  Tuberculosis  Nipple Marker   Page in CVAT  \n",
       "291               0.0           1.0            1.0  Task1370Page0  \n",
       "395               0.0           1.0            0.0  Task1370Page1  \n",
       "946               0.0           0.0            1.0  Task1370Page2  \n",
       "534               0.0           0.0            1.0  Task1370Page3  \n",
       "355               0.0           0.0            0.0  Task1370Page4  \n",
       "\n",
       "[5 rows x 40 columns]"
      ]
     },
     "execution_count": 23,
     "metadata": {},
     "output_type": "execute_result"
    }
   ],
   "source": [
    "df.head()"
   ]
  },
  {
   "cell_type": "code",
   "execution_count": 24,
   "id": "bc151f37",
   "metadata": {},
   "outputs": [
    {
     "data": {
      "text/plain": [
       "241"
      ]
     },
     "execution_count": 24,
     "metadata": {},
     "output_type": "execute_result"
    }
   ],
   "source": [
    "192+49"
   ]
  },
  {
   "cell_type": "code",
   "execution_count": 25,
   "id": "b98b44d2",
   "metadata": {},
   "outputs": [
    {
     "data": {
      "text/plain": [
       "759"
      ]
     },
     "execution_count": 25,
     "metadata": {},
     "output_type": "execute_result"
    }
   ],
   "source": [
    "1000-241"
   ]
  },
  {
   "cell_type": "code",
   "execution_count": 26,
   "id": "c08dc22d",
   "metadata": {},
   "outputs": [
    {
     "data": {
      "text/plain": [
       "70"
      ]
     },
     "execution_count": 26,
     "metadata": {},
     "output_type": "execute_result"
    }
   ],
   "source": [
    "len(df[df['Tuberculosis']==1.0])"
   ]
  },
  {
   "cell_type": "code",
   "execution_count": 27,
   "id": "0113f0d4",
   "metadata": {},
   "outputs": [],
   "source": [
    "ate = df[df['Atelectasis']==1.0]"
   ]
  },
  {
   "cell_type": "code",
   "execution_count": 28,
   "id": "c24a4355",
   "metadata": {},
   "outputs": [
    {
     "ename": "SyntaxError",
     "evalue": "unexpected EOF while parsing (3798430437.py, line 1)",
     "output_type": "error",
     "traceback": [
      "\u001b[0;36m  Input \u001b[0;32mIn [28]\u001b[0;36m\u001b[0m\n\u001b[0;31m    ate[ate['Atelectasis Balanced Score']>= Tr\u001b[0m\n\u001b[0m                                              ^\u001b[0m\n\u001b[0;31mSyntaxError\u001b[0m\u001b[0;31m:\u001b[0m unexpected EOF while parsing\n"
     ]
    }
   ],
   "source": [
    "ate[ate['Atelectasis Balanced Score']>= Tr"
   ]
  },
  {
   "cell_type": "code",
   "execution_count": null,
   "id": "f0b5b4e7",
   "metadata": {},
   "outputs": [],
   "source": [
    "df[df['Mass']==1.0]['Page in CVAT']"
   ]
  },
  {
   "cell_type": "code",
   "execution_count": null,
   "id": "c9657197",
   "metadata": {},
   "outputs": [],
   "source": [
    "CVATPage(FN(dfwoNM,'Atelectasis'))"
   ]
  },
  {
   "cell_type": "code",
   "execution_count": null,
   "id": "e0928459",
   "metadata": {},
   "outputs": [],
   "source": []
  }
 ],
 "metadata": {
  "kernelspec": {
   "display_name": "Python 3 (ipykernel)",
   "language": "python",
   "name": "python3"
  },
  "language_info": {
   "codemirror_mode": {
    "name": "ipython",
    "version": 3
   },
   "file_extension": ".py",
   "mimetype": "text/x-python",
   "name": "python",
   "nbconvert_exporter": "python",
   "pygments_lexer": "ipython3",
   "version": "3.9.12"
  }
 },
 "nbformat": 4,
 "nbformat_minor": 5
}
