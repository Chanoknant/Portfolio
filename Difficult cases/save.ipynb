{
 "cells": [
  {
   "cell_type": "code",
   "execution_count": 96,
   "metadata": {},
   "outputs": [],
   "source": [
    "import pandas as pd \n",
    "import numpy as np \n",
    "import matplotlib.pyplot as plt \n",
    "import matplotlib.image as mpimg\n",
    "import re\n",
    "import os \n",
    "from sklearn.metrics import roc_auc_score\n",
    "from zipfile import ZipFile"
   ]
  },
  {
   "cell_type": "code",
   "execution_count": 34,
   "metadata": {},
   "outputs": [],
   "source": [
    "df = pd.read_csv('/home/storage/submarine-data/praram9/annotation/v2_30000_w_report/annotation.csv')"
   ]
  },
  {
   "cell_type": "code",
   "execution_count": 22,
   "metadata": {},
   "outputs": [],
   "source": [
    "retrocardiac = ['1.2.392.200046.100.14.5482824411806797511533686328337656491.png',\n",
    "                '1.2.392.200046.100.14.99136971961859266294271271202718131801.png',\n",
    "                '1.2.392.200046.100.14.282273206319509235194686010680378715380.png',\n",
    "                '1.2.410.200049.2.263362971898511.3.2.20210802073759035.344102.png',\n",
    "                '1.2.410.200067.100.3.20210812.816250715.12184.1.1.png',\n",
    "                '1.2.410.200049.2.1.100.20000123.3.1.20210831092356377.167726.png',\n",
    "                '1.2.392.200046.100.14.6511334344577646269424096549402627752.png',\n",
    "                '1.2.392.200046.100.14.3486591005898554521138327076301287797.png',\n",
    "                '1.2.392.200046.100.14.34604811313106685111923272829937429718.png',\n",
    "               '1.2.410.200049.2.1.100.20000123.3.1.20211107092957667.176892.png',\n",
    "               '1.2.410.200049.2.263362971898511.3.1.20211005071937296.352035.png',\n",
    "               '1.2.392.200046.100.14.519347678544658664997817785868576620920.png',\n",
    "               '1.2.410.200049.2.263362971898511.3.1.20211120142817548.359960.png',\n",
    "               '1.2.410.200049.2.263362971898511.3.1.20211102095529524.356581.png',\n",
    "               '1.2.410.200049.2.263362971898511.3.2.20211105081204556.357066.png',\n",
    "               '1.2.410.200049.2.1.100.20000123.3.1.20211114093526660.178377.png',\n",
    "               '1.2.410.200049.2.1.100.20000123.3.1.20211112120632523.177995.png',\n",
    "               '1.2.410.200049.2.263362971898511.3.1.20210921154418458.350063.png',\n",
    "               '1.2.392.200046.100.14.289820088840950401763258879410456913292.png',\n",
    "               '1.2.392.200046.100.14.67212012968579202717283085388744517035.png',\n",
    "               '1.2.392.200046.100.14.419366395395377386801759321231972118811.png',\n",
    "               '1.2.392.200046.100.14.323662166144236264381517493222582748686.png',\n",
    "               '1.2.392.200046.100.14.276027701777836293226075651166664462384.png',\n",
    "               '1.2.392.200046.100.14.466744996786115281169935670962731124052.png',\n",
    "               '1.2.392.200046.100.14.439744379580109456972616424634711546740.png',\n",
    "               '1.2.392.200046.100.14.429951441709049104068742769597231326491.png',\n",
    "               '1.2.392.200046.100.14.446796255021875873549901003561415695.png',\n",
    "               '1.2.392.200046.100.14.688888648090576082012558686255722225016.png',\n",
    "               '1.2.392.200046.100.14.173427368983411902239785680141019329021.png',]\n"
   ]
  },
  {
   "cell_type": "code",
   "execution_count": 48,
   "metadata": {},
   "outputs": [],
   "source": [
    "retrocardiac_atelectasis = ['1.2.392.200046.100.14.5482824411806797511533686328337656491.png',\n",
    "                           '1.2.392.200046.100.14.99136971961859266294271271202718131801.png',\n",
    "                           '1.2.392.200046.100.14.282273206319509235194686010680378715380.png',\n",
    "                           '1.2.410.200049.2.263362971898511.3.2.20210802073759035.344102.png',\n",
    "                           '1.2.392.200046.100.14.6511334344577646269424096549402627752.png',\n",
    "                            '1.2.392.200046.100.14.34604811313106685111923272829937429718.png',\n",
    "                           '1.2.410.200049.2.263362971898511.3.1.20211005071937296.352035.png',\n",
    "                           '1.2.410.200049.2.263362971898511.3.1.20211120142817548.359960.png',\n",
    "                           '1.2.410.200049.2.263362971898511.3.1.20211102095529524.356581.png',\n",
    "                           '1.2.410.200049.2.263362971898511.3.2.20211105081204556.357066.png',\n",
    "                           '1.2.410.200049.2.263362971898511.3.1.20210921154418458.350063.png',\n",
    "                           '1.2.392.200046.100.14.289820088840950401763258879410456913292.png',\n",
    "                           '1.2.392.200046.100.14.419366395395377386801759321231972118811.png',\n",
    "                           '1.2.392.200046.100.14.323662166144236264381517493222582748686.png',\n",
    "                           '1.2.392.200046.100.14.276027701777836293226075651166664462384.png',\n",
    "                           '1.2.392.200046.100.14.466744996786115281169935670962731124052.png',\n",
    "                           '1.2.392.200046.100.14.173427368983411902239785680141019329021.png']"
   ]
  },
  {
   "cell_type": "code",
   "execution_count": 49,
   "metadata": {},
   "outputs": [],
   "source": [
    "retrocardiac_opacity = ['1.2.392.200046.100.14.3486591005898554521138327076301287797.png',\n",
    "                       '1.2.392.200046.100.14.519347678544658664997817785868576620920.png',\n",
    "                       '1.2.410.200049.2.1.100.20000123.3.1.20211114093526660.178377.png',\n",
    "                       '1.2.392.200046.100.14.439744379580109456972616424634711546740.png',\n",
    "                       '1.2.392.200046.100.14.446796255021875873549901003561415695.png']"
   ]
  },
  {
   "cell_type": "code",
   "execution_count": 46,
   "metadata": {},
   "outputs": [],
   "source": [
    "retrocardiac_nodule = ['1.2.410.200049.2.1.100.20000123.3.1.20210831092356377.167726.png',\n",
    "                  '1.2.410.200049.2.1.100.20000123.3.1.20211107092957667.176892.png',\n",
    "                  '1.2.410.200049.2.1.100.20000123.3.1.20211112120632523.177995.png',\n",
    "                  '1.2.392.200046.100.14.67212012968579202717283085388744517035.png',\n",
    "                  '1.2.392.200046.100.14.429951441709049104068742769597231326491.png',\n",
    "                  '1.2.392.200046.100.14.688888648090576082012558686255722225016.png']"
   ]
  },
  {
   "cell_type": "code",
   "execution_count": 56,
   "metadata": {},
   "outputs": [],
   "source": [
    "basal_lung_atelectasis = ['1.2.410.200049.2.263362971898511.3.1.20210813131843010.345210.png',\n",
    "                     '1.2.410.200049.2.263362971898511.3.1.20210813131843010.345210.png',\n",
    "                     '1.2.410.200049.2.263362971898511.3.1.20210813131843010.345210.png',\n",
    "                     '1.2.392.200046.100.14.402654163.5536.1.7906.2.1.3272.png',\n",
    "                     '1.2.410.200049.2.263362971898511.3.1.20210818074340689.345681.png',\n",
    "                     '1.2.410.200067.100.3.20210823.1221010477.17988.1.1.png']"
   ]
  },
  {
   "cell_type": "code",
   "execution_count": 27,
   "metadata": {},
   "outputs": [],
   "source": [
    "nodule_subpleural_basal = [ '1.2.410.200049.2.263362971898511.3.1.20210613122407417.338205.png',\n",
    "                     '1.3.51.0.7.11124295319.43504.62024.39699.36850.65284.3461.png',\n",
    "                     '1.2.410.200049.2.263362971898511.3.1.20211030123847950.356194.png',\n",
    "                     '1.2.410.200049.2.1.100.20000123.3.1.20211120101042974.179574.png',\n",
    "                    '1.2.410.200049.2.1.100.20000123.3.1.20211102133748803.176078.png']"
   ]
  },
  {
   "cell_type": "code",
   "execution_count": 28,
   "metadata": {},
   "outputs": [],
   "source": [
    "small_nodule = ['1.2.410.200049.2.263362971898511.3.1.20211111104840437.358170.png',\n",
    "               '1.2.410.200049.2.263362971898511.3.1.20210828084627098.346919.png',\n",
    "               '1.2.410.200049.2.1.100.20000123.3.1.20211114093615322.178378.png',\n",
    "               '1.3.51.0.7.1999582377.29979.31054.36190.51037.15915.30282.png',\n",
    "               '1.2.392.200046.100.14.402654163.5828.1.7987.1.1.783.png',\n",
    "               '1.2.410.200049.2.263362971898511.3.3.20210922085154714.350135.png',\n",
    "               '1.2.410.200049.2.1.100.20000123.3.1.20210905124325445.167967.png',\n",
    "               '1.2.410.200049.2.263362971898511.3.1.20211217112149746.365325.png',\n",
    "               '1.2.410.200049.2.263362971898511.3.1.20211204091629170.362582.png',\n",
    "               '1.2.410.200049.2.1.100.20000123.3.1.20211222102142545.186945.png',\n",
    "               '1.2.392.200046.100.14.228553317214874344295990315423723625188.png',\n",
    "               '1.3.51.0.7.1086247141.125.51787.48831.55081.56759.27511.png',\n",
    "               '1.2.410.200049.2.263362971898511.3.1.20210629103345759.340386.png',\n",
    "               '1.2.410.200049.2.1.100.20000123.3.1.20210616101208477.164000.png',\n",
    "               '1.2.392.200046.100.14.195933336039854804888672771118496536325.png',\n",
    "               '1.2.392.200046.100.14.834982195858752249257898502044067680.png']"
   ]
  },
  {
   "cell_type": "code",
   "execution_count": 71,
   "metadata": {},
   "outputs": [],
   "source": [
    "Mediastinal_mass  = ['1.2.392.200046.100.14.58930761690813256471354673027460210481.png',\n",
    "                    '1.2.410.200049.2.263362971898511.3.1.20210803182629243.344251.png',\n",
    "                    '1.2.392.200046.100.14.45429052826476620976159959459406610258.png',\n",
    "                    '1.2.410.200049.2.263362971898511.3.1.20210921171625807.350065.png',\n",
    "                    '1.2.392.200046.100.14.39993041199036750129859413718625022440.png',\n",
    "                    '1.2.410.200049.2.263362971898511.3.1.20211218135045381.365639.png',\n",
    "                    '1.2.392.200046.100.14.402654163.5746.1.7960.1.1.1556.png']\n"
   ]
  },
  {
   "cell_type": "code",
   "execution_count": 30,
   "metadata": {},
   "outputs": [],
   "source": [
    "subpleural_fibrosis =['1.2.410.200067.100.3.20210819.816250697.21126.1.2.png',\n",
    "                      '1.2.410.200049.2.1.100.20000123.3.1.20211106102049241.176705.png',\n",
    "                     '1.2.410.200049.2.1.100.20000123.3.1.20211205090532680.182916.png',\n",
    "                     '1.2.410.200049.2.263362971898511.3.1.20211214130830571.364659.png',\n",
    "                     '1.2.392.200046.100.14.517228572784863423842210716378886730426.png',\n",
    "                     ]"
   ]
  },
  {
   "cell_type": "code",
   "execution_count": 51,
   "metadata": {},
   "outputs": [
    {
     "data": {
      "text/plain": [
       "67"
      ]
     },
     "execution_count": 51,
     "metadata": {},
     "output_type": "execute_result"
    }
   ],
   "source": [
    "len(retrocardiac)+len(Mediastinal_mass)+len(small_nodule)+len(basal_lung_atelec)+len(subpleural_fibrosis)+len(nodule_subpleural_basal)"
   ]
  },
  {
   "cell_type": "code",
   "execution_count": 59,
   "metadata": {},
   "outputs": [
    {
     "data": {
      "text/plain": [
       "30471"
      ]
     },
     "execution_count": 59,
     "metadata": {},
     "output_type": "execute_result"
    }
   ],
   "source": [
    "len(df)"
   ]
  },
  {
   "cell_type": "code",
   "execution_count": 37,
   "metadata": {},
   "outputs": [
    {
     "name": "stdout",
     "output_type": "stream",
     "text": [
      "\u001b[1m\u001b[31mERROR: \u001b[0m\u001b[3mblah blah...\n"
     ]
    }
   ],
   "source": [
    "RED    = \"\\033[31m\"\n",
    "BOLD   = \"\\033[1m\"\n",
    "ITALIC = \"\\033[3m\"\n",
    "RESET  = \"\\033[0m\"\n",
    "\n",
    "print(BOLD + RED + \"ERROR: \" + RESET + ITALIC + \"blah blah...\")"
   ]
  },
  {
   "cell_type": "markdown",
   "metadata": {},
   "source": [
    "small_nodule , nodule_subpleural_basal ,retrocardiac_nodule"
   ]
  },
  {
   "cell_type": "code",
   "execution_count": 60,
   "metadata": {},
   "outputs": [],
   "source": [
    "test = pd.read_csv('/home/storage/submarine-data/praram9/annotation/no_gt/test.csv')"
   ]
  },
  {
   "cell_type": "code",
   "execution_count": 62,
   "metadata": {},
   "outputs": [
    {
     "data": {
      "text/html": [
       "<div>\n",
       "<style scoped>\n",
       "    .dataframe tbody tr th:only-of-type {\n",
       "        vertical-align: middle;\n",
       "    }\n",
       "\n",
       "    .dataframe tbody tr th {\n",
       "        vertical-align: top;\n",
       "    }\n",
       "\n",
       "    .dataframe thead th {\n",
       "        text-align: right;\n",
       "    }\n",
       "</style>\n",
       "<table border=\"1\" class=\"dataframe\">\n",
       "  <thead>\n",
       "    <tr style=\"text-align: right;\">\n",
       "      <th></th>\n",
       "      <th>Image Index</th>\n",
       "      <th>Atelectasis</th>\n",
       "      <th>Cardiomegaly</th>\n",
       "      <th>Consolidation</th>\n",
       "      <th>Edema</th>\n",
       "      <th>Emphysema</th>\n",
       "      <th>Fracture</th>\n",
       "      <th>Hernia</th>\n",
       "      <th>Infiltration</th>\n",
       "      <th>Lung Opacity</th>\n",
       "      <th>...</th>\n",
       "      <th>Nodule</th>\n",
       "      <th>Pleural Effusion</th>\n",
       "      <th>Pleural Thickening</th>\n",
       "      <th>Pneumonia</th>\n",
       "      <th>Pneumothorax</th>\n",
       "      <th>Scoliosis</th>\n",
       "      <th>Support Devices</th>\n",
       "      <th>No Finding</th>\n",
       "      <th>Inspectra Lung Opacity v1</th>\n",
       "      <th>Tuberculosis</th>\n",
       "    </tr>\n",
       "  </thead>\n",
       "  <tbody>\n",
       "    <tr>\n",
       "      <th>0</th>\n",
       "      <td>1.2.392.200046.100.14.448811584835067525818206...</td>\n",
       "      <td>-2</td>\n",
       "      <td>-2</td>\n",
       "      <td>-2</td>\n",
       "      <td>-2</td>\n",
       "      <td>-2</td>\n",
       "      <td>-2</td>\n",
       "      <td>-2</td>\n",
       "      <td>-2</td>\n",
       "      <td>-2</td>\n",
       "      <td>...</td>\n",
       "      <td>-2</td>\n",
       "      <td>-2</td>\n",
       "      <td>-2</td>\n",
       "      <td>-2</td>\n",
       "      <td>-2</td>\n",
       "      <td>-2</td>\n",
       "      <td>-2</td>\n",
       "      <td>-2</td>\n",
       "      <td>-2</td>\n",
       "      <td>-2</td>\n",
       "    </tr>\n",
       "    <tr>\n",
       "      <th>1</th>\n",
       "      <td>1.2.410.200049.2.1.100.20000123.3.1.2021111411...</td>\n",
       "      <td>-2</td>\n",
       "      <td>-2</td>\n",
       "      <td>-2</td>\n",
       "      <td>-2</td>\n",
       "      <td>-2</td>\n",
       "      <td>-2</td>\n",
       "      <td>-2</td>\n",
       "      <td>-2</td>\n",
       "      <td>-2</td>\n",
       "      <td>...</td>\n",
       "      <td>-2</td>\n",
       "      <td>-2</td>\n",
       "      <td>-2</td>\n",
       "      <td>-2</td>\n",
       "      <td>-2</td>\n",
       "      <td>-2</td>\n",
       "      <td>-2</td>\n",
       "      <td>-2</td>\n",
       "      <td>-2</td>\n",
       "      <td>-2</td>\n",
       "    </tr>\n",
       "    <tr>\n",
       "      <th>2</th>\n",
       "      <td>1.2.410.200049.2.1.100.20000123.3.1.2021122608...</td>\n",
       "      <td>-2</td>\n",
       "      <td>-2</td>\n",
       "      <td>-2</td>\n",
       "      <td>-2</td>\n",
       "      <td>-2</td>\n",
       "      <td>-2</td>\n",
       "      <td>-2</td>\n",
       "      <td>-2</td>\n",
       "      <td>-2</td>\n",
       "      <td>...</td>\n",
       "      <td>-2</td>\n",
       "      <td>-2</td>\n",
       "      <td>-2</td>\n",
       "      <td>-2</td>\n",
       "      <td>-2</td>\n",
       "      <td>-2</td>\n",
       "      <td>-2</td>\n",
       "      <td>-2</td>\n",
       "      <td>-2</td>\n",
       "      <td>-2</td>\n",
       "    </tr>\n",
       "    <tr>\n",
       "      <th>3</th>\n",
       "      <td>1.2.410.200049.2.1.100.20000123.3.1.2021071711...</td>\n",
       "      <td>-2</td>\n",
       "      <td>-2</td>\n",
       "      <td>-2</td>\n",
       "      <td>-2</td>\n",
       "      <td>-2</td>\n",
       "      <td>-2</td>\n",
       "      <td>-2</td>\n",
       "      <td>-2</td>\n",
       "      <td>-2</td>\n",
       "      <td>...</td>\n",
       "      <td>-2</td>\n",
       "      <td>-2</td>\n",
       "      <td>-2</td>\n",
       "      <td>-2</td>\n",
       "      <td>-2</td>\n",
       "      <td>-2</td>\n",
       "      <td>-2</td>\n",
       "      <td>-2</td>\n",
       "      <td>-2</td>\n",
       "      <td>-2</td>\n",
       "    </tr>\n",
       "    <tr>\n",
       "      <th>4</th>\n",
       "      <td>1.2.410.200049.2.1.100.20000123.3.1.2021072411...</td>\n",
       "      <td>-2</td>\n",
       "      <td>-2</td>\n",
       "      <td>-2</td>\n",
       "      <td>-2</td>\n",
       "      <td>-2</td>\n",
       "      <td>-2</td>\n",
       "      <td>-2</td>\n",
       "      <td>-2</td>\n",
       "      <td>-2</td>\n",
       "      <td>...</td>\n",
       "      <td>-2</td>\n",
       "      <td>-2</td>\n",
       "      <td>-2</td>\n",
       "      <td>-2</td>\n",
       "      <td>-2</td>\n",
       "      <td>-2</td>\n",
       "      <td>-2</td>\n",
       "      <td>-2</td>\n",
       "      <td>-2</td>\n",
       "      <td>-2</td>\n",
       "    </tr>\n",
       "  </tbody>\n",
       "</table>\n",
       "<p>5 rows × 21 columns</p>\n",
       "</div>"
      ],
      "text/plain": [
       "                                         Image Index  Atelectasis  \\\n",
       "0  1.2.392.200046.100.14.448811584835067525818206...           -2   \n",
       "1  1.2.410.200049.2.1.100.20000123.3.1.2021111411...           -2   \n",
       "2  1.2.410.200049.2.1.100.20000123.3.1.2021122608...           -2   \n",
       "3  1.2.410.200049.2.1.100.20000123.3.1.2021071711...           -2   \n",
       "4  1.2.410.200049.2.1.100.20000123.3.1.2021072411...           -2   \n",
       "\n",
       "   Cardiomegaly  Consolidation  Edema  Emphysema  Fracture  Hernia  \\\n",
       "0            -2             -2     -2         -2        -2      -2   \n",
       "1            -2             -2     -2         -2        -2      -2   \n",
       "2            -2             -2     -2         -2        -2      -2   \n",
       "3            -2             -2     -2         -2        -2      -2   \n",
       "4            -2             -2     -2         -2        -2      -2   \n",
       "\n",
       "   Infiltration  Lung Opacity  ...  Nodule  Pleural Effusion  \\\n",
       "0            -2            -2  ...      -2                -2   \n",
       "1            -2            -2  ...      -2                -2   \n",
       "2            -2            -2  ...      -2                -2   \n",
       "3            -2            -2  ...      -2                -2   \n",
       "4            -2            -2  ...      -2                -2   \n",
       "\n",
       "   Pleural Thickening  Pneumonia  Pneumothorax  Scoliosis  Support Devices  \\\n",
       "0                  -2         -2            -2         -2               -2   \n",
       "1                  -2         -2            -2         -2               -2   \n",
       "2                  -2         -2            -2         -2               -2   \n",
       "3                  -2         -2            -2         -2               -2   \n",
       "4                  -2         -2            -2         -2               -2   \n",
       "\n",
       "   No Finding  Inspectra Lung Opacity v1  Tuberculosis  \n",
       "0          -2                         -2            -2  \n",
       "1          -2                         -2            -2  \n",
       "2          -2                         -2            -2  \n",
       "3          -2                         -2            -2  \n",
       "4          -2                         -2            -2  \n",
       "\n",
       "[5 rows x 21 columns]"
      ]
     },
     "execution_count": 62,
     "metadata": {},
     "output_type": "execute_result"
    }
   ],
   "source": [
    "test.head()"
   ]
  },
  {
   "cell_type": "code",
   "execution_count": 75,
   "metadata": {},
   "outputs": [
    {
     "data": {
      "text/plain": [
       "Index(['Image Index', 'Atelectasis', 'Cardiomegaly', 'Consolidation', 'Edema',\n",
       "       'Emphysema', 'Fracture', 'Hernia', 'Infiltration', 'Lung Opacity',\n",
       "       'Mass', 'Nodule', 'Pleural Effusion', 'Pleural Thickening', 'Pneumonia',\n",
       "       'Pneumothorax', 'Scoliosis', 'Support Devices', 'No Finding',\n",
       "       'Inspectra Lung Opacity v1', 'Tuberculosis'],\n",
       "      dtype='object')"
      ]
     },
     "execution_count": 75,
     "metadata": {},
     "output_type": "execute_result"
    }
   ],
   "source": [
    "test.columns"
   ]
  },
  {
   "cell_type": "code",
   "execution_count": 68,
   "metadata": {},
   "outputs": [
    {
     "data": {
      "text/plain": [
       "67"
      ]
     },
     "execution_count": 68,
     "metadata": {},
     "output_type": "execute_result"
    }
   ],
   "source": [
    "full = list(np.full((67,),-2))\n",
    "len(full)"
   ]
  },
  {
   "cell_type": "code",
   "execution_count": 72,
   "metadata": {},
   "outputs": [],
   "source": [
    "index = retrocardiac_atelectasis+retrocardiac_nodule+retrocardiac_opacity+Mediastinal_mass+small_nodule+basal_lung_atelec+subpleural_fibrosis+nodule_subpleural_basal"
   ]
  },
  {
   "cell_type": "code",
   "execution_count": 84,
   "metadata": {},
   "outputs": [],
   "source": [
    "Nodule = []\n",
    "Mass = []\n",
    "Infiltration =[]\n",
    "Atelectasis = []\n",
    "for i in index : \n",
    "    if i in retrocardiac_nodule or i in small_nodule or i in nodule_subpleural_basal :\n",
    "        Nodule.append(1.0)\n",
    "    else :\n",
    "        Nodule.append(0.0)\n",
    "        \n",
    "    if i in subpleural_fibrosis or i in retrocardiac_opacity:\n",
    "        Infiltration.append(1.0)\n",
    "    else :\n",
    "        Infiltration.append(0.0)\n",
    "        \n",
    "    if i in retrocardiac_atelectasis or i in basal_lung_atelec :\n",
    "        Atelectasis.append(1.0)\n",
    "    else :\n",
    "        Atelectasis.append(0.0)\n",
    "        \n",
    "    if i in Mediastinal_mass :\n",
    "        Mass.append(1.0)\n",
    "    else :\n",
    "        Mass.append(0.0)\n",
    "        "
   ]
  },
  {
   "cell_type": "code",
   "execution_count": 91,
   "metadata": {},
   "outputs": [],
   "source": [
    "dic = {'Image Index':index, 'Atelectasis':Atelectasis, 'Cardiomegaly':full, 'Consolidation':full, 'Edema':full,\n",
    "       'Emphysema':full, 'Fracture':full, 'Hernia':full, 'Infiltration':Infiltration, 'Lung Opacity':full,\n",
    "       'Mass':Mass, 'Nodule':Nodule, 'Pleural Effusion':full, 'Pleural Thickening':full, 'Pneumonia':full,\n",
    "       'Pneumothorax':full, 'Scoliosis':full, 'Support Devices':full, 'No Finding':full,\n",
    "       'Inspectra Lung Opacity v1':full, 'Tuberculosis':full}"
   ]
  },
  {
   "cell_type": "code",
   "execution_count": 94,
   "metadata": {},
   "outputs": [],
   "source": [
    "pd.DataFrame(dic).to_csv('67_Difficult_CXRs.csv')"
   ]
  },
  {
   "cell_type": "code",
   "execution_count": 102,
   "metadata": {},
   "outputs": [],
   "source": [
    "difficult_nodule = nodule_subpleural_basal + retrocardiac_nodule + small_nodule"
   ]
  },
  {
   "cell_type": "code",
   "execution_count": null,
   "metadata": {},
   "outputs": [],
   "source": [
    "difficult_cases = retrocardiac_atelectasis+retrocardiac_opacity+Mediastinal_mass+basal_lung_atelec+subpleural_fibrosis"
   ]
  },
  {
   "cell_type": "code",
   "execution_count": null,
   "metadata": {},
   "outputs": [],
   "source": [
    "image_path = '/home/storage/submarine-data/praram9/preprocess/ori_size/'\n",
    "# create a ZipFile object\n",
    "zipObj = ZipFile('difficult_nodule.zip', 'w')\n",
    "# Add multiple files to the zip\n",
    "for i in small_nodule :\n",
    "    zipObj.write(image_path + i )\n",
    "for i in nodule_subpleural_basal :\n",
    "    zipObj.write(image_path + i )\n",
    "for i in retrocardiac_nodule :\n",
    "    zipObj.write(image_path + i )\n",
    "zipObj.close()"
   ]
  },
  {
   "cell_type": "code",
   "execution_count": 113,
   "metadata": {},
   "outputs": [
    {
     "name": "stderr",
     "output_type": "stream",
     "text": [
      "100%|██████████| 27/27 [00:06<00:00,  3.76it/s]\n"
     ]
    }
   ],
   "source": [
    "df1 = df[df['Image Index'].isin(difficult_nodule)]\n",
    "from tqdm import tqdm\n",
    "import cv2\n",
    "import mlflow\n",
    "import getpass\n",
    "import pandas as pd\n",
    "from PIL import ImageFont, ImageDraw, Image\n",
    "import re\n",
    "import os\n",
    "\n",
    "def create_word_space(path_wordspace):\n",
    "        list_of_files = []\n",
    "        if path_wordspace[-4:] == '.txt':\n",
    "            input_is_file = True\n",
    "            list_of_files.append(path_wordspace)\n",
    "        else:\n",
    "            input_is_file = False\n",
    "            list_of_files = glob.glob(os.path.join(path_wordspace,'*'))\n",
    "            \n",
    "        wordspace = []\n",
    "        for filename in list_of_files:\n",
    "            with open(filename) as file:\n",
    "                lines = file.readlines()\n",
    "                lines = [line.rstrip() for line in lines]\n",
    "\n",
    "                for word in lines:\n",
    "                    # This condition for remove word with space\n",
    "                    # Because system report system not support it.\n",
    "                    if len(word.split(' ')) == 1:\n",
    "                        wordspace.append(word)\n",
    "        return wordspace\n",
    "        print('Key Word : ' + str(wordspace))\n",
    "\n",
    "\n",
    "def concat_with_report(_df):\n",
    "        for _, row in tqdm(_df.iterrows(), total=_df.shape[0]):\n",
    "            input_image_path = os.path.join('/home/storage/submarine-data/praram9/preprocess/ori_size', row['Image Index'])\n",
    "            \n",
    "            if os.path.exists(input_image_path):\n",
    "                image = cv2.imread(input_image_path, cv2.IMREAD_COLOR)\n",
    "                image = cv2.resize(image, (1024,1024))\n",
    "                per_image_width = image.shape[1] - text_gap\n",
    "\n",
    "                pad = np.zeros((padding_height,image.shape[1],3),np.uint8)\n",
    "                image_height_wo_pad = image.shape[0]\n",
    "\n",
    "                image = np.vstack([image,pad])\n",
    "                image = image[:,:,::-1]\n",
    "\n",
    "                image = Image.fromarray(image)\n",
    "\n",
    "                # write down score\n",
    "                draw = ImageDraw.Draw(image)\n",
    "\n",
    "                text = row[\"Reports\"]\n",
    "                x, y = (text_gap,image_height_wo_pad +text_gap)\n",
    "                lines = []\n",
    "                line = []\n",
    "                word_lines = re.split('[\\r\\n]+',text)\n",
    "                word_lines = [x.split() for x in word_lines]\n",
    "                \n",
    "                for words in word_lines:\n",
    "                    for word in words:\n",
    "                        new_line = ' '.join(line + [word])\n",
    "                        size = font.getsize( new_line)\n",
    "                        text_height = size[1]\n",
    "                        if size[0] <= per_image_width:\n",
    "                            line.append(word)\n",
    "                        else:\n",
    "                            lines.append(line)\n",
    "                            line = [word]\n",
    "                    if line:\n",
    "                        lines.append(line)\n",
    "                    line =[]\n",
    "    #                 print(lines)\n",
    "                lines = [' '.join(line) for line in lines if line]\n",
    "                height = y\n",
    "                word_space = wordspace\n",
    "            \n",
    "                for index, line in enumerate(lines):\n",
    "                    #print('LINE: '+str(line))\n",
    "                    #print('HIGHT: '+str(height))\n",
    "                    \n",
    "                    line_split = line.split(' ')\n",
    "                    line_array = []\n",
    "                    word_string = ''\n",
    "                    for word in line_split:\n",
    "                        key_state = False\n",
    "                        for key_word in word_space:\n",
    "                            \n",
    "                            # 1-Word of List IN String\n",
    "                            if key_word in word.lower():\n",
    "                                key_state = True\n",
    "                                \n",
    "                        # String IN List\n",
    "                        if word.lower() in fix_wordspace:\n",
    "                            key_state = True\n",
    "                        \n",
    "                        if key_state:\n",
    "                            if word_string == '':\n",
    "                                line_array.append((word, True))\n",
    "                            else:\n",
    "                                line_array.append((word_string, False))\n",
    "                                line_array.append((word,True))\n",
    "                                \n",
    "                            word_string = ''\n",
    "                        else:\n",
    "                            word_string = word_string + word + ' '\n",
    "                            \n",
    "                    if word_string != '':\n",
    "                        line_array.append((word_string, False))\n",
    "                    \n",
    "                    blank_word = ''\n",
    "                    count = 0 \n",
    "                    for values in line_array:\n",
    "                        semi_line = values[0]\n",
    "                        key_state = values[1]\n",
    "                        \n",
    "                        str_pixel_len = draw.textsize(blank_word, font)[0]\n",
    "                        offset_x, offset_y = font.getoffset(blank_word)\n",
    "                        str_pixel_len += offset_x\n",
    "                        \n",
    "                        if key_state:\n",
    "                            draw.text((x+ str_pixel_len, height), semi_line, font=bold_font, fill='red')\n",
    "                            semi_line += ' '\n",
    "                        else:\n",
    "                            draw.text((x + str_pixel_len, height), semi_line, font=font, fill='white')\n",
    "                        \n",
    "                        blank_word = blank_word + semi_line\n",
    "                        \n",
    "                        count += 1\n",
    "                        #print('ROUND '+str(count)+' : ' + str(str_pixel_len))\n",
    "                        \n",
    "                    #print()\n",
    "                    height += text_height\n",
    "\n",
    "                image = np.array(image) \n",
    "                image = image[:,:,::-1].copy()\n",
    "\n",
    "                out_path = os.path.join('/home/ds5/Chanoknant/Difficult_cases/picture',row['Image Index'])\n",
    "                if not os.path.exists(os.path.split(out_path)[0]):\n",
    "                    os.makedirs(os.path.split(out_path)[0])\n",
    "                \n",
    "                #fix_path = '/home/perceptra/submarine-project-code/abnormality/module_v3/image_with_report/'\n",
    "                \n",
    "                #cv2.imwrite(fix_path+'debug_images_w_text.png', image)\n",
    "                #raise Exception('END IMAGES...')\n",
    "                cv2.imwrite(out_path,image)\n",
    "                \n",
    "padding_height = 500\n",
    "font_size = 20\n",
    "text_gap = 20\n",
    "\n",
    "path_wordspace = \"/home/ds5/Chanoknant/Difficult_cases/nodule.txt\"\n",
    "# Path Word Space dont watch the enties word, but Fix Word Space dose.\n",
    "fix_wordspace = [\n",
    "            't.b.',\n",
    "            'tb'\n",
    "]\n",
    "font_path = \"/home/ds5/Chanoknant/Difficult_cases/Nunito-Regular.ttf\"\n",
    "font = ImageFont.truetype(font=font_path, size=font_size)\n",
    "\n",
    "bold_font_path = \"/home/ds5/Chanoknant/Difficult_cases/Nunito-Bold.ttf\"\n",
    "bold_font = ImageFont.truetype(font=bold_font_path, size=font_size)\n",
    "\n",
    "wordspace = create_word_space(path_wordspace)\n",
    "concat_with_report(df1)"
   ]
  },
  {
   "cell_type": "code",
   "execution_count": 114,
   "metadata": {},
   "outputs": [],
   "source": [
    "zip_img_path = '/home/ds5/Chanoknant/Difficult_cases/picture/'\n",
    "zip_name = 'difficult_nodule_w_report'\n",
    "\n",
    "zipObj = ZipFile(zip_name+'.zip', 'w')\n",
    "# Add multiple files to the zip\n",
    "for i in difficult_nodule :\n",
    "    zipObj.write(zip_img_path + i )\n",
    "zipObj.close()"
   ]
  },
  {
   "cell_type": "code",
   "execution_count": 115,
   "metadata": {},
   "outputs": [
    {
     "name": "stdout",
     "output_type": "stream",
     "text": [
      "sshpass -p perceptra2021 rsync -avze ssh /home/ds5/Chanoknant/Difficult_cases/difficult_nodule_w_report.zip perceptra-admin@192.168.111.100:/mnt/md0/cvat_share\n"
     ]
    },
    {
     "data": {
      "text/plain": [
       "<os._wrap_close at 0x7efc94803898>"
      ]
     },
     "execution_count": 115,
     "metadata": {},
     "output_type": "execute_result"
    }
   ],
   "source": [
    "import subprocess\n",
    "ssh_pass = 'sshpass -p perceptra2021'\n",
    "local_path = os.path.join('/home/ds5/Chanoknant/Difficult_cases/', zip_name+'.zip')\n",
    "rsync = \"rsync -avze ssh \"+local_path+\" perceptra-admin@192.168.111.100:/mnt/md0/cvat_share\"\n",
    "bashCommand = ssh_pass+\" \"+rsync\n",
    "print(bashCommand)\n",
    "os.popen(bashCommand)"
   ]
  },
  {
   "cell_type": "code",
   "execution_count": 118,
   "metadata": {},
   "outputs": [
    {
     "data": {
      "text/plain": [
       "Index(['Image Index', 'Accession Number', 'Acquisition Date', 'Month', 'PID',\n",
       "       'Inspectra Lung Opacity v1 Balanced Score', 'Mass Balanced Score',\n",
       "       'Nodule Balanced Score', 'Edema Balanced Score',\n",
       "       'Atelectasis Balanced Score', 'Cardiomegaly Balanced Score',\n",
       "       'Pleural Effusion Balanced Score', 'Tuberculosis Balanced Score',\n",
       "       'PID Index', 'Reports', 'Lung Opacity', 'Consolidation', 'Infiltration',\n",
       "       'Mass', 'Nodule', 'Edema', 'Atelectasis', 'Pleural Effusion',\n",
       "       'Pleural Thickening', 'Pneumonia', 'Pneumothorax', 'Cardiomegaly',\n",
       "       'Tuberculosis', 'Inspectra Lung Opacity v1', 'New Normal'],\n",
       "      dtype='object')"
      ]
     },
     "execution_count": 118,
     "metadata": {},
     "output_type": "execute_result"
    }
   ],
   "source": [
    "df1.columns"
   ]
  },
  {
   "cell_type": "code",
   "execution_count": 121,
   "metadata": {},
   "outputs": [],
   "source": [
    "df1[['Nodule Balanced Score','Nodule']].to_csv('Nodule_balanced_score.csv')"
   ]
  },
  {
   "cell_type": "code",
   "execution_count": null,
   "metadata": {},
   "outputs": [],
   "source": []
  }
 ],
 "metadata": {
  "kernelspec": {
   "display_name": "Python 3",
   "language": "python",
   "name": "python3"
  },
  "language_info": {
   "codemirror_mode": {
    "name": "ipython",
    "version": 3
   },
   "file_extension": ".py",
   "mimetype": "text/x-python",
   "name": "python",
   "nbconvert_exporter": "python",
   "pygments_lexer": "ipython3",
   "version": "3.6.9"
  }
 },
 "nbformat": 4,
 "nbformat_minor": 4
}
